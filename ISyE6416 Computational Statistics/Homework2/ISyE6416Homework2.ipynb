{
 "cells": [
  {
   "cell_type": "markdown",
   "metadata": {},
   "source": [
    "# ISyE6416 Homework2"
   ]
  },
  {
   "cell_type": "markdown",
   "metadata": {},
   "source": [
    "## Problem2 Logistic regression\n",
    "### (b) \n",
    "Use data logit-x.dat and logit-y.dat, which contain the predictors xi ∈ $R^2$ and response $y_{i} ∈ {0, 1}$ respectively for logistic regression problem.\n",
    "\n",
    "\n",
    "Implement Newton’s method for optimizing $l(a,b)$ and apply it to fit a logistic regression model to the data. Initialize Newton’s method with a = 0, b = 0. Plot the value of the log likelihood function versus iterations. What are the coefficients a and b from your fit?"
   ]
  },
  {
   "cell_type": "code",
   "execution_count": 1,
   "metadata": {},
   "outputs": [],
   "source": [
    "import pandas as pd\n",
    "import numpy as np\n",
    "import matplotlib.pyplot as plt\n",
    "import seaborn as sns\n",
    "%matplotlib inline"
   ]
  },
  {
   "cell_type": "code",
   "execution_count": 2,
   "metadata": {},
   "outputs": [],
   "source": [
    "# Read data\n",
    "df1 = pd.read_fwf(\"logit-x.dat\", header = None)\n",
    "df2 = pd.read_table(\"logit-y.dat\", header = None)"
   ]
  },
  {
   "cell_type": "code",
   "execution_count": 3,
   "metadata": {},
   "outputs": [
    {
     "data": {
      "text/html": [
       "<div>\n",
       "<style scoped>\n",
       "    .dataframe tbody tr th:only-of-type {\n",
       "        vertical-align: middle;\n",
       "    }\n",
       "\n",
       "    .dataframe tbody tr th {\n",
       "        vertical-align: top;\n",
       "    }\n",
       "\n",
       "    .dataframe thead th {\n",
       "        text-align: right;\n",
       "    }\n",
       "</style>\n",
       "<table border=\"1\" class=\"dataframe\">\n",
       "  <thead>\n",
       "    <tr style=\"text-align: right;\">\n",
       "      <th></th>\n",
       "      <th>0</th>\n",
       "      <th>1</th>\n",
       "    </tr>\n",
       "  </thead>\n",
       "  <tbody>\n",
       "    <tr>\n",
       "      <td>0</td>\n",
       "      <td>1.343250</td>\n",
       "      <td>-1.331148</td>\n",
       "    </tr>\n",
       "    <tr>\n",
       "      <td>1</td>\n",
       "      <td>1.820553</td>\n",
       "      <td>-0.634668</td>\n",
       "    </tr>\n",
       "    <tr>\n",
       "      <td>2</td>\n",
       "      <td>0.986321</td>\n",
       "      <td>-1.888576</td>\n",
       "    </tr>\n",
       "    <tr>\n",
       "      <td>3</td>\n",
       "      <td>1.944373</td>\n",
       "      <td>-1.635452</td>\n",
       "    </tr>\n",
       "    <tr>\n",
       "      <td>4</td>\n",
       "      <td>0.976734</td>\n",
       "      <td>-1.353315</td>\n",
       "    </tr>\n",
       "    <tr>\n",
       "      <td>...</td>\n",
       "      <td>...</td>\n",
       "      <td>...</td>\n",
       "    </tr>\n",
       "    <tr>\n",
       "      <td>94</td>\n",
       "      <td>4.774854</td>\n",
       "      <td>0.099415</td>\n",
       "    </tr>\n",
       "    <tr>\n",
       "      <td>95</td>\n",
       "      <td>5.827485</td>\n",
       "      <td>-0.690058</td>\n",
       "    </tr>\n",
       "    <tr>\n",
       "      <td>96</td>\n",
       "      <td>2.289474</td>\n",
       "      <td>1.970760</td>\n",
       "    </tr>\n",
       "    <tr>\n",
       "      <td>97</td>\n",
       "      <td>2.494152</td>\n",
       "      <td>1.415205</td>\n",
       "    </tr>\n",
       "    <tr>\n",
       "      <td>98</td>\n",
       "      <td>2.084795</td>\n",
       "      <td>1.356725</td>\n",
       "    </tr>\n",
       "  </tbody>\n",
       "</table>\n",
       "<p>99 rows × 2 columns</p>\n",
       "</div>"
      ],
      "text/plain": [
       "           0         1\n",
       "0   1.343250 -1.331148\n",
       "1   1.820553 -0.634668\n",
       "2   0.986321 -1.888576\n",
       "3   1.944373 -1.635452\n",
       "4   0.976734 -1.353315\n",
       "..       ...       ...\n",
       "94  4.774854  0.099415\n",
       "95  5.827485 -0.690058\n",
       "96  2.289474  1.970760\n",
       "97  2.494152  1.415205\n",
       "98  2.084795  1.356725\n",
       "\n",
       "[99 rows x 2 columns]"
      ]
     },
     "execution_count": 3,
     "metadata": {},
     "output_type": "execute_result"
    }
   ],
   "source": [
    "df1"
   ]
  },
  {
   "cell_type": "code",
   "execution_count": 4,
   "metadata": {},
   "outputs": [
    {
     "data": {
      "text/html": [
       "<div>\n",
       "<style scoped>\n",
       "    .dataframe tbody tr th:only-of-type {\n",
       "        vertical-align: middle;\n",
       "    }\n",
       "\n",
       "    .dataframe tbody tr th {\n",
       "        vertical-align: top;\n",
       "    }\n",
       "\n",
       "    .dataframe thead th {\n",
       "        text-align: right;\n",
       "    }\n",
       "</style>\n",
       "<table border=\"1\" class=\"dataframe\">\n",
       "  <thead>\n",
       "    <tr style=\"text-align: right;\">\n",
       "      <th></th>\n",
       "      <th>Y</th>\n",
       "    </tr>\n",
       "  </thead>\n",
       "  <tbody>\n",
       "    <tr>\n",
       "      <td>0</td>\n",
       "      <td>0.0</td>\n",
       "    </tr>\n",
       "    <tr>\n",
       "      <td>1</td>\n",
       "      <td>0.0</td>\n",
       "    </tr>\n",
       "    <tr>\n",
       "      <td>2</td>\n",
       "      <td>0.0</td>\n",
       "    </tr>\n",
       "    <tr>\n",
       "      <td>3</td>\n",
       "      <td>0.0</td>\n",
       "    </tr>\n",
       "    <tr>\n",
       "      <td>4</td>\n",
       "      <td>0.0</td>\n",
       "    </tr>\n",
       "    <tr>\n",
       "      <td>...</td>\n",
       "      <td>...</td>\n",
       "    </tr>\n",
       "    <tr>\n",
       "      <td>94</td>\n",
       "      <td>1.0</td>\n",
       "    </tr>\n",
       "    <tr>\n",
       "      <td>95</td>\n",
       "      <td>1.0</td>\n",
       "    </tr>\n",
       "    <tr>\n",
       "      <td>96</td>\n",
       "      <td>1.0</td>\n",
       "    </tr>\n",
       "    <tr>\n",
       "      <td>97</td>\n",
       "      <td>1.0</td>\n",
       "    </tr>\n",
       "    <tr>\n",
       "      <td>98</td>\n",
       "      <td>1.0</td>\n",
       "    </tr>\n",
       "  </tbody>\n",
       "</table>\n",
       "<p>99 rows × 1 columns</p>\n",
       "</div>"
      ],
      "text/plain": [
       "      Y\n",
       "0   0.0\n",
       "1   0.0\n",
       "2   0.0\n",
       "3   0.0\n",
       "4   0.0\n",
       "..  ...\n",
       "94  1.0\n",
       "95  1.0\n",
       "96  1.0\n",
       "97  1.0\n",
       "98  1.0\n",
       "\n",
       "[99 rows x 1 columns]"
      ]
     },
     "execution_count": 4,
     "metadata": {},
     "output_type": "execute_result"
    }
   ],
   "source": [
    "df2\n",
    "df2.rename(columns = {0:\"Y\"}, inplace = True)\n",
    "df2"
   ]
  },
  {
   "cell_type": "code",
   "execution_count": 5,
   "metadata": {},
   "outputs": [
    {
     "data": {
      "text/html": [
       "<div>\n",
       "<style scoped>\n",
       "    .dataframe tbody tr th:only-of-type {\n",
       "        vertical-align: middle;\n",
       "    }\n",
       "\n",
       "    .dataframe tbody tr th {\n",
       "        vertical-align: top;\n",
       "    }\n",
       "\n",
       "    .dataframe thead th {\n",
       "        text-align: right;\n",
       "    }\n",
       "</style>\n",
       "<table border=\"1\" class=\"dataframe\">\n",
       "  <thead>\n",
       "    <tr style=\"text-align: right;\">\n",
       "      <th></th>\n",
       "      <th>Y</th>\n",
       "      <th>0</th>\n",
       "      <th>1</th>\n",
       "    </tr>\n",
       "  </thead>\n",
       "  <tbody>\n",
       "    <tr>\n",
       "      <td>0</td>\n",
       "      <td>0.0</td>\n",
       "      <td>1.343250</td>\n",
       "      <td>-1.331148</td>\n",
       "    </tr>\n",
       "    <tr>\n",
       "      <td>1</td>\n",
       "      <td>0.0</td>\n",
       "      <td>1.820553</td>\n",
       "      <td>-0.634668</td>\n",
       "    </tr>\n",
       "    <tr>\n",
       "      <td>2</td>\n",
       "      <td>0.0</td>\n",
       "      <td>0.986321</td>\n",
       "      <td>-1.888576</td>\n",
       "    </tr>\n",
       "    <tr>\n",
       "      <td>3</td>\n",
       "      <td>0.0</td>\n",
       "      <td>1.944373</td>\n",
       "      <td>-1.635452</td>\n",
       "    </tr>\n",
       "    <tr>\n",
       "      <td>4</td>\n",
       "      <td>0.0</td>\n",
       "      <td>0.976734</td>\n",
       "      <td>-1.353315</td>\n",
       "    </tr>\n",
       "    <tr>\n",
       "      <td>...</td>\n",
       "      <td>...</td>\n",
       "      <td>...</td>\n",
       "      <td>...</td>\n",
       "    </tr>\n",
       "    <tr>\n",
       "      <td>94</td>\n",
       "      <td>1.0</td>\n",
       "      <td>4.774854</td>\n",
       "      <td>0.099415</td>\n",
       "    </tr>\n",
       "    <tr>\n",
       "      <td>95</td>\n",
       "      <td>1.0</td>\n",
       "      <td>5.827485</td>\n",
       "      <td>-0.690058</td>\n",
       "    </tr>\n",
       "    <tr>\n",
       "      <td>96</td>\n",
       "      <td>1.0</td>\n",
       "      <td>2.289474</td>\n",
       "      <td>1.970760</td>\n",
       "    </tr>\n",
       "    <tr>\n",
       "      <td>97</td>\n",
       "      <td>1.0</td>\n",
       "      <td>2.494152</td>\n",
       "      <td>1.415205</td>\n",
       "    </tr>\n",
       "    <tr>\n",
       "      <td>98</td>\n",
       "      <td>1.0</td>\n",
       "      <td>2.084795</td>\n",
       "      <td>1.356725</td>\n",
       "    </tr>\n",
       "  </tbody>\n",
       "</table>\n",
       "<p>99 rows × 3 columns</p>\n",
       "</div>"
      ],
      "text/plain": [
       "      Y         0         1\n",
       "0   0.0  1.343250 -1.331148\n",
       "1   0.0  1.820553 -0.634668\n",
       "2   0.0  0.986321 -1.888576\n",
       "3   0.0  1.944373 -1.635452\n",
       "4   0.0  0.976734 -1.353315\n",
       "..  ...       ...       ...\n",
       "94  1.0  4.774854  0.099415\n",
       "95  1.0  5.827485 -0.690058\n",
       "96  1.0  2.289474  1.970760\n",
       "97  1.0  2.494152  1.415205\n",
       "98  1.0  2.084795  1.356725\n",
       "\n",
       "[99 rows x 3 columns]"
      ]
     },
     "execution_count": 5,
     "metadata": {},
     "output_type": "execute_result"
    }
   ],
   "source": [
    "# combined tables\n",
    "combined = pd.concat([df2, df1], axis=1, sort=False)\n",
    "combined"
   ]
  },
  {
   "cell_type": "code",
   "execution_count": 6,
   "metadata": {},
   "outputs": [
    {
     "data": {
      "text/html": [
       "<div>\n",
       "<style scoped>\n",
       "    .dataframe tbody tr th:only-of-type {\n",
       "        vertical-align: middle;\n",
       "    }\n",
       "\n",
       "    .dataframe tbody tr th {\n",
       "        vertical-align: top;\n",
       "    }\n",
       "\n",
       "    .dataframe thead th {\n",
       "        text-align: right;\n",
       "    }\n",
       "</style>\n",
       "<table border=\"1\" class=\"dataframe\">\n",
       "  <thead>\n",
       "    <tr style=\"text-align: right;\">\n",
       "      <th></th>\n",
       "      <th>Y</th>\n",
       "      <th>x1</th>\n",
       "      <th>x2</th>\n",
       "    </tr>\n",
       "  </thead>\n",
       "  <tbody>\n",
       "    <tr>\n",
       "      <td>0</td>\n",
       "      <td>0.0</td>\n",
       "      <td>1.343250</td>\n",
       "      <td>-1.331148</td>\n",
       "    </tr>\n",
       "    <tr>\n",
       "      <td>1</td>\n",
       "      <td>0.0</td>\n",
       "      <td>1.820553</td>\n",
       "      <td>-0.634668</td>\n",
       "    </tr>\n",
       "    <tr>\n",
       "      <td>2</td>\n",
       "      <td>0.0</td>\n",
       "      <td>0.986321</td>\n",
       "      <td>-1.888576</td>\n",
       "    </tr>\n",
       "    <tr>\n",
       "      <td>3</td>\n",
       "      <td>0.0</td>\n",
       "      <td>1.944373</td>\n",
       "      <td>-1.635452</td>\n",
       "    </tr>\n",
       "    <tr>\n",
       "      <td>4</td>\n",
       "      <td>0.0</td>\n",
       "      <td>0.976734</td>\n",
       "      <td>-1.353315</td>\n",
       "    </tr>\n",
       "    <tr>\n",
       "      <td>...</td>\n",
       "      <td>...</td>\n",
       "      <td>...</td>\n",
       "      <td>...</td>\n",
       "    </tr>\n",
       "    <tr>\n",
       "      <td>94</td>\n",
       "      <td>1.0</td>\n",
       "      <td>4.774854</td>\n",
       "      <td>0.099415</td>\n",
       "    </tr>\n",
       "    <tr>\n",
       "      <td>95</td>\n",
       "      <td>1.0</td>\n",
       "      <td>5.827485</td>\n",
       "      <td>-0.690058</td>\n",
       "    </tr>\n",
       "    <tr>\n",
       "      <td>96</td>\n",
       "      <td>1.0</td>\n",
       "      <td>2.289474</td>\n",
       "      <td>1.970760</td>\n",
       "    </tr>\n",
       "    <tr>\n",
       "      <td>97</td>\n",
       "      <td>1.0</td>\n",
       "      <td>2.494152</td>\n",
       "      <td>1.415205</td>\n",
       "    </tr>\n",
       "    <tr>\n",
       "      <td>98</td>\n",
       "      <td>1.0</td>\n",
       "      <td>2.084795</td>\n",
       "      <td>1.356725</td>\n",
       "    </tr>\n",
       "  </tbody>\n",
       "</table>\n",
       "<p>99 rows × 3 columns</p>\n",
       "</div>"
      ],
      "text/plain": [
       "      Y        x1        x2\n",
       "0   0.0  1.343250 -1.331148\n",
       "1   0.0  1.820553 -0.634668\n",
       "2   0.0  0.986321 -1.888576\n",
       "3   0.0  1.944373 -1.635452\n",
       "4   0.0  0.976734 -1.353315\n",
       "..  ...       ...       ...\n",
       "94  1.0  4.774854  0.099415\n",
       "95  1.0  5.827485 -0.690058\n",
       "96  1.0  2.289474  1.970760\n",
       "97  1.0  2.494152  1.415205\n",
       "98  1.0  2.084795  1.356725\n",
       "\n",
       "[99 rows x 3 columns]"
      ]
     },
     "execution_count": 6,
     "metadata": {},
     "output_type": "execute_result"
    }
   ],
   "source": [
    "# change column names\n",
    "combined.rename(columns={ 0:\"x1\",1: \"x2\"}, inplace = True)\n",
    "combined"
   ]
  },
  {
   "cell_type": "code",
   "execution_count": 7,
   "metadata": {
    "scrolled": false
   },
   "outputs": [
    {
     "data": {
      "text/plain": [
       "(99, 3)"
      ]
     },
     "execution_count": 7,
     "metadata": {},
     "output_type": "execute_result"
    }
   ],
   "source": [
    "combined.shape"
   ]
  },
  {
   "cell_type": "code",
   "execution_count": 8,
   "metadata": {},
   "outputs": [],
   "source": [
    "#define Newton method Preparation\n",
    "def sigmoid(a_1, a_2, b, x_1, x_2):\n",
    "    z = (a_1 * x_1 + a_2 * x_2 + b).astype(\"float_\")                                              \n",
    "    return 1.0 / (1.0 + np.exp(-z))  \n",
    "def logLikelihood(x_1, x_2, y_prob, a_1, a_2, b):\n",
    "        return np.sum(y_prob * np.log(sigmoid(a_1, a_2, b, x_1, x_2)) \n",
    "                      + (1 - y_prob) * np.log(1 - sigmoid(a_1, a_2, b, x_1, x_2))) \n",
    "def gradient(x_1, x_2, y, a_1, a_2, b):                                                         \n",
    "    sigmoid_probs = sigmoid(a_1, a_2, b, x_1, x_2)                                        \n",
    "    return np.array([[np.sum((y - sigmoid_probs) * x_1),\n",
    "                      np.sum((y - sigmoid_probs) * x_2),\n",
    "                     np.sum((y - sigmoid_probs) * 1)]])  \n",
    "def Hessian(x_1, x_2, y, a_1, a_2, b):\n",
    "    sigmoid_probs = sigmoid(a_1, a_2, b, x_1, x_2)                                        \n",
    "    d11 = np.sum((sigmoid_probs * (1 - sigmoid_probs)) * x_1 * x_1)\n",
    "    d22 = np.sum((sigmoid_probs * (1 - sigmoid_probs)) * x_2 * x_2)                  \n",
    "    d33 = np.sum((sigmoid_probs * (1 - sigmoid_probs)) * 1 * 1)      \n",
    "    d12 = d21 = np.sum((sigmoid_probs * (1 - sigmoid_probs)) * x_1 * x_2)\n",
    "    d13 = d31 = np.sum((sigmoid_probs * (1 - sigmoid_probs)) * x_1 * 1)\n",
    "    d23 = d32 = np.sum((sigmoid_probs * (1 - sigmoid_probs)) * 1 * x_2)\n",
    "    H = np.array([[d11, d12, d13], [d21, d22, d23], [d31, d32, d33]])                                           \n",
    "    return H"
   ]
  },
  {
   "cell_type": "code",
   "execution_count": 9,
   "metadata": {},
   "outputs": [],
   "source": [
    "#define Newton method\n",
    "def newtons_method(x_1, x_2, y, s):                                                             \n",
    "    \"\"\"\n",
    "    :param x_1 (np.array(float)): Vector of independent variables\n",
    "    :param x_2 \n",
    "    :param y (np.array(boolean)): Response Variable(0 or 1)\n",
    "    :param s: step-size\n",
    "    :returns: np.array of logreg's parameters after convergence, [a_1, a_2, b]\n",
    "    \"\"\"\n",
    "\n",
    "    # Initialize log_likelihood & parameters                                                                   \n",
    "    a_1 = 0                                                                     \n",
    "    a_2 = 0\n",
    "    b = 0 # The intercept term\n",
    "    Δl = np.Infinity                                                                \n",
    "    l = logLikelihood(x_1, x_2, y, a_1, a_2, b)                                                                 \n",
    "    # Convergence Conditions                                                        \n",
    "    δ = .0000000001                                                                                                                            \n",
    "    i = 0  #iteration \n",
    "    iteration = []\n",
    "    likelihoodfunction = []\n",
    "    while abs(Δl) > δ:                                       \n",
    "        iteration.append(i)\n",
    "        i += 1\n",
    "        g = gradient(x_1, x_2, y, a_1, a_2, b)                                                   \n",
    "        hess = Hessian(x_1, x_2, y, a_1, a_2, b)                                                \n",
    "        H_inv = np.linalg.inv(hess)                                                 \n",
    "        # @ is syntactic sugar for np.dot(H_inv, g.T) / .T means transpose of vector(or matrix)\n",
    "        Δ = s * H_inv @ g.T                                                             \n",
    "        Δa_1 = Δ[0][0]                                                              \n",
    "        Δa_2 = Δ[1][0]\n",
    "        Δb = Δ[2][0]\n",
    "                                                                                    \n",
    "        # Perform our update step                                                    \n",
    "        a_1 += Δa_1                                                                 \n",
    "        a_2 += Δa_2\n",
    "        b += Δb\n",
    "                                                                                    \n",
    "        # Update the log-likelihood at each iteration \n",
    "        likelihoodfunction.append(l)\n",
    "        l_new = logLikelihood(x_1, x_2, y, a_1, a_2, b)                                                      \n",
    "        Δl = l - l_new                                                           \n",
    "        l = l_new\n",
    "    print(\"Iteration Times:\", i)\n",
    "    iteration = np.asarray(iteration)\n",
    "    likelihoodfunction = np.asarray(likelihoodfunction)\n",
    "    plt.plot(iteration, likelihoodfunction, 'bo', linestyle='dashed')\n",
    "    plt.xlabel('Iteration', fontsize=18)\n",
    "    plt.ylabel('Likelihood Function', fontsize=16)\n",
    "    plt.title(\"Iteration VS. Likelihood Function\", fontsize = 20)\n",
    "    plt.show()\n",
    "    return np.array([a_1, a_2, b])                                       "
   ]
  },
  {
   "cell_type": "code",
   "execution_count": 10,
   "metadata": {},
   "outputs": [],
   "source": [
    "y = combined.iloc[:,0]\n",
    "x_1 = combined.iloc[:,1]\n",
    "x_2 = combined.iloc[:,2]"
   ]
  },
  {
   "cell_type": "code",
   "execution_count": 11,
   "metadata": {},
   "outputs": [
    {
     "name": "stdout",
     "output_type": "stream",
     "text": [
      "Iteration Times: 1209\n"
     ]
    },
    {
     "data": {
      "image/png": "[encoded data removed]",
      "text/plain": [
       "<Figure size 432x288 with 1 Axes>"
      ]
     },
     "metadata": {
      "needs_background": "light"
     },
     "output_type": "display_data"
    },
    {
     "data": {
      "text/plain": [
       "array([ 0.76035875,  1.17192489, -2.62046738])"
      ]
     },
     "execution_count": 11,
     "metadata": {},
     "output_type": "execute_result"
    }
   ],
   "source": [
    "newtons_method(x_1, x_2, y, 0.01)"
   ]
  },
  {
   "cell_type": "code",
   "execution_count": 12,
   "metadata": {},
   "outputs": [
    {
     "name": "stdout",
     "output_type": "stream",
     "text": [
      "Iteration Times: 1131\n"
     ]
    },
    {
     "name": "stderr",
     "output_type": "stream",
     "text": [
      "/opt/anaconda3/lib/python3.7/site-packages/pandas/core/series.py:853: RuntimeWarning: divide by zero encountered in log\n",
      "  result = getattr(ufunc, method)(*inputs, **kwargs)\n",
      "/opt/anaconda3/lib/python3.7/site-packages/pandas/core/series.py:853: RuntimeWarning: overflow encountered in exp\n",
      "  result = getattr(ufunc, method)(*inputs, **kwargs)\n",
      "/opt/anaconda3/lib/python3.7/site-packages/ipykernel_launcher.py:42: RuntimeWarning: invalid value encountered in double_scalars\n"
     ]
    },
    {
     "data": {
      "image/png": "[encoded data removed]",
      "text/plain": [
       "<Figure size 432x288 with 1 Axes>"
      ]
     },
     "metadata": {
      "needs_background": "light"
     },
     "output_type": "display_data"
    },
    {
     "data": {
      "text/plain": [
       "array([ 4.82976424e+07, -4.72563527e+07, -2.60677446e+08])"
      ]
     },
     "execution_count": 12,
     "metadata": {},
     "output_type": "execute_result"
    }
   ],
   "source": [
    "newtons_method(x_1, x_2, y, 2)"
   ]
  },
  {
   "cell_type": "markdown",
   "metadata": {},
   "source": [
    "## Problem 3 Locally weighted linear regression\n",
    "### (c) \n",
    "Use data rx.dat and ry.dat, which contain the predictors $x_{i}$ and response $y_{i}$ respectively for our problem. Implement gradient descent for (unweighted) linear regression that we derived in class on this dataset, and plot on the same figure the data and the straight line resulting from your fit. (Remember to include the intercept term.)"
   ]
  },
  {
   "cell_type": "code",
   "execution_count": 191,
   "metadata": {},
   "outputs": [],
   "source": [
    "# Read data\n",
    "df1_lwlr = pd.read_fwf(\"rx.dat\", header = None)\n",
    "df2_lwlr = pd.read_table(\"ry.dat\", header = None)"
   ]
  },
  {
   "cell_type": "code",
   "execution_count": 145,
   "metadata": {
    "scrolled": true
   },
   "outputs": [
    {
     "data": {
      "text/plain": [
       "numpy.ndarray"
      ]
     },
     "execution_count": 145,
     "metadata": {},
     "output_type": "execute_result"
    }
   ],
   "source": [
    "x = np.c_[np.ones(df1_lwlr.shape[0]), df1_lwlr]"
   ]
  },
  {
   "cell_type": "code",
   "execution_count": 73,
   "metadata": {},
   "outputs": [
    {
     "data": {
      "text/plain": [
       "(100, 1)"
      ]
     },
     "execution_count": 73,
     "metadata": {},
     "output_type": "execute_result"
    }
   ],
   "source": [
    "y = df2_lwlr.values\n",
    "y.shape"
   ]
  },
  {
   "cell_type": "code",
   "execution_count": 120,
   "metadata": {},
   "outputs": [
    {
     "data": {
      "text/plain": [
       "(2, 100)"
      ]
     },
     "execution_count": 120,
     "metadata": {},
     "output_type": "execute_result"
    }
   ],
   "source": [
    "#linear regression\n",
    "XT = X.values.T\n",
    "XT.shape"
   ]
  },
  {
   "cell_type": "code",
   "execution_count": 121,
   "metadata": {
    "scrolled": true
   },
   "outputs": [
    {
     "data": {
      "text/plain": [
       "array([[0.32767539],\n",
       "       [0.17531122]])"
      ]
     },
     "execution_count": 121,
     "metadata": {},
     "output_type": "execute_result"
    }
   ],
   "source": [
    "theta = np.linalg.inv(XT @ X.values) @ XT @ y\n",
    "theta"
   ]
  },
  {
   "cell_type": "code",
   "execution_count": 165,
   "metadata": {},
   "outputs": [
    {
     "data": {
      "text/plain": [
       "array([[0.32675194],\n",
       "       [0.17540817]])"
      ]
     },
     "execution_count": 165,
     "metadata": {},
     "output_type": "execute_result"
    }
   ],
   "source": [
    "#Gradient Descent Method to check exact solution\n",
    "alpha = 0.01 # learning rate\n",
    "numiter = 1000\n",
    "x_l = np.c_[np.ones(df1_lwlr.shape[0]), df1_lwlr]\n",
    "theta = np.zeros((2, 1))\n",
    "y\n",
    "theta_history = []\n",
    "\n",
    "for i in range(numiter):\n",
    "    error = np.dot(x_l, theta) - y\n",
    "    delta = np.dot(x_l.T, error) / len(y)\n",
    "    theta = theta - alpha * delta\n",
    "    theta_history.append(theta)\n",
    "    \n",
    "theta_history[-1]"
   ]
  },
  {
   "cell_type": "code",
   "execution_count": 129,
   "metadata": {
    "scrolled": true
   },
   "outputs": [
    {
     "data": {
      "image/png": "[encoded data removed]",
      "text/plain": [
       "<Figure size 432x288 with 1 Axes>"
      ]
     },
     "metadata": {
      "needs_background": "light"
     },
     "output_type": "display_data"
    }
   ],
   "source": [
    "plt.scatter(df1_lwlr, df2_lwlr)\n",
    "plt.xlabel(\"X\")\n",
    "plt.ylabel(\"Y\")\n",
    "\n",
    "# x from 0 to 30\n",
    "x_seq = np.linspace(-5.0, 12.5, 50)\n",
    "y_line = []\n",
    "for i in x_seq:\n",
    "    y_line.append(0.32767539 * i + 0.17531122)\n",
    "plt.plot(x_seq, y_line, c = 'r')\n",
    "\n",
    "plt.show()"
   ]
  },
  {
   "cell_type": "markdown",
   "metadata": {},
   "source": [
    "### (d)"
   ]
  },
  {
   "cell_type": "code",
   "execution_count": 210,
   "metadata": {},
   "outputs": [
    {
     "data": {
      "text/plain": [
       "array([[0.39425856],\n",
       "       [0.41566406]])"
      ]
     },
     "execution_count": 210,
     "metadata": {},
     "output_type": "execute_result"
    }
   ],
   "source": [
    "y = df2_lwlr.values\n",
    "y.shape\n",
    "XT = X.values.T\n",
    "XT.shape\n",
    "theta_w = np.linalg.inv(XT @ w @X.values) @ XT @ w @ y\n",
    "theta_w"
   ]
  },
  {
   "cell_type": "code",
   "execution_count": 247,
   "metadata": {},
   "outputs": [
    {
     "data": {
      "text/plain": [
       "array([[0.38750031],\n",
       "       [0.41637431]])"
      ]
     },
     "execution_count": 247,
     "metadata": {},
     "output_type": "execute_result"
    },
    {
     "data": {
      "image/png": "[encoded data removed]",
      "text/plain": [
       "<Figure size 432x288 with 1 Axes>"
      ]
     },
     "metadata": {
      "needs_background": "light"
     },
     "output_type": "display_data"
    }
   ],
   "source": [
    "#Gradient Descent Method to check exact solution\n",
    "alpha = 0.01 # learning rate\n",
    "numiter = 1000\n",
    "x_l = np.c_[np.ones(df1_lwlr.shape[0]), df1_lwlr]\n",
    "theta = np.zeros((2, 1))\n",
    "y\n",
    "theta_history = []\n",
    "j_function = []\n",
    "\n",
    "w = np.zeros((100,100))\n",
    "xxx = x_l[:,1]\n",
    "\n",
    "def jfuntion(x, y, theta):\n",
    "    j = (np.dot(x, theta) - y).T @ w @ (np.dot(x, theta) - y)\n",
    "    return j\n",
    "\n",
    "\n",
    "#DIAGONAL WEIGHT MATRIX\n",
    "for i in range(len(y)):\n",
    "    w[i][i] = np.exp(-((xxx[i])**2)/(20))\n",
    "\n",
    "for i in range(numiter):\n",
    "    error = np.dot(x_l, theta) - y\n",
    "    weight_1 = np.dot(w, error)\n",
    "    prepos = np.dot(w, x_l)\n",
    "    delta = np.dot(prepos.T, error) / len(y)\n",
    "#     print(jfuntion(x, y, theta))\n",
    "    j_function.append(jfuntion(x, y, theta))\n",
    "    theta = theta - alpha * delta\n",
    "    theta_history.append(theta)\n",
    "\n",
    "clean = []\n",
    "for i in range(numiter):\n",
    "    clean.append(j_function[i][0][0])\n",
    "\n",
    "seq = [i for i in range(numiter)]\n",
    "plt.plot(seq, clean)\n",
    "plt.xlabel(\"Iterations\")\n",
    "plt.ylabel(\"J function\")\n",
    "theta_history[-1]    "
   ]
  },
  {
   "cell_type": "code",
   "execution_count": 217,
   "metadata": {},
   "outputs": [
    {
     "data": {
      "image/png": "[encoded data removed]",
      "text/plain": [
       "<Figure size 432x288 with 1 Axes>"
      ]
     },
     "metadata": {
      "needs_background": "light"
     },
     "output_type": "display_data"
    }
   ],
   "source": [
    "# J\n",
    "plt.scatter(df1_lwlr, df2_lwlr)\n",
    "plt.xlabel(\"X\")\n",
    "plt.ylabel(\"Y\")\n",
    "\n",
    "# x from 0 to 30\n",
    "x_seq = np.linspace(-5.0, 12.5, 50)\n",
    "y_line = []\n",
    "\n",
    "def Helperfunction(beta_0, beta_1, i):\n",
    "    return  (1/2) * np.exp(-(i) ** 2/(20)) * (beta_0 * i + beta_1)\n",
    "\n",
    "for i in x_seq:\n",
    "    y_line.append(Helperfunction(0.39425856, 0.41566406, i))\n",
    "plt.plot(x_seq, y_line, c = 'r')\n",
    "\n",
    "plt.show()"
   ]
  }
 ],
 "metadata": {
  "kernelspec": {
   "display_name": "Python 3",
   "language": "python",
   "name": "python3"
  },
  "language_info": {
   "codemirror_mode": {
    "name": "ipython",
    "version": 3
   },
   "file_extension": ".py",
   "mimetype": "text/x-python",
   "name": "python",
   "nbconvert_exporter": "python",
   "pygments_lexer": "ipython3",
   "version": "3.7.4"
  }
 },
 "nbformat": 4,
 "nbformat_minor": 2
}
