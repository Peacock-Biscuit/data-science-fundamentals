{
 "cells": [
  {
   "cell_type": "markdown",
   "metadata": {},
   "source": [
    "# ISyE 6416 Bisection Algorithm Homework 1\n",
    "\n",
    "## Problem 1 (b)"
   ]
  },
  {
   "cell_type": "code",
   "execution_count": 2,
   "metadata": {},
   "outputs": [],
   "source": [
    "from scipy.stats import t\n",
    "import matplotlib.pyplot as plt"
   ]
  },
  {
   "cell_type": "code",
   "execution_count": 13,
   "metadata": {},
   "outputs": [],
   "source": [
    "def bisection(f,a,b):\n",
    "    '''Approximate solution of f(x)=0 on interval [a,b] by bisection method.\n",
    "    ----------\n",
    "    f : function\n",
    "        The function for which we are trying to approximate a solution f(x)=0.\n",
    "    a,b : numbers\n",
    "        The interval in which to search for a solution. The function returns\n",
    "        None if f(a)*f(b) >= 0 since a solution is not guaranteed.\n",
    "    Returns\n",
    "    -------\n",
    "    x_N : number\n",
    "        The midpoint of the Nth interval computed by the bisection method. The\n",
    "        initial interval [a_0,b_0] is given by [a,b]. If f(m_n) == 0 for some\n",
    "        midpoint m_n = (a_n + b_n)/2, then the function returns this solution.\n",
    "        If all signs of values f(a_n), f(b_n) and f(m_n) are the same at any\n",
    "        iteration, the bisection method fails and return None.\n",
    "    --------\n",
    "    '''\n",
    "    if f(a)*f(b) >= 0:\n",
    "        print(\"Bisection method fails.\")\n",
    "        return None\n",
    "    a_n = a\n",
    "    b_n = b\n",
    "    iteration = 0\n",
    "    while (b - a > (10 ** -4)):\n",
    "        m_n = (a_n + b_n)/2\n",
    "        f_m_n = f(m_n)\n",
    "        if f(a_n)*f_m_n < 0:\n",
    "            a_n = a_n\n",
    "            b_n = m_n\n",
    "        elif f(b_n)*f_m_n < 0:\n",
    "            a_n = m_n\n",
    "            b_n = b_n\n",
    "        elif f_m_n == 0:\n",
    "            print(\"Found exact solution.\")\n",
    "            print(\"Iteration times: \", iteration)\n",
    "            print(\"Interval is: \", a_n, b_n)\n",
    "            return 'Solution point is: ', m_n\n",
    "        else:\n",
    "            print(\"Bisection method fails.\")\n",
    "            print(\"Iteration times: \", iteration)\n",
    "            return None\n",
    "        iteration += 1\n",
    "    return (a_n + b_n)/2"
   ]
  },
  {
   "cell_type": "code",
   "execution_count": 14,
   "metadata": {
    "scrolled": true
   },
   "outputs": [
    {
     "name": "stdout",
     "output_type": "stream",
     "text": [
      "Found exact solution.\n",
      "Iteration times:  48\n",
      "Interval is:  2.0150483733330207 2.0150483733330256\n"
     ]
    },
    {
     "data": {
      "text/plain": [
       "('Solution point is: ', 2.0150483733330233)"
      ]
     },
     "execution_count": 14,
     "metadata": {},
     "output_type": "execute_result"
    }
   ],
   "source": [
    "f = lambda x: t.cdf(x, df = 5, loc=0, scale=1) - 0.95\n",
    "bisection(f, 1.291,  2.582)"
   ]
  }
 ],
 "metadata": {
  "kernelspec": {
   "display_name": "Python 3",
   "language": "python",
   "name": "python3"
  },
  "language_info": {
   "codemirror_mode": {
    "name": "ipython",
    "version": 3
   },
   "file_extension": ".py",
   "mimetype": "text/x-python",
   "name": "python",
   "nbconvert_exporter": "python",
   "pygments_lexer": "ipython3",
   "version": "3.7.4"
  }
 },
 "nbformat": 4,
 "nbformat_minor": 2
}
