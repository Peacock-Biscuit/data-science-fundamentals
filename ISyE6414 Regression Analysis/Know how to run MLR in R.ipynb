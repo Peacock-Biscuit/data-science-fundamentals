{
 "cells": [
  {
   "cell_type": "markdown",
   "metadata": {},
   "source": [
    "# R: Using Multiple Linear Regression"
   ]
  },
  {
   "cell_type": "markdown",
   "metadata": {},
   "source": [
    "## Read Data"
   ]
  },
  {
   "cell_type": "code",
   "execution_count": 1,
   "metadata": {},
   "outputs": [],
   "source": [
    "chmiss <- read.csv(file=\"chmiss.csv\", header=TRUE, sep=\",\")"
   ]
  },
  {
   "cell_type": "markdown",
   "metadata": {},
   "source": [
    "## Clean Data"
   ]
  },
  {
   "cell_type": "code",
   "execution_count": 2,
   "metadata": {},
   "outputs": [],
   "source": [
    "x <- na.omit(chmiss)"
   ]
  },
  {
   "cell_type": "markdown",
   "metadata": {},
   "source": [
    "## Run Multiple Linear Regression"
   ]
  },
  {
   "cell_type": "code",
   "execution_count": 3,
   "metadata": {},
   "outputs": [
    {
     "data": {
      "text/plain": [
       "\n",
       "Call:\n",
       "lm(formula = income ~ fire + theft, data = x)\n",
       "\n",
       "Coefficients:\n",
       "(Intercept)         fire        theft  \n",
       "   11.50483     -0.23797      0.07071  \n"
      ]
     },
     "metadata": {},
     "output_type": "display_data"
    }
   ],
   "source": [
    "mlr <- lm(formula = income ~ fire + theft, data = x)\n",
    "mlr"
   ]
  },
  {
   "cell_type": "markdown",
   "metadata": {},
   "source": [
    "From this output, we can determine that the intercept is 12.13278, the coefficient for the fires per 100 housing units is -0.22447, and the coefficient for number of theft per 1000 population is 0.04237. Therefore, the complete regression equation is Median Family Income = 12.13278 -0.22447 * Fires + 0.04237 * Number of theft. This equation tells us that the predicted median family income will decrease by 0.22447 income for every one percent increase in the fires per 100 housing units and 0.04237 income for every one in theft. "
   ]
  },
  {
   "cell_type": "markdown",
   "metadata": {},
   "source": [
    "## Summarizing The Models"
   ]
  },
  {
   "cell_type": "code",
   "execution_count": 4,
   "metadata": {},
   "outputs": [
    {
     "data": {
      "text/plain": [
       "\n",
       "Call:\n",
       "lm(formula = income ~ fire + theft, data = x)\n",
       "\n",
       "Residuals:\n",
       "    Min      1Q  Median      3Q     Max \n",
       "-3.8319 -1.2009 -0.0135  1.3822  7.2898 \n",
       "\n",
       "Coefficients:\n",
       "            Estimate Std. Error t value Pr(>|t|)    \n",
       "(Intercept) 11.50483    1.00311  11.469 3.17e-11 ***\n",
       "fire        -0.23797    0.05609  -4.242 0.000285 ***\n",
       "theft        0.07071    0.03357   2.106 0.045826 *  \n",
       "---\n",
       "Signif. codes:  0 '***' 0.001 '**' 0.01 '*' 0.05 '.' 0.1 ' ' 1\n",
       "\n",
       "Residual standard error: 2.497 on 24 degrees of freedom\n",
       "Multiple R-squared:  0.4285,\tAdjusted R-squared:  0.3809 \n",
       "F-statistic: 8.999 on 2 and 24 DF,  p-value: 0.001213\n"
      ]
     },
     "metadata": {},
     "output_type": "display_data"
    }
   ],
   "source": [
    "summary(mlr)"
   ]
  }
 ],
 "metadata": {
  "kernelspec": {
   "display_name": "R",
   "language": "R",
   "name": "ir"
  },
  "language_info": {
   "codemirror_mode": "r",
   "file_extension": ".r",
   "mimetype": "text/x-r-source",
   "name": "R",
   "pygments_lexer": "r",
   "version": "3.6.0"
  }
 },
 "nbformat": 4,
 "nbformat_minor": 2
}
