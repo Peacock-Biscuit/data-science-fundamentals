{
 "cells": [
  {
   "cell_type": "markdown",
   "metadata": {},
   "source": [
    "# ISyE7406 Homework2"
   ]
  },
  {
   "cell_type": "markdown",
   "metadata": {},
   "source": [
    "## Problem1\n",
    "\n",
    "### (a) Data Preparation"
   ]
  },
  {
   "cell_type": "code",
   "execution_count": 1,
   "metadata": {},
   "outputs": [],
   "source": [
    "import pandas as pd\n",
    "import numpy as np\n",
    "import seaborn as sns\n",
    "import matplotlib.pyplot as plt\n",
    "%matplotlib inline"
   ]
  },
  {
   "cell_type": "code",
   "execution_count": 492,
   "metadata": {},
   "outputs": [],
   "source": [
    "df = pd.read_csv(\"http://www.isye.gatech.edu/~ymei/7406/Handouts/fat.csv\", sep = \",\", header = None)"
   ]
  },
  {
   "cell_type": "code",
   "execution_count": 493,
   "metadata": {},
   "outputs": [],
   "source": [
    "df.rename(columns = df.iloc[0], inplace = True)"
   ]
  },
  {
   "cell_type": "markdown",
   "metadata": {},
   "source": [
    "A data frame with 252 observations on the following 18 variables. [The detail is availbe on page 37](https://cran.r-project.org/web/packages/faraway/faraway.pdf)\n",
    "* brozek: Percent body fat using Brozek’s equation, 457/Density - 414.2 \n",
    "* siri: Percent body fat using Siri’s equation, 495/Density - 450 density Density (gm/$cm^3$)\n",
    "* age: Age (yrs)\n",
    "* weight: Weight (lbs)\n",
    "* height: Height (inches)\n",
    "* adipos: Adiposity index = Weight/Height$^2$ (kg/$m^2$)\n",
    "* free: Fat Free Weight = (1 - fraction of body fat) * Weight, using Brozek’s formula (lbs) \n",
    "* neck: Neck circumference (cm)\n",
    "* chest: Chest circumference (cm)\n",
    "* abdom: Abdomen circumference (cm) at the umbilicus and level with the iliac crest\n",
    "* hip: Hip circumference (cm)\n",
    "* thigh: Thigh circumference (cm)\n",
    "* knee: Knee circumference (cm)\n",
    "* ankle: Ankle circumference (cm)\n",
    "* biceps: Extended biceps circumference (cm)\n",
    "* forearm: Forearm circumference (cm)\n",
    "* wrist: Wrist circumference (cm) distal to the styloid processes"
   ]
  },
  {
   "cell_type": "code",
   "execution_count": 494,
   "metadata": {},
   "outputs": [],
   "source": [
    "updateddf = df.drop(df.index[0]).astype(float)"
   ]
  },
  {
   "cell_type": "markdown",
   "metadata": {},
   "source": [
    "### (b) Split Dataset\n",
    "Now we want to train our models, so we will split the dataset into testing examples and training examples.\n",
    "We will randomly select $30\\%$ of data as our testing sample."
   ]
  },
  {
   "cell_type": "code",
   "execution_count": 6,
   "metadata": {},
   "outputs": [],
   "source": [
    "from sklearn.model_selection import train_test_split"
   ]
  },
  {
   "cell_type": "code",
   "execution_count": 7,
   "metadata": {},
   "outputs": [],
   "source": [
    "X = updateddf.drop(['brozek'], axis = 1)\n",
    "y = updateddf[\"brozek\"]"
   ]
  },
  {
   "cell_type": "code",
   "execution_count": 343,
   "metadata": {},
   "outputs": [],
   "source": [
    "X_train, X_test, y_train, y_test = train_test_split(X, y, test_size=0.30, random_state = 42)"
   ]
  },
  {
   "cell_type": "markdown",
   "metadata": {},
   "source": [
    "### (c) Data Exploration\n",
    "This step is to know mote about our traning data."
   ]
  },
  {
   "cell_type": "code",
   "execution_count": 289,
   "metadata": {},
   "outputs": [
    {
     "data": {
      "text/plain": [
       "Index(['siri', 'density', 'age', 'weight', 'height', 'adipos', 'free', 'neck',\n",
       "       'chest', 'abdom', 'hip', 'thigh', 'knee', 'ankle', 'biceps', 'forearm',\n",
       "       'wrist'],\n",
       "      dtype='object')"
      ]
     },
     "execution_count": 289,
     "metadata": {},
     "output_type": "execute_result"
    }
   ],
   "source": [
    "X_train.columns"
   ]
  },
  {
   "cell_type": "code",
   "execution_count": 290,
   "metadata": {},
   "outputs": [],
   "source": [
    "interested_columns = ['neck','chest',\n",
    "                      'abdom', 'hip', 'thigh', 'knee', \n",
    "                      'ankle', 'biceps', 'forearm','wrist']"
   ]
  },
  {
   "cell_type": "code",
   "execution_count": 291,
   "metadata": {},
   "outputs": [
    {
     "data": {
      "text/html": [
       "<div>\n",
       "<style scoped>\n",
       "    .dataframe tbody tr th:only-of-type {\n",
       "        vertical-align: middle;\n",
       "    }\n",
       "\n",
       "    .dataframe tbody tr th {\n",
       "        vertical-align: top;\n",
       "    }\n",
       "\n",
       "    .dataframe thead th {\n",
       "        text-align: right;\n",
       "    }\n",
       "</style>\n",
       "<table border=\"1\" class=\"dataframe\">\n",
       "  <thead>\n",
       "    <tr style=\"text-align: right;\">\n",
       "      <th></th>\n",
       "      <th>neck</th>\n",
       "      <th>chest</th>\n",
       "      <th>abdom</th>\n",
       "      <th>hip</th>\n",
       "      <th>thigh</th>\n",
       "      <th>knee</th>\n",
       "      <th>ankle</th>\n",
       "      <th>biceps</th>\n",
       "      <th>forearm</th>\n",
       "      <th>wrist</th>\n",
       "    </tr>\n",
       "  </thead>\n",
       "  <tbody>\n",
       "    <tr>\n",
       "      <td>count</td>\n",
       "      <td>176.000000</td>\n",
       "      <td>176.000000</td>\n",
       "      <td>176.000000</td>\n",
       "      <td>176.000000</td>\n",
       "      <td>176.000000</td>\n",
       "      <td>176.000000</td>\n",
       "      <td>176.000000</td>\n",
       "      <td>176.000000</td>\n",
       "      <td>176.000000</td>\n",
       "      <td>176.000000</td>\n",
       "    </tr>\n",
       "    <tr>\n",
       "      <td>mean</td>\n",
       "      <td>37.990909</td>\n",
       "      <td>100.917045</td>\n",
       "      <td>92.928977</td>\n",
       "      <td>99.975000</td>\n",
       "      <td>59.354545</td>\n",
       "      <td>38.622159</td>\n",
       "      <td>23.041477</td>\n",
       "      <td>32.169318</td>\n",
       "      <td>28.645455</td>\n",
       "      <td>18.231250</td>\n",
       "    </tr>\n",
       "    <tr>\n",
       "      <td>std</td>\n",
       "      <td>2.393713</td>\n",
       "      <td>8.541084</td>\n",
       "      <td>10.704072</td>\n",
       "      <td>6.984288</td>\n",
       "      <td>5.164835</td>\n",
       "      <td>2.438950</td>\n",
       "      <td>1.585339</td>\n",
       "      <td>2.994504</td>\n",
       "      <td>2.036547</td>\n",
       "      <td>0.939234</td>\n",
       "    </tr>\n",
       "    <tr>\n",
       "      <td>min</td>\n",
       "      <td>31.100000</td>\n",
       "      <td>79.300000</td>\n",
       "      <td>69.400000</td>\n",
       "      <td>85.000000</td>\n",
       "      <td>47.200000</td>\n",
       "      <td>33.000000</td>\n",
       "      <td>19.700000</td>\n",
       "      <td>24.800000</td>\n",
       "      <td>21.000000</td>\n",
       "      <td>15.800000</td>\n",
       "    </tr>\n",
       "    <tr>\n",
       "      <td>25%</td>\n",
       "      <td>36.400000</td>\n",
       "      <td>94.000000</td>\n",
       "      <td>85.025000</td>\n",
       "      <td>95.475000</td>\n",
       "      <td>56.000000</td>\n",
       "      <td>37.275000</td>\n",
       "      <td>22.000000</td>\n",
       "      <td>30.100000</td>\n",
       "      <td>27.300000</td>\n",
       "      <td>17.600000</td>\n",
       "    </tr>\n",
       "    <tr>\n",
       "      <td>50%</td>\n",
       "      <td>38.000000</td>\n",
       "      <td>99.900000</td>\n",
       "      <td>91.550000</td>\n",
       "      <td>99.300000</td>\n",
       "      <td>59.100000</td>\n",
       "      <td>38.500000</td>\n",
       "      <td>22.800000</td>\n",
       "      <td>32.000000</td>\n",
       "      <td>28.800000</td>\n",
       "      <td>18.300000</td>\n",
       "    </tr>\n",
       "    <tr>\n",
       "      <td>75%</td>\n",
       "      <td>39.650000</td>\n",
       "      <td>106.100000</td>\n",
       "      <td>100.025000</td>\n",
       "      <td>103.950000</td>\n",
       "      <td>62.150000</td>\n",
       "      <td>40.000000</td>\n",
       "      <td>24.000000</td>\n",
       "      <td>34.325000</td>\n",
       "      <td>29.925000</td>\n",
       "      <td>18.800000</td>\n",
       "    </tr>\n",
       "    <tr>\n",
       "      <td>max</td>\n",
       "      <td>43.900000</td>\n",
       "      <td>128.300000</td>\n",
       "      <td>126.200000</td>\n",
       "      <td>125.600000</td>\n",
       "      <td>74.400000</td>\n",
       "      <td>46.000000</td>\n",
       "      <td>33.700000</td>\n",
       "      <td>39.100000</td>\n",
       "      <td>33.800000</td>\n",
       "      <td>21.400000</td>\n",
       "    </tr>\n",
       "  </tbody>\n",
       "</table>\n",
       "</div>"
      ],
      "text/plain": [
       "             neck       chest       abdom         hip       thigh        knee  \\\n",
       "count  176.000000  176.000000  176.000000  176.000000  176.000000  176.000000   \n",
       "mean    37.990909  100.917045   92.928977   99.975000   59.354545   38.622159   \n",
       "std      2.393713    8.541084   10.704072    6.984288    5.164835    2.438950   \n",
       "min     31.100000   79.300000   69.400000   85.000000   47.200000   33.000000   \n",
       "25%     36.400000   94.000000   85.025000   95.475000   56.000000   37.275000   \n",
       "50%     38.000000   99.900000   91.550000   99.300000   59.100000   38.500000   \n",
       "75%     39.650000  106.100000  100.025000  103.950000   62.150000   40.000000   \n",
       "max     43.900000  128.300000  126.200000  125.600000   74.400000   46.000000   \n",
       "\n",
       "            ankle      biceps     forearm       wrist  \n",
       "count  176.000000  176.000000  176.000000  176.000000  \n",
       "mean    23.041477   32.169318   28.645455   18.231250  \n",
       "std      1.585339    2.994504    2.036547    0.939234  \n",
       "min     19.700000   24.800000   21.000000   15.800000  \n",
       "25%     22.000000   30.100000   27.300000   17.600000  \n",
       "50%     22.800000   32.000000   28.800000   18.300000  \n",
       "75%     24.000000   34.325000   29.925000   18.800000  \n",
       "max     33.700000   39.100000   33.800000   21.400000  "
      ]
     },
     "execution_count": 291,
     "metadata": {},
     "output_type": "execute_result"
    }
   ],
   "source": [
    "X_train[interested_columns].describe()"
   ]
  },
  {
   "cell_type": "code",
   "execution_count": 495,
   "metadata": {},
   "outputs": [
    {
     "data": {
      "image/png": "[encoded data removed]",
      "text/plain": [
       "<Figure size 1080x1080 with 10 Axes>"
      ]
     },
     "metadata": {
      "needs_background": "light"
     },
     "output_type": "display_data"
    }
   ],
   "source": [
    "f, axes = plt.subplots(5, 2, figsize=(15, 15), sharex=True)\n",
    "bright=[\"#023EFF\", \"#FF7C00\", \"#1AC938\", \"#E8000B\", \"#8B2BE2\", \"#9F4800\", \"#F14CC1\",\n",
    "        \"#A3A3A3\", \"#FFC400\", \"#00D7FF\", \"#023EFF\", \"#1AC938\", \"#E8000B\", \"#8B2BE2\", \n",
    "        \"#FFC400\", \"#00D7FF\"]\n",
    "count = 0\n",
    "row = 0\n",
    "interested_columns = ['neck','chest',\n",
    "                      'abdom', 'hip', 'thigh', 'knee', \n",
    "                      'ankle', 'biceps', 'forearm','wrist']\n",
    "for i in range(10):\n",
    "    sns.distplot(X_train.loc[:,interested_columns[i]], color = bright[i], ax = axes[row, (i + 2) % 2], kde =False)\n",
    "    count += 1\n",
    "    if (count == 2):\n",
    "        count = 0\n",
    "        row += 1\n",
    " "
   ]
  },
  {
   "cell_type": "code",
   "execution_count": 233,
   "metadata": {},
   "outputs": [
    {
     "data": {
      "image/png": "[encoded data removed]",
      "text/plain": [
       "<Figure size 1368x1080 with 2 Axes>"
      ]
     },
     "metadata": {
      "needs_background": "light"
     },
     "output_type": "display_data"
    }
   ],
   "source": [
    "f = plt.figure(figsize=(19, 15))\n",
    "plt.matshow(X_train.corr(), fignum=f.number)\n",
    "plt.xticks(range(X_train.shape[1]), X_train.columns, fontsize=14, rotation=45)\n",
    "plt.yticks(range(X_train.shape[1]), X_train.columns, fontsize=14)\n",
    "cb = plt.colorbar()\n",
    "cb.ax.tick_params(labelsize=14)\n",
    "plt.title('Correlation Matrix', fontsize=16)"
   ]
  },
  {
   "cell_type": "markdown",
   "metadata": {},
   "source": [
    "### (d) Model Formulation\n",
    "We will build the following models based on our training data.\n",
    "1. Linear regression with all predictors.\n",
    "2. Linear regression with the best subset of k = 5 predictors variables;\n",
    "3. Linear regression with variables (stepwise) selected using AIC; \n",
    "4. Ridge regression;\n",
    "5. LASSO;\n",
    "6. Principal component regression;\n",
    "7. Partial least squares."
   ]
  },
  {
   "cell_type": "markdown",
   "metadata": {},
   "source": [
    "#### (1) Linear regression with all predictors"
   ]
  },
  {
   "cell_type": "code",
   "execution_count": 143,
   "metadata": {},
   "outputs": [],
   "source": [
    "from sklearn.linear_model import LinearRegression\n",
    "reg = LinearRegression().fit(X_train, y_train)"
   ]
  },
  {
   "cell_type": "code",
   "execution_count": 144,
   "metadata": {},
   "outputs": [
    {
     "data": {
      "text/plain": [
       "array([ 8.823e-01, -1.005e+01, -8.959e-04,  1.063e-02, -9.611e-04,\n",
       "       -2.011e-02, -1.406e-02,  8.665e-04,  7.161e-03, -3.645e-04,\n",
       "       -9.821e-03,  2.653e-02, -2.472e-02,  6.561e-03, -2.112e-02,\n",
       "        2.108e-02,  5.516e-02])"
      ]
     },
     "execution_count": 144,
     "metadata": {},
     "output_type": "execute_result"
    }
   ],
   "source": [
    "reg.coef_"
   ]
  },
  {
   "cell_type": "code",
   "execution_count": 145,
   "metadata": {},
   "outputs": [],
   "source": [
    "y_predict = reg.predict(X_test)"
   ]
  },
  {
   "cell_type": "code",
   "execution_count": 146,
   "metadata": {},
   "outputs": [
    {
     "data": {
      "text/plain": [
       "<matplotlib.collections.PathCollection at 0x1a285c3e90>"
      ]
     },
     "execution_count": 146,
     "metadata": {},
     "output_type": "execute_result"
    },
    {
     "data": {
      "image/png": "[encoded data removed]",
      "text/plain": [
       "<Figure size 432x288 with 1 Axes>"
      ]
     },
     "metadata": {
      "needs_background": "light"
     },
     "output_type": "display_data"
    }
   ],
   "source": [
    "plt.scatter(y_test , y_predict)"
   ]
  },
  {
   "cell_type": "code",
   "execution_count": 147,
   "metadata": {
    "scrolled": true
   },
   "outputs": [
    {
     "name": "stdout",
     "output_type": "stream",
     "text": [
      "MSE: 0.017203288325446306\n"
     ]
    }
   ],
   "source": [
    "from sklearn import metrics\n",
    "print('MSE:', metrics.mean_squared_error(y_test, y_predict))"
   ]
  },
  {
   "cell_type": "code",
   "execution_count": 496,
   "metadata": {
    "scrolled": true
   },
   "outputs": [
    {
     "name": "stderr",
     "output_type": "stream",
     "text": [
      "/opt/anaconda3/lib/python3.7/site-packages/numpy/core/fromnumeric.py:2495: FutureWarning: Method .ptp is deprecated and will be removed in a future version. Use numpy.ptp instead.\n",
      "  return ptp(axis=axis, out=out, **kwargs)\n"
     ]
    }
   ],
   "source": [
    "#Since sklearn package does not have summary report like R,\n",
    "#we import statsmodels package to get summary of the model\n",
    "import statsmodels.api as sm\n",
    "model_all = sm.OLS(y_train, sm.add_constant(X_train))\n",
    "results = model_all.fit()"
   ]
  },
  {
   "cell_type": "code",
   "execution_count": 307,
   "metadata": {},
   "outputs": [
    {
     "data": {
      "text/html": [
       "<div>\n",
       "<style scoped>\n",
       "    .dataframe tbody tr th:only-of-type {\n",
       "        vertical-align: middle;\n",
       "    }\n",
       "\n",
       "    .dataframe tbody tr th {\n",
       "        vertical-align: top;\n",
       "    }\n",
       "\n",
       "    .dataframe thead th {\n",
       "        text-align: right;\n",
       "    }\n",
       "</style>\n",
       "<table border=\"1\" class=\"dataframe\">\n",
       "  <thead>\n",
       "    <tr style=\"text-align: right;\">\n",
       "      <th></th>\n",
       "      <th>features</th>\n",
       "      <th>VIF Factor</th>\n",
       "    </tr>\n",
       "  </thead>\n",
       "  <tbody>\n",
       "    <tr>\n",
       "      <td>0</td>\n",
       "      <td>siri</td>\n",
       "      <td>246.8</td>\n",
       "    </tr>\n",
       "    <tr>\n",
       "      <td>1</td>\n",
       "      <td>density</td>\n",
       "      <td>3744.1</td>\n",
       "    </tr>\n",
       "    <tr>\n",
       "      <td>2</td>\n",
       "      <td>age</td>\n",
       "      <td>31.3</td>\n",
       "    </tr>\n",
       "    <tr>\n",
       "      <td>3</td>\n",
       "      <td>weight</td>\n",
       "      <td>4754.3</td>\n",
       "    </tr>\n",
       "    <tr>\n",
       "      <td>4</td>\n",
       "      <td>height</td>\n",
       "      <td>619.7</td>\n",
       "    </tr>\n",
       "    <tr>\n",
       "      <td>5</td>\n",
       "      <td>adipos</td>\n",
       "      <td>921.5</td>\n",
       "    </tr>\n",
       "    <tr>\n",
       "      <td>6</td>\n",
       "      <td>free</td>\n",
       "      <td>3943.0</td>\n",
       "    </tr>\n",
       "    <tr>\n",
       "      <td>7</td>\n",
       "      <td>neck</td>\n",
       "      <td>1027.6</td>\n",
       "    </tr>\n",
       "    <tr>\n",
       "      <td>8</td>\n",
       "      <td>chest</td>\n",
       "      <td>1749.0</td>\n",
       "    </tr>\n",
       "    <tr>\n",
       "      <td>9</td>\n",
       "      <td>abdom</td>\n",
       "      <td>1644.8</td>\n",
       "    </tr>\n",
       "    <tr>\n",
       "      <td>10</td>\n",
       "      <td>hip</td>\n",
       "      <td>2898.7</td>\n",
       "    </tr>\n",
       "    <tr>\n",
       "      <td>11</td>\n",
       "      <td>thigh</td>\n",
       "      <td>1096.5</td>\n",
       "    </tr>\n",
       "    <tr>\n",
       "      <td>12</td>\n",
       "      <td>knee</td>\n",
       "      <td>1210.1</td>\n",
       "    </tr>\n",
       "    <tr>\n",
       "      <td>13</td>\n",
       "      <td>ankle</td>\n",
       "      <td>436.8</td>\n",
       "    </tr>\n",
       "    <tr>\n",
       "      <td>14</td>\n",
       "      <td>biceps</td>\n",
       "      <td>419.2</td>\n",
       "    </tr>\n",
       "    <tr>\n",
       "      <td>15</td>\n",
       "      <td>forearm</td>\n",
       "      <td>657.4</td>\n",
       "    </tr>\n",
       "    <tr>\n",
       "      <td>16</td>\n",
       "      <td>wrist</td>\n",
       "      <td>1526.9</td>\n",
       "    </tr>\n",
       "  </tbody>\n",
       "</table>\n",
       "</div>"
      ],
      "text/plain": [
       "   features  VIF Factor\n",
       "0      siri       246.8\n",
       "1   density      3744.1\n",
       "2       age        31.3\n",
       "3    weight      4754.3\n",
       "4    height       619.7\n",
       "5    adipos       921.5\n",
       "6      free      3943.0\n",
       "7      neck      1027.6\n",
       "8     chest      1749.0\n",
       "9     abdom      1644.8\n",
       "10      hip      2898.7\n",
       "11    thigh      1096.5\n",
       "12     knee      1210.1\n",
       "13    ankle       436.8\n",
       "14   biceps       419.2\n",
       "15  forearm       657.4\n",
       "16    wrist      1526.9"
      ]
     },
     "execution_count": 307,
     "metadata": {},
     "output_type": "execute_result"
    }
   ],
   "source": [
    "#vif\n",
    "from statsmodels.stats.outliers_influence import variance_inflation_factor\n",
    "vif = pd.DataFrame()\n",
    "vif[\"features\"] = X.columns\n",
    "vif[\"VIF Factor\"] = [variance_inflation_factor(X_train.values, i) for i in range(X_train.shape[1])]\n",
    "vif.round(1)"
   ]
  },
  {
   "cell_type": "markdown",
   "metadata": {},
   "source": [
    "##### Monte Carlo Cross-Validation algorithm"
   ]
  },
  {
   "cell_type": "code",
   "execution_count": 148,
   "metadata": {},
   "outputs": [
    {
     "name": "stdout",
     "output_type": "stream",
     "text": [
      "Mean of MSE:  0.056954935750344396\n",
      "Variance of MSE:  0.002364554877274568\n"
     ]
    }
   ],
   "source": [
    "from sklearn.model_selection import ShuffleSplit\n",
    "\n",
    "def MonteCarloLM(data, y):\n",
    "    mse = []\n",
    "    rs = ShuffleSplit(n_splits = 100, test_size= .30, random_state=0)\n",
    "    for train_index, test_index in rs.split(data):\n",
    "        reg = LinearRegression().fit(data.iloc[train_index], y.iloc[train_index])\n",
    "        y_predict = reg.predict(data.iloc[test_index])\n",
    "        m = metrics.mean_squared_error(y.iloc[test_index], y_predict)\n",
    "        mse.append(m)\n",
    "    return mse\n",
    "\n",
    "MonteCarloLM(X, y)\n",
    "mean_mse = np.asarray(MonteCarloLM(X, y)).mean()\n",
    "mean_mse\n",
    "varRes = sum([(xi - mean_mse)**2 for xi in MonteCarloLM(X, y)]) / (np.asarray(MonteCarloLM(X, y)).size - 1)\n",
    "varRes\n",
    "print(\"Mean of MSE: \", mean_mse)\n",
    "print(\"Variance of MSE: \", varRes)"
   ]
  },
  {
   "cell_type": "markdown",
   "metadata": {},
   "source": [
    "#### (2) Linear regression with the best subset of k = 5 predictors variables"
   ]
  },
  {
   "cell_type": "code",
   "execution_count": 523,
   "metadata": {},
   "outputs": [],
   "source": [
    "# ```{r code}\n",
    "# library(leaps)\n",
    "# models <- regsubsets(brozek~., data = fat, nvmax = 5)\n",
    "# summary(models)\n",
    "# ```"
   ]
  },
  {
   "cell_type": "markdown",
   "metadata": {},
   "source": [
    "<img src=\"files/bestsubset.png\">"
   ]
  },
  {
   "cell_type": "code",
   "execution_count": 345,
   "metadata": {},
   "outputs": [],
   "source": [
    "X_train_5 = X_train.loc[:,[\"siri\", \"density\", \"thigh\", \"knee\", \"wrist\"]]"
   ]
  },
  {
   "cell_type": "code",
   "execution_count": 346,
   "metadata": {},
   "outputs": [],
   "source": [
    "from sklearn.linear_model import LinearRegression\n",
    "reg_5 = LinearRegression().fit(X_train_5, y_train)"
   ]
  },
  {
   "cell_type": "code",
   "execution_count": 347,
   "metadata": {},
   "outputs": [],
   "source": [
    "X_test_5 = X_test[[\"siri\", \"density\", \"thigh\", \"knee\", \"wrist\"]]"
   ]
  },
  {
   "cell_type": "code",
   "execution_count": 348,
   "metadata": {},
   "outputs": [],
   "source": [
    "y_predict_5 = reg_5.predict(X_test_5)"
   ]
  },
  {
   "cell_type": "code",
   "execution_count": 349,
   "metadata": {},
   "outputs": [
    {
     "data": {
      "text/plain": [
       "<matplotlib.collections.PathCollection at 0x1a2e0fcdd0>"
      ]
     },
     "execution_count": 349,
     "metadata": {},
     "output_type": "execute_result"
    },
    {
     "data": {
      "image/png": "[encoded data removed]",
      "text/plain": [
       "<Figure size 864x504 with 1 Axes>"
      ]
     },
     "metadata": {
      "needs_background": "light"
     },
     "output_type": "display_data"
    }
   ],
   "source": [
    "plt.scatter(y_test , y_predict_5)"
   ]
  },
  {
   "cell_type": "code",
   "execution_count": 350,
   "metadata": {
    "scrolled": false
   },
   "outputs": [
    {
     "name": "stdout",
     "output_type": "stream",
     "text": [
      "MSE: 0.012543780156631393\n"
     ]
    }
   ],
   "source": [
    "from sklearn import metrics\n",
    "print('MSE:', metrics.mean_squared_error(y_test, y_predict_5))"
   ]
  },
  {
   "cell_type": "code",
   "execution_count": 497,
   "metadata": {},
   "outputs": [],
   "source": [
    "model_5 = sm.OLS(y_train, sm.add_constant(X_train_5))\n",
    "results_5 = model_5.fit()"
   ]
  },
  {
   "cell_type": "code",
   "execution_count": 353,
   "metadata": {},
   "outputs": [
    {
     "data": {
      "text/html": [
       "<div>\n",
       "<style scoped>\n",
       "    .dataframe tbody tr th:only-of-type {\n",
       "        vertical-align: middle;\n",
       "    }\n",
       "\n",
       "    .dataframe tbody tr th {\n",
       "        vertical-align: top;\n",
       "    }\n",
       "\n",
       "    .dataframe thead th {\n",
       "        text-align: right;\n",
       "    }\n",
       "</style>\n",
       "<table border=\"1\" class=\"dataframe\">\n",
       "  <thead>\n",
       "    <tr style=\"text-align: right;\">\n",
       "      <th></th>\n",
       "      <th>features</th>\n",
       "      <th>VIF Factor</th>\n",
       "    </tr>\n",
       "  </thead>\n",
       "  <tbody>\n",
       "    <tr>\n",
       "      <td>0</td>\n",
       "      <td>siri</td>\n",
       "      <td>11.7</td>\n",
       "    </tr>\n",
       "    <tr>\n",
       "      <td>1</td>\n",
       "      <td>density</td>\n",
       "      <td>419.7</td>\n",
       "    </tr>\n",
       "    <tr>\n",
       "      <td>2</td>\n",
       "      <td>thigh</td>\n",
       "      <td>373.8</td>\n",
       "    </tr>\n",
       "    <tr>\n",
       "      <td>3</td>\n",
       "      <td>knee</td>\n",
       "      <td>862.9</td>\n",
       "    </tr>\n",
       "    <tr>\n",
       "      <td>4</td>\n",
       "      <td>wrist</td>\n",
       "      <td>740.2</td>\n",
       "    </tr>\n",
       "  </tbody>\n",
       "</table>\n",
       "</div>"
      ],
      "text/plain": [
       "  features  VIF Factor\n",
       "0     siri        11.7\n",
       "1  density       419.7\n",
       "2    thigh       373.8\n",
       "3     knee       862.9\n",
       "4    wrist       740.2"
      ]
     },
     "execution_count": 353,
     "metadata": {},
     "output_type": "execute_result"
    }
   ],
   "source": [
    "#vif\n",
    "from statsmodels.stats.outliers_influence import variance_inflation_factor\n",
    "vif_5 = pd.DataFrame()\n",
    "vif_5[\"features\"] = X_train_5.columns\n",
    "vif_5[\"VIF Factor\"] = [variance_inflation_factor(X_train_5.values, i) for i in range(X_train_5.shape[1])]\n",
    "vif_5.round(1)"
   ]
  },
  {
   "cell_type": "markdown",
   "metadata": {},
   "source": [
    "##### Monte Carlo Cross-Validation algorithm"
   ]
  },
  {
   "cell_type": "code",
   "execution_count": 354,
   "metadata": {},
   "outputs": [
    {
     "name": "stdout",
     "output_type": "stream",
     "text": [
      "Mean of MSE:  0.03959030028777379\n",
      "Variance of MSE:  0.0010734174658907293\n"
     ]
    }
   ],
   "source": [
    "X_5 = X[[\"siri\", \"density\", \"thigh\", \"knee\", \"wrist\"]] \n",
    "def MonteCarlo_5(data, y):\n",
    "    mse = []\n",
    "    rs = ShuffleSplit(n_splits = 100, test_size= .30, random_state=0)\n",
    "    for train_index, test_index in rs.split(data):\n",
    "        reg = LinearRegression().fit(data.iloc[train_index], y.iloc[train_index])\n",
    "        y_predict = reg.predict(data.iloc[test_index])\n",
    "        m = metrics.mean_squared_error(y.iloc[test_index], y_predict)\n",
    "        mse.append(m)\n",
    "    return mse\n",
    "\n",
    "MonteCarlo_5(X_5, y)\n",
    "mean_mse_5 = np.asarray(MonteCarlo_5(X_5, y)).mean()\n",
    "mean_mse_5\n",
    "varRes_5 = sum([(xi - mean_mse_5)**2 for xi in MonteCarlo_5(X_5, y)]) / (np.asarray(MonteCarlo_5(X_5, y)).size - 1)\n",
    "varRes_5\n",
    "print(\"Mean of MSE: \", mean_mse_5)\n",
    "print(\"Variance of MSE: \", varRes_5)"
   ]
  },
  {
   "cell_type": "markdown",
   "metadata": {},
   "source": [
    "#### (3) Linear regression with variables (stepwise) selected using AIC;"
   ]
  },
  {
   "cell_type": "code",
   "execution_count": 29,
   "metadata": {},
   "outputs": [],
   "source": [
    "from statsmodels.regression.linear_model import OLS\n",
    "from statsmodels.tools import add_constant\n",
    "\n",
    "def forward_selected(X_train, y_train):\n",
    "    \"\"\"Linear model designed by forward selection based on AIC.\n",
    "\n",
    "    Parameters:\n",
    "    -----------\n",
    "    X_train : pandas DataFrame with all possible predictors\n",
    "    y_train: response varaible\n",
    "    Returns:\n",
    "    --------\n",
    "    model: an \"optimal\" fitted statsmodels linear model\n",
    "           with an intercept selected by forward selection\n",
    "           evaluated by AIC\n",
    "    \"\"\"\n",
    "    selected = []\n",
    "    remaining = set(X_train.columns)\n",
    "    current_score = 0.0\n",
    "    best_new_score = 0.0\n",
    "    while len(remaining) > 0:\n",
    "        scores_with_candidates = []\n",
    "        for candidate in remaining:\n",
    "            score = OLS(y_train, add_constant(X_train[selected + [candidate]])).fit().aic\n",
    "            scores_with_candidates.append((score, candidate))\n",
    "        scores_with_candidates.sort()\n",
    "        best_new_score, best_candidate = scores_with_candidates[0][0], scores_with_candidates[0][1]\n",
    "        if current_score > best_new_score:\n",
    "            selected.append(best_candidate)\n",
    "            remaining.remove(best_candidate)\n",
    "            current_score = best_new_score\n",
    "        else:\n",
    "            remaining.remove(best_candidate)\n",
    "    model = OLS(y_train, add_constant(X_train[selected])).fit()\n",
    "    print(\"Columns: \", selected)\n",
    "    print(\"AIC: \", model.aic)\n",
    "    return model"
   ]
  },
  {
   "cell_type": "code",
   "execution_count": 30,
   "metadata": {},
   "outputs": [
    {
     "name": "stdout",
     "output_type": "stream",
     "text": [
      "Columns:  ['siri', 'density', 'thigh', 'knee', 'wrist', 'biceps', 'forearm', 'hip']\n",
      "AIC:  -77.08134119243368\n"
     ]
    }
   ],
   "source": [
    "reg_AIC = forward_selected(X_train, y_train)"
   ]
  },
  {
   "cell_type": "code",
   "execution_count": 35,
   "metadata": {},
   "outputs": [],
   "source": [
    "from sklearn.linear_model import LinearRegression\n",
    "reg_sklearn_aic = LinearRegression().fit(X_train[['siri', 'density', 'thigh', 'knee', 'wrist', 'biceps', 'forearm', 'hip']], \n",
    "                                         y_train)"
   ]
  },
  {
   "cell_type": "code",
   "execution_count": 38,
   "metadata": {},
   "outputs": [],
   "source": [
    "y_predict_aic = reg_sklearn_aic.predict(X_test[['siri', 'density', 'thigh', 'knee', 'wrist', 'biceps', 'forearm', 'hip']])"
   ]
  },
  {
   "cell_type": "code",
   "execution_count": 39,
   "metadata": {},
   "outputs": [
    {
     "data": {
      "text/plain": [
       "<matplotlib.collections.PathCollection at 0x1a2688f4d0>"
      ]
     },
     "execution_count": 39,
     "metadata": {},
     "output_type": "execute_result"
    },
    {
     "data": {
      "image/png": "[encoded data removed]",
      "text/plain": [
       "<Figure size 432x288 with 1 Axes>"
      ]
     },
     "metadata": {
      "needs_background": "light"
     },
     "output_type": "display_data"
    }
   ],
   "source": [
    "plt.scatter(y_test , y_predict_aic)"
   ]
  },
  {
   "cell_type": "code",
   "execution_count": 40,
   "metadata": {
    "scrolled": true
   },
   "outputs": [
    {
     "name": "stdout",
     "output_type": "stream",
     "text": [
      "MSE: 0.015962839168036366\n"
     ]
    }
   ],
   "source": [
    "from sklearn import metrics\n",
    "print('MSE:', metrics.mean_squared_error(y_test, y_predict_aic))"
   ]
  },
  {
   "cell_type": "code",
   "execution_count": 358,
   "metadata": {},
   "outputs": [
    {
     "data": {
      "text/html": [
       "<div>\n",
       "<style scoped>\n",
       "    .dataframe tbody tr th:only-of-type {\n",
       "        vertical-align: middle;\n",
       "    }\n",
       "\n",
       "    .dataframe tbody tr th {\n",
       "        vertical-align: top;\n",
       "    }\n",
       "\n",
       "    .dataframe thead th {\n",
       "        text-align: right;\n",
       "    }\n",
       "</style>\n",
       "<table border=\"1\" class=\"dataframe\">\n",
       "  <thead>\n",
       "    <tr style=\"text-align: right;\">\n",
       "      <th></th>\n",
       "      <th>features</th>\n",
       "      <th>VIF Factor</th>\n",
       "    </tr>\n",
       "  </thead>\n",
       "  <tbody>\n",
       "    <tr>\n",
       "      <td>0</td>\n",
       "      <td>siri</td>\n",
       "      <td>13.9</td>\n",
       "    </tr>\n",
       "    <tr>\n",
       "      <td>1</td>\n",
       "      <td>density</td>\n",
       "      <td>461.1</td>\n",
       "    </tr>\n",
       "    <tr>\n",
       "      <td>2</td>\n",
       "      <td>thigh</td>\n",
       "      <td>798.4</td>\n",
       "    </tr>\n",
       "    <tr>\n",
       "      <td>3</td>\n",
       "      <td>knee</td>\n",
       "      <td>903.4</td>\n",
       "    </tr>\n",
       "    <tr>\n",
       "      <td>4</td>\n",
       "      <td>wrist</td>\n",
       "      <td>957.4</td>\n",
       "    </tr>\n",
       "    <tr>\n",
       "      <td>5</td>\n",
       "      <td>biceps</td>\n",
       "      <td>393.7</td>\n",
       "    </tr>\n",
       "    <tr>\n",
       "      <td>6</td>\n",
       "      <td>forearm</td>\n",
       "      <td>555.4</td>\n",
       "    </tr>\n",
       "    <tr>\n",
       "      <td>7</td>\n",
       "      <td>hip</td>\n",
       "      <td>1517.4</td>\n",
       "    </tr>\n",
       "  </tbody>\n",
       "</table>\n",
       "</div>"
      ],
      "text/plain": [
       "  features  VIF Factor\n",
       "0     siri        13.9\n",
       "1  density       461.1\n",
       "2    thigh       798.4\n",
       "3     knee       903.4\n",
       "4    wrist       957.4\n",
       "5   biceps       393.7\n",
       "6  forearm       555.4\n",
       "7      hip      1517.4"
      ]
     },
     "execution_count": 358,
     "metadata": {},
     "output_type": "execute_result"
    }
   ],
   "source": [
    "#vif\n",
    "x_vif = X_train[['siri', 'density', 'thigh', 'knee', 'wrist', 'biceps', 'forearm', 'hip']]\n",
    "from statsmodels.stats.outliers_influence import variance_inflation_factor\n",
    "vif_aic = pd.DataFrame()\n",
    "vif_aic[\"features\"] = x_vif.columns\n",
    "vif_aic[\"VIF Factor\"] = [variance_inflation_factor(x_vif.values, i) for i in range(x_vif.shape[1])]\n",
    "vif_aic.round(1)"
   ]
  },
  {
   "cell_type": "code",
   "execution_count": 498,
   "metadata": {},
   "outputs": [],
   "source": [
    "model_aic = sm.OLS(y_train, sm.add_constant(X_train[['siri', 'density', 'thigh', 'knee', 'wrist', 'biceps', 'forearm', 'hip']]))\n",
    "results_aic = model_aic.fit()"
   ]
  },
  {
   "cell_type": "markdown",
   "metadata": {},
   "source": [
    "##### Monte Carlo Cross-Validation algorithm"
   ]
  },
  {
   "cell_type": "code",
   "execution_count": 160,
   "metadata": {},
   "outputs": [
    {
     "name": "stdout",
     "output_type": "stream",
     "text": [
      "Mean of MSE:  0.039922522365705836\n",
      "Variance of MSE:  0.0010167842742505922\n"
     ]
    }
   ],
   "source": [
    "X_Aic = X[['siri', 'density', 'thigh', 'knee', 'wrist', 'biceps', 'forearm', 'hip']] \n",
    "def MonteCarlo_aic(data, y):\n",
    "    mse = []\n",
    "    rs = ShuffleSplit(n_splits = 100, test_size= .30, random_state=0)\n",
    "    for train_index, test_index in rs.split(data):\n",
    "        reg = LinearRegression().fit(data.iloc[train_index], y.iloc[train_index])\n",
    "        y_predict = reg.predict(data.iloc[test_index])\n",
    "        m = metrics.mean_squared_error(y.iloc[test_index], y_predict)\n",
    "        mse.append(m)\n",
    "    return mse\n",
    "\n",
    "MonteCarlo_aic(X_Aic, y)\n",
    "mean_mse_aic = np.asarray(MonteCarlo_aic(X_Aic, y)).mean()\n",
    "mean_mse_aic\n",
    "varRes_aic = sum([(xi - mean_mse_aic)**2 for xi in MonteCarlo_aic(X_Aic, y)]) / (np.asarray(MonteCarlo_aic(X_Aic, y)).size - 1)\n",
    "varRes_aic\n",
    "print(\"Mean of MSE: \", mean_mse_aic)\n",
    "print(\"Variance of MSE: \", varRes_aic)"
   ]
  },
  {
   "cell_type": "markdown",
   "metadata": {},
   "source": [
    "#### (4) Ridge regression"
   ]
  },
  {
   "cell_type": "code",
   "execution_count": 524,
   "metadata": {
    "scrolled": true
   },
   "outputs": [
    {
     "name": "stdout",
     "output_type": "stream",
     "text": [
      "1e-06\n"
     ]
    }
   ],
   "source": [
    "###Selecting lambda\n",
    "scaler=StandardScaler()\n",
    "X_std=scaler.fit_transform(X_train)\n",
    "\n",
    "\n",
    "###Fit Ridge regression through cross validation\n",
    "regr_cv=RidgeCV(alphas=np.logspace(-6, 6, 13))\n",
    "model_cv=regr_cv.fit(X_std,y_train)\n",
    "\n",
    "print(model_cv.alpha_)"
   ]
  },
  {
   "cell_type": "code",
   "execution_count": 439,
   "metadata": {},
   "outputs": [
    {
     "data": {
      "text/plain": [
       "Ridge(alpha=1e-06, copy_X=True, fit_intercept=True, max_iter=None,\n",
       "      normalize=True, random_state=None, solver='auto', tol=0.001)"
      ]
     },
     "execution_count": 439,
     "metadata": {},
     "output_type": "execute_result"
    }
   ],
   "source": [
    "from sklearn.linear_model import Ridge\n",
    "ridge = Ridge(alpha=1e-06, normalize = True)\n",
    "ridge.fit(X_train_scale, y_train)"
   ]
  },
  {
   "cell_type": "code",
   "execution_count": 440,
   "metadata": {},
   "outputs": [],
   "source": [
    "y_predict_ridge = ridge.predict(X_test_scale)"
   ]
  },
  {
   "cell_type": "code",
   "execution_count": 441,
   "metadata": {},
   "outputs": [
    {
     "data": {
      "text/plain": [
       "<matplotlib.collections.PathCollection at 0x1a2bae8c10>"
      ]
     },
     "execution_count": 441,
     "metadata": {},
     "output_type": "execute_result"
    },
    {
     "data": {
      "image/png": "[encoded data removed]",
      "text/plain": [
       "<Figure size 864x504 with 1 Axes>"
      ]
     },
     "metadata": {
      "needs_background": "light"
     },
     "output_type": "display_data"
    }
   ],
   "source": [
    "plt.scatter(y_test , y_predict_ridge)"
   ]
  },
  {
   "cell_type": "code",
   "execution_count": 442,
   "metadata": {},
   "outputs": [
    {
     "name": "stdout",
     "output_type": "stream",
     "text": [
      "MSE: 0.0172047159550953\n"
     ]
    }
   ],
   "source": [
    "from sklearn import metrics\n",
    "print('MSE:', metrics.mean_squared_error(y_test, y_predict_ridge))"
   ]
  },
  {
   "cell_type": "code",
   "execution_count": 443,
   "metadata": {},
   "outputs": [
    {
     "name": "stdout",
     "output_type": "stream",
     "text": [
      "Mean of MSE:  0.057021516899364404\n",
      "Variance of MSE:  0.0023805604495063934\n"
     ]
    }
   ],
   "source": [
    "def MonteCarlo_Rid(data, y):\n",
    "    mse = []\n",
    "    rs = ShuffleSplit(n_splits = 100, test_size= .30, random_state=0)\n",
    "    for train_index, test_index in rs.split(data):\n",
    "        ridge = Ridge(alpha=1e-06, normalize=True).fit(data.iloc[train_index], y.iloc[train_index])\n",
    "        y_predict = ridge.predict(data.iloc[test_index])\n",
    "        m = metrics.mean_squared_error(y.iloc[test_index], y_predict)\n",
    "        mse.append(m)\n",
    "    return mse\n",
    "\n",
    "MonteCarlo_Rid(X_scale, y)\n",
    "mean_mse_rid = np.asarray(MonteCarlo_Rid(X_scale, y)).mean()\n",
    "mean_mse_rid\n",
    "varRes_rid = sum([(xi - mean_mse_rid)**2 for xi in MonteCarlo_Rid(X_scale, y)]) / (np.asarray(MonteCarlo_Rid(X_scale, y)).size - 1)\n",
    "varRes_rid\n",
    "print(\"Mean of MSE: \", mean_mse_rid)\n",
    "print(\"Variance of MSE: \", varRes_rid)"
   ]
  },
  {
   "cell_type": "markdown",
   "metadata": {},
   "source": [
    "#### (5) LASSO"
   ]
  },
  {
   "cell_type": "code",
   "execution_count": 444,
   "metadata": {},
   "outputs": [
    {
     "data": {
      "text/plain": [
       "0.016919591361378994"
      ]
     },
     "execution_count": 444,
     "metadata": {},
     "output_type": "execute_result"
    }
   ],
   "source": [
    "lassocv = LassoCV(alphas = None, cv = 10, max_iter = 100000, normalize = True)\n",
    "lassocv.fit(X_train, y_train)\n",
    "\n",
    "lasso.set_params(alpha=lassocv.alpha_)\n",
    "lasso.fit(X_train, y_train)\n",
    "mean_squared_error(y_test, lasso.predict(X_test))"
   ]
  },
  {
   "cell_type": "code",
   "execution_count": 450,
   "metadata": {},
   "outputs": [
    {
     "data": {
      "text/plain": [
       "0.0010700285112606837"
      ]
     },
     "execution_count": 450,
     "metadata": {},
     "output_type": "execute_result"
    }
   ],
   "source": [
    "lassocv.alpha_"
   ]
  },
  {
   "cell_type": "code",
   "execution_count": 451,
   "metadata": {},
   "outputs": [
    {
     "data": {
      "text/plain": [
       "Lasso(alpha=0.0010700285112606837, copy_X=True, fit_intercept=True,\n",
       "      max_iter=1000, normalize=False, positive=False, precompute=False,\n",
       "      random_state=None, selection='cyclic', tol=0.0001, warm_start=False)"
      ]
     },
     "execution_count": 451,
     "metadata": {},
     "output_type": "execute_result"
    }
   ],
   "source": [
    "from sklearn import linear_model\n",
    "lasso = linear_model.Lasso(alpha=0.0010700285112606837)\n",
    "lasso.fit(X_train, y_train)"
   ]
  },
  {
   "cell_type": "code",
   "execution_count": 452,
   "metadata": {},
   "outputs": [],
   "source": [
    "y_predict_lasso = lasso.predict(X_test)"
   ]
  },
  {
   "cell_type": "code",
   "execution_count": 453,
   "metadata": {},
   "outputs": [
    {
     "data": {
      "text/plain": [
       "<matplotlib.collections.PathCollection at 0x1a2cd87550>"
      ]
     },
     "execution_count": 453,
     "metadata": {},
     "output_type": "execute_result"
    },
    {
     "data": {
      "image/png": "[encoded data removed]",
      "text/plain": [
       "<Figure size 864x504 with 1 Axes>"
      ]
     },
     "metadata": {
      "needs_background": "light"
     },
     "output_type": "display_data"
    }
   ],
   "source": [
    "plt.scatter(y_test , y_predict_lasso)"
   ]
  },
  {
   "cell_type": "code",
   "execution_count": 454,
   "metadata": {},
   "outputs": [
    {
     "name": "stdout",
     "output_type": "stream",
     "text": [
      "MSE: 0.016919591361378994\n"
     ]
    }
   ],
   "source": [
    "from sklearn import metrics\n",
    "print('MSE:', metrics.mean_squared_error(y_test, y_predict_lasso))"
   ]
  },
  {
   "cell_type": "code",
   "execution_count": 457,
   "metadata": {},
   "outputs": [
    {
     "name": "stdout",
     "output_type": "stream",
     "text": [
      "Mean of MSE:  0.04268461684540084\n",
      "Variance of MSE:  0.0008978245726806492\n"
     ]
    }
   ],
   "source": [
    "def MonteCarlo_las(data, y):\n",
    "    mse = []\n",
    "    rs = ShuffleSplit(n_splits = 100, test_size= .30, random_state=0)\n",
    "    for train_index, test_index in rs.split(data):\n",
    "        las = linear_model.Lasso(alpha=0.0010700285112606837).fit(data.iloc[train_index], y.iloc[train_index])\n",
    "        y_predict = las.predict(data.iloc[test_index])\n",
    "        m = metrics.mean_squared_error(y.iloc[test_index], y_predict)\n",
    "        mse.append(m)\n",
    "    return mse\n",
    "\n",
    "MonteCarlo_las(X, y)\n",
    "mean_mse_las = np.asarray(MonteCarlo_las(X, y)).mean()\n",
    "mean_mse_las\n",
    "varRes_las = sum([(xi - mean_mse_las)**2 for xi in MonteCarlo_las(X, y)]) / (np.asarray(MonteCarlo_las(X, y)).size - 1)\n",
    "varRes_las\n",
    "print(\"Mean of MSE: \", mean_mse_las)\n",
    "print(\"Variance of MSE: \", varRes_las)"
   ]
  },
  {
   "cell_type": "markdown",
   "metadata": {},
   "source": [
    "#### (6) Principal component regression"
   ]
  },
  {
   "cell_type": "code",
   "execution_count": 69,
   "metadata": {},
   "outputs": [],
   "source": [
    "from sklearn import model_selection\n",
    "from sklearn.decomposition import PCA\n",
    "from sklearn.linear_model import LinearRegression\n",
    "from sklearn.cross_decomposition import PLSRegression, PLSSVD\n",
    "from sklearn.preprocessing import StandardScaler\n",
    "from sklearn.metrics import mean_squared_error"
   ]
  },
  {
   "cell_type": "code",
   "execution_count": 468,
   "metadata": {},
   "outputs": [
    {
     "data": {
      "text/plain": [
       "Text(0, 0.5, 'Variance expained')"
      ]
     },
     "execution_count": 468,
     "metadata": {},
     "output_type": "execute_result"
    },
    {
     "data": {
      "image/png": "[encoded data removed]",
      "text/plain": [
       "<Figure size 864x504 with 1 Axes>"
      ]
     },
     "metadata": {
      "needs_background": "light"
     },
     "output_type": "display_data"
    }
   ],
   "source": [
    "pca = PCA()\n",
    "X_reduced = pca.fit_transform(scale(X))\n",
    "\n",
    "a = pca.explained_variance_\n",
    "np.round(a, 2)\n",
    "b = pca.explained_variance_ratio_\n",
    "np.round(b, 2)\n",
    "\n",
    "list_num = [i + 1 for i in range(pca.explained_variance_ratio_.size)]\n",
    "plt.plot(list_num, pca.explained_variance_ratio_)\n",
    "plt.xlabel(\"Number of Components\")\n",
    "plt.ylabel(\"Variance expained\")"
   ]
  },
  {
   "cell_type": "code",
   "execution_count": 469,
   "metadata": {},
   "outputs": [],
   "source": [
    "from sklearn.preprocessing import StandardScaler \n",
    "sc = StandardScaler() \n",
    "  \n",
    "X_train_scale = sc.fit_transform(X_train) \n",
    "X_test_scale = sc.transform(X_test)"
   ]
  },
  {
   "cell_type": "code",
   "execution_count": 518,
   "metadata": {},
   "outputs": [],
   "source": [
    "pca_2_com = PCA(n_components=4)\n",
    "X_train_pc = pca_2_com.fit_transform(X_train_scale) \n",
    "X_test_pc = pca_2_com.transform(X_test_scale) "
   ]
  },
  {
   "cell_type": "code",
   "execution_count": 519,
   "metadata": {
    "scrolled": true
   },
   "outputs": [
    {
     "data": {
      "text/plain": [
       "LinearRegression(copy_X=True, fit_intercept=True, n_jobs=None, normalize=False)"
      ]
     },
     "execution_count": 519,
     "metadata": {},
     "output_type": "execute_result"
    }
   ],
   "source": [
    "# Train regression model on training data \n",
    "reg_PCA = LinearRegression()\n",
    "reg_PCA.fit(X_train_pc, y_train)"
   ]
  },
  {
   "cell_type": "code",
   "execution_count": 520,
   "metadata": {},
   "outputs": [
    {
     "data": {
      "text/plain": [
       "<matplotlib.collections.PathCollection at 0x1c32e1f190>"
      ]
     },
     "execution_count": 520,
     "metadata": {},
     "output_type": "execute_result"
    },
    {
     "data": {
      "image/png": "[encoded data removed]",
      "text/plain": [
       "<Figure size 864x504 with 1 Axes>"
      ]
     },
     "metadata": {
      "needs_background": "light"
     },
     "output_type": "display_data"
    }
   ],
   "source": [
    "pred_PCA = reg_PCA.predict(X_test_pc)\n",
    "plt.scatter(y_test , pred_PCA)"
   ]
  },
  {
   "cell_type": "code",
   "execution_count": 521,
   "metadata": {},
   "outputs": [
    {
     "name": "stdout",
     "output_type": "stream",
     "text": [
      "MSE: 2.8310999699978554\n"
     ]
    }
   ],
   "source": [
    "print('MSE:', metrics.mean_squared_error(y_test, pred_PCA))"
   ]
  },
  {
   "cell_type": "code",
   "execution_count": 522,
   "metadata": {},
   "outputs": [
    {
     "name": "stdout",
     "output_type": "stream",
     "text": [
      "Mean of MSE:  2.1887839241703357\n",
      "Variance of MSE:  0.24347965453854756\n"
     ]
    }
   ],
   "source": [
    "def MonteCarlo_pca(data, y):\n",
    "    mse = []\n",
    "    rs = ShuffleSplit(n_splits = 100, test_size= .30, random_state=0)\n",
    "    for train_index, test_index in rs.split(data):\n",
    "        pca_fit = LinearRegression().fit(data.iloc[train_index], y.iloc[train_index])\n",
    "        y_predict = pca_fit.predict(data.iloc[test_index])\n",
    "        m = metrics.mean_squared_error(y.iloc[test_index], y_predict)\n",
    "\n",
    "        mse.append(m)\n",
    "    return mse\n",
    "\n",
    "X_pca = PCA(n_components=4).fit_transform(scale(X))\n",
    "X_pca = pd.DataFrame(X_pca)\n",
    "MonteCarlo_pca(X_pca, y)\n",
    "mean_mse_pca = np.asarray(MonteCarlo_pca(X_pca, y)).mean()\n",
    "mean_mse_pca\n",
    "varRes_pca = sum([(xi - mean_mse_pca)**2 for xi in MonteCarlo_pca(X_pca, y)]) / (np.asarray(MonteCarlo_pca(X_pca, y)).size - 1)\n",
    "varRes_pca\n",
    "print(\"Mean of MSE: \", mean_mse_pca)\n",
    "print(\"Variance of MSE: \", varRes_pca)"
   ]
  },
  {
   "cell_type": "markdown",
   "metadata": {},
   "source": [
    "#### (7) Partial least squares."
   ]
  },
  {
   "cell_type": "code",
   "execution_count": 499,
   "metadata": {},
   "outputs": [
    {
     "data": {
      "text/plain": [
       "(-1, 17.8)"
      ]
     },
     "execution_count": 499,
     "metadata": {},
     "output_type": "execute_result"
    },
    {
     "data": {
      "image/png": "[encoded data removed]",
      "text/plain": [
       "<Figure size 864x504 with 1 Axes>"
      ]
     },
     "metadata": {
      "needs_background": "light"
     },
     "output_type": "display_data"
    }
   ],
   "source": [
    "n = len(X_train)\n",
    "\n",
    "# 10-fold CV, with shuffle\n",
    "kf_10 = model_selection.KFold(n_splits=10, shuffle=True, random_state=1)\n",
    "\n",
    "mse = []\n",
    "\n",
    "for i in np.arange(1, 18):\n",
    "    pls = PLSRegression(n_components=i)\n",
    "    score = model_selection.cross_val_score(pls, scale(X_train), y_train, cv=kf_10, scoring='neg_mean_squared_error').mean()\n",
    "    mse.append(-score)\n",
    "\n",
    "# Plot results\n",
    "plt.plot(np.arange(1, 18), np.array(mse), '-v')\n",
    "plt.xlabel('Number of principal components in regression')\n",
    "plt.ylabel('MSE')\n",
    "plt.xlim(xmin=-1)"
   ]
  },
  {
   "cell_type": "code",
   "execution_count": 513,
   "metadata": {},
   "outputs": [
    {
     "data": {
      "text/plain": [
       "3.4774298333638733"
      ]
     },
     "execution_count": 513,
     "metadata": {},
     "output_type": "execute_result"
    }
   ],
   "source": [
    "pls = PLSRegression(n_components=3)\n",
    "X_scale_train = pd.DataFrame(scale(X_train))\n",
    "pls.fit(X_scale_train, y_train)\n",
    "\n",
    "mean_squared_error(y_test, pls.predict(scale(X_test)))"
   ]
  },
  {
   "cell_type": "code",
   "execution_count": 512,
   "metadata": {},
   "outputs": [
    {
     "name": "stdout",
     "output_type": "stream",
     "text": [
      "Mean of MSE:  0.7628300775659542\n",
      "Variance of MSE:  0.1200100865178218\n"
     ]
    }
   ],
   "source": [
    "def MonteCarlo_pls(data, y):\n",
    "    mse = []\n",
    "    rs = ShuffleSplit(n_splits = 100, test_size= .30, random_state=0)\n",
    "    for train_index, test_index in rs.split(data):\n",
    "        pls_fit = PLSRegression(n_components=3).fit(data.iloc[train_index], y.iloc[train_index])\n",
    "        y_predict = pls_fit.predict(data.iloc[test_index])\n",
    "        m = metrics.mean_squared_error(y.iloc[test_index], y_predict)\n",
    "        mse.append(m)\n",
    "    return mse\n",
    "\n",
    "X_scale = pd.DataFrame(scale(X))\n",
    "MonteCarlo_pls(X_scale, y)\n",
    "mean_mse_pls = np.asarray(MonteCarlo_pls(X_scale, y)).mean()\n",
    "mean_mse_pls\n",
    "varRes_pls = sum([(xi - mean_mse_pls)**2 for xi in MonteCarlo_pls(X_scale, y)]) / ((np.asarray(MonteCarlo_pls(X_scale, y))).size - 1)\n",
    "varRes_pls\n",
    "print(\"Mean of MSE: \", mean_mse_pls)\n",
    "print(\"Variance of MSE: \", varRes_pls)"
   ]
  },
  {
   "cell_type": "code",
   "execution_count": null,
   "metadata": {},
   "outputs": [],
   "source": []
  }
 ],
 "metadata": {
  "kernelspec": {
   "display_name": "Python 3",
   "language": "python",
   "name": "python3"
  },
  "language_info": {
   "codemirror_mode": {
    "name": "ipython",
    "version": 3
   },
   "file_extension": ".py",
   "mimetype": "text/x-python",
   "name": "python",
   "nbconvert_exporter": "python",
   "pygments_lexer": "ipython3",
   "version": "3.7.4"
  }
 },
 "nbformat": 4,
 "nbformat_minor": 2
}
