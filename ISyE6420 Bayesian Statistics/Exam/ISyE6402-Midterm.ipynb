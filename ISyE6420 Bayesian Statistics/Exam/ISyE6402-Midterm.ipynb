{
 "cells": [
  {
   "cell_type": "code",
   "execution_count": 1,
   "metadata": {},
   "outputs": [],
   "source": [
    "import numpy as np\n",
    "import pandas as pd\n",
    "import matplotlib.pyplot as plt\n",
    "import seaborn as sns\n",
    "\n",
    "%matplotlib inline"
   ]
  },
  {
   "cell_type": "markdown",
   "metadata": {},
   "source": [
    "# 1. Bayes Network\n",
    "\n",
    "Incidences of diseases A and B (DA,DB) depend on the exposure (E). Disease A is additionally influenced by risk factors (R). Both diseases lead to symptoms (S). Results of the test for disease A (TA) are affected also by disease B. Positive test will be denoted as TA = 1, negative as TA = 0. The Bayes Network is shown in Figure 1. Needed conditional probabilities are shown in Table 1."
   ]
  },
  {
   "cell_type": "code",
   "execution_count": 2,
   "metadata": {},
   "outputs": [],
   "source": [
    "from pomegranate import DiscreteDistribution, ConditionalProbabilityTable, Node, State, BayesianNetwork"
   ]
  },
  {
   "cell_type": "code",
   "execution_count": 3,
   "metadata": {},
   "outputs": [],
   "source": [
    "riskFactor = DiscreteDistribution({\"R0\": 0.7, \"R1\": 0.3})\n",
    "exposure = DiscreteDistribution({\"E0\": 0.8, \"E1\": 0.2})\n",
    "\n",
    "Db = ConditionalProbabilityTable([[\"E0\", \"Db0\", 0.8],\n",
    "                                  [\"E0\", \"Db1\",0.2],\n",
    "                                  [\"E1\", \"Db0\",0.3],\n",
    "                                  [\"E1\", \"Db1\",0.7]], [exposure])\n",
    "Da = ConditionalProbabilityTable([[\"E0\", \"R0\", \"Da0\", 0.9],\n",
    "                                  [\"E0\", \"R0\", \"Da1\", 0.1],\n",
    "                                  [\"E0\", \"R1\", \"Da0\", 0.4],\n",
    "                                  [\"E0\", \"R1\", \"Da1\", 0.6],\n",
    "                                  [\"E1\", \"R0\", \"Da0\", 0.5],\n",
    "                                  [\"E1\", \"R0\", \"Da1\", 0.5],\n",
    "                                  [\"E1\", \"R1\", \"Da0\", 0.3],\n",
    "                                  [\"E1\", \"R1\", \"Da1\", 0.7]], [exposure, riskFactor])\n",
    "\n",
    "S = ConditionalProbabilityTable([[\"Da0\", \"Db0\", \"S0\", 0.95],\n",
    "                                  [\"Da0\", \"Db0\", \"S1\", 0.05],\n",
    "                                  [\"Da0\", \"Db1\", \"S0\", 0.6],\n",
    "                                  [\"Da0\", \"Db1\", \"S1\", 0.4],\n",
    "                                  [\"Da1\", \"Db0\", \"S0\", 0.4],\n",
    "                                  [\"Da1\", \"Db0\", \"S1\", 0.6],\n",
    "                                  [\"Da1\", \"Db1\", \"S0\", 0.1],\n",
    "                                  [\"Da1\", \"Db1\", \"S1\", 0.9]], [Da, Db])\n",
    "\n",
    "Ta = ConditionalProbabilityTable([[\"Da0\", \"Db0\", \"Ta0\", 0.92],\n",
    "                                  [\"Da0\", \"Db0\", \"Ta1\", 0.08],\n",
    "                                  [\"Da0\", \"Db1\", \"Ta0\", 0.8],\n",
    "                                  [\"Da0\", \"Db1\", \"Ta1\", 0.2],\n",
    "                                  [\"Da1\", \"Db0\", \"Ta0\", 0.15],\n",
    "                                  [\"Da1\", \"Db0\", \"Ta1\", 0.85],\n",
    "                                  [\"Da1\", \"Db1\", \"Ta0\", 0.03],\n",
    "                                  [\"Da1\", \"Db1\", \"Ta1\", 0.97]], [Da, Db])\n",
    "\n",
    "s1 = State(riskFactor, name=\"riskFactor\")\n",
    "s2 = State(exposure, name=\"exposure\")\n",
    "s3 = State(Da, name=\"Da\")\n",
    "s4 = State(Db, name=\"Db\")\n",
    "s5 = State(S, name=\"S\")\n",
    "s6 = State(Ta, name=\"Ta\")\n",
    "\n",
    "model = BayesianNetwork(\"Disease\")\n",
    "model.add_nodes(s1, s2, s3, s4, s5, s6)\n",
    "model.add_edge(s1, s3)\n",
    "model.add_edge(s2, s3)\n",
    "model.add_edge(s2, s4)\n",
    "model.add_edge(s3, s5)\n",
    "model.add_edge(s3, s6)\n",
    "model.add_edge(s4, s5)\n",
    "model.add_edge(s4, s6)\n",
    "\n",
    "model.bake()"
   ]
  },
  {
   "cell_type": "code",
   "execution_count": 4,
   "metadata": {},
   "outputs": [
    {
     "data": {
      "text/plain": [
       "array([{\n",
       "    \"class\" :\"Distribution\",\n",
       "    \"dtype\" :\"str\",\n",
       "    \"name\" :\"DiscreteDistribution\",\n",
       "    \"parameters\" :[\n",
       "        {\n",
       "            \"R0\" :0.7,\n",
       "            \"R1\" :0.3000000000000001\n",
       "        }\n",
       "    ],\n",
       "    \"frozen\" :false\n",
       "},\n",
       "       {\n",
       "    \"class\" :\"Distribution\",\n",
       "    \"dtype\" :\"str\",\n",
       "    \"name\" :\"DiscreteDistribution\",\n",
       "    \"parameters\" :[\n",
       "        {\n",
       "            \"E0\" :0.7999999999999997,\n",
       "            \"E1\" :0.2000000000000004\n",
       "        }\n",
       "    ],\n",
       "    \"frozen\" :false\n",
       "},\n",
       "       {\n",
       "    \"class\" :\"Distribution\",\n",
       "    \"dtype\" :\"str\",\n",
       "    \"name\" :\"DiscreteDistribution\",\n",
       "    \"parameters\" :[\n",
       "        {\n",
       "            \"Da0\" :0.6879999999999996,\n",
       "            \"Da1\" :0.31200000000000044\n",
       "        }\n",
       "    ],\n",
       "    \"frozen\" :false\n",
       "},\n",
       "       {\n",
       "    \"class\" :\"Distribution\",\n",
       "    \"dtype\" :\"str\",\n",
       "    \"name\" :\"DiscreteDistribution\",\n",
       "    \"parameters\" :[\n",
       "        {\n",
       "            \"Db0\" :0.6999999999999996,\n",
       "            \"Db1\" :0.3000000000000004\n",
       "        }\n",
       "    ],\n",
       "    \"frozen\" :false\n",
       "},\n",
       "       {\n",
       "    \"class\" :\"Distribution\",\n",
       "    \"dtype\" :\"str\",\n",
       "    \"name\" :\"DiscreteDistribution\",\n",
       "    \"parameters\" :[\n",
       "        {\n",
       "            \"S1\" :0.3219200000000004,\n",
       "            \"S0\" :0.6780799999999996\n",
       "        }\n",
       "    ],\n",
       "    \"frozen\" :false\n",
       "},\n",
       "       {\n",
       "    \"class\" :\"Distribution\",\n",
       "    \"dtype\" :\"str\",\n",
       "    \"name\" :\"DiscreteDistribution\",\n",
       "    \"parameters\" :[\n",
       "        {\n",
       "            \"Ta1\" :0.3562400000000002,\n",
       "            \"Ta0\" :0.6437599999999999\n",
       "        }\n",
       "    ],\n",
       "    \"frozen\" :false\n",
       "}], dtype=object)"
      ]
     },
     "execution_count": 4,
     "metadata": {},
     "output_type": "execute_result"
    }
   ],
   "source": [
    "model.predict_proba({})"
   ]
  },
  {
   "cell_type": "markdown",
   "metadata": {},
   "source": [
    "### Performing Inference\n",
    "\n",
    "(a) What is the probability of disease A (DA = 1), if disease B is not present (DB = 0), but symptoms are present (S = 1).\n",
    "\n",
    "(b) What is the probability of exposure (E = 1), if symptoms are present (S = 1) and test is positive (TA = 1)."
   ]
  },
  {
   "cell_type": "code",
   "execution_count": 5,
   "metadata": {},
   "outputs": [
    {
     "data": {
      "text/plain": [
       "array([{\n",
       "    \"class\" :\"Distribution\",\n",
       "    \"dtype\" :\"str\",\n",
       "    \"name\" :\"DiscreteDistribution\",\n",
       "    \"parameters\" :[\n",
       "        {\n",
       "            \"R0\" :0.4289652247667518,\n",
       "            \"R1\" :0.5710347752332482\n",
       "        }\n",
       "    ],\n",
       "    \"frozen\" :false\n",
       "},\n",
       "       {\n",
       "    \"class\" :\"Distribution\",\n",
       "    \"dtype\" :\"str\",\n",
       "    \"name\" :\"DiscreteDistribution\",\n",
       "    \"parameters\" :[\n",
       "        {\n",
       "            \"E0\" :0.8481764206955046,\n",
       "            \"E1\" :0.1518235793044955\n",
       "        }\n",
       "    ],\n",
       "    \"frozen\" :false\n",
       "},\n",
       "       {\n",
       "    \"class\" :\"Distribution\",\n",
       "    \"dtype\" :\"str\",\n",
       "    \"name\" :\"DiscreteDistribution\",\n",
       "    \"parameters\" :[\n",
       "        {\n",
       "            \"Da0\" :0.1789652247667519,\n",
       "            \"Da1\" :0.821034775233248\n",
       "        }\n",
       "    ],\n",
       "    \"frozen\" :false\n",
       "},\n",
       "       'Db0', 'S1',\n",
       "       {\n",
       "    \"class\" :\"Distribution\",\n",
       "    \"dtype\" :\"str\",\n",
       "    \"name\" :\"DiscreteDistribution\",\n",
       "    \"parameters\" :[\n",
       "        {\n",
       "            \"Ta1\" :0.712196776929601,\n",
       "            \"Ta0\" :0.28780322307039885\n",
       "        }\n",
       "    ],\n",
       "    \"frozen\" :false\n",
       "}], dtype=object)"
      ]
     },
     "execution_count": 5,
     "metadata": {},
     "output_type": "execute_result"
    }
   ],
   "source": [
    "# (a)\n",
    "model.predict_proba({\"Db\":\"Db0\", \"S\": \"S1\"})"
   ]
  },
  {
   "cell_type": "markdown",
   "metadata": {},
   "source": [
    "So based on above the Bayesian Network, $P(D_{A}=1 | D_{B}=0, S=1) = 0.821034775233248$"
   ]
  },
  {
   "cell_type": "code",
   "execution_count": 6,
   "metadata": {},
   "outputs": [
    {
     "data": {
      "text/plain": [
       "[array([{\n",
       "     \"class\" :\"Distribution\",\n",
       "     \"dtype\" :\"str\",\n",
       "     \"name\" :\"DiscreteDistribution\",\n",
       "     \"parameters\" :[\n",
       "         {\n",
       "             \"R0\" :0.46352398227589187,\n",
       "             \"R1\" :0.5364760177241081\n",
       "         }\n",
       "     ],\n",
       "     \"frozen\" :false\n",
       " },\n",
       "        {\n",
       "     \"class\" :\"Distribution\",\n",
       "     \"dtype\" :\"str\",\n",
       "     \"name\" :\"DiscreteDistribution\",\n",
       "     \"parameters\" :[\n",
       "         {\n",
       "             \"E0\" :0.5779343661124118,\n",
       "             \"E1\" :0.4220656338875882\n",
       "         }\n",
       "     ],\n",
       "     \"frozen\" :false\n",
       " },\n",
       "        {\n",
       "     \"class\" :\"Distribution\",\n",
       "     \"dtype\" :\"str\",\n",
       "     \"name\" :\"DiscreteDistribution\",\n",
       "     \"parameters\" :[\n",
       "         {\n",
       "             \"Da0\" :0.07691902756332904,\n",
       "             \"Da1\" :0.9230809724366711\n",
       "         }\n",
       "     ],\n",
       "     \"frozen\" :false\n",
       " },\n",
       "        {\n",
       "     \"class\" :\"Distribution\",\n",
       "     \"dtype\" :\"str\",\n",
       "     \"name\" :\"DiscreteDistribution\",\n",
       "     \"parameters\" :[\n",
       "         {\n",
       "             \"Db0\" :0.4589910240916621,\n",
       "             \"Db1\" :0.541008975908338\n",
       "         }\n",
       "     ],\n",
       "     \"frozen\" :false\n",
       " },\n",
       "        'S1', 'Ta1'], dtype=object)]"
      ]
     },
     "execution_count": 6,
     "metadata": {},
     "output_type": "execute_result"
    }
   ],
   "source": [
    "#(b) What is the probability of exposure (E = 1), if symptoms are present (S = 1) and test is positive (TA = 1).\n",
    "model.predict_proba([{'S': \"S1\", 'Ta': \"Ta1\"}])"
   ]
  },
  {
   "cell_type": "markdown",
   "metadata": {},
   "source": [
    "So based on above the Bayesian Network, $P(E=1 | T_{A}=1, S=1) = 0.4220656338875882$"
   ]
  },
  {
   "cell_type": "markdown",
   "metadata": {},
   "source": [
    "# 2. Times to Failure."
   ]
  },
  {
   "cell_type": "code",
   "execution_count": 7,
   "metadata": {
    "scrolled": false
   },
   "outputs": [
    {
     "data": {
      "image/png": "[encoded data removed]",
      "text/plain": [
       "<Figure size 432x288 with 1 Axes>"
      ]
     },
     "metadata": {
      "needs_background": "light"
     },
     "output_type": "display_data"
    }
   ],
   "source": [
    "# (d) Numerically find 95% equitailed confidence interval for λ.\n",
    "from scipy.stats import gamma\n",
    "fig, ax = plt.subplots(1, 1)\n",
    "alpha = 4\n",
    "beta = 5\n",
    "x = np.linspace(gamma.ppf(0.01, a=alpha, scale=1/beta), gamma.ppf(0.99, a=alpha, scale=1/beta), 100)\n",
    "\n",
    "ax.plot(x, gamma.pdf(x, a=alpha, scale=1/beta))\n",
    "plt.axvline(x=gamma.ppf(0.025, a=alpha, scale=1/beta),color='r')\n",
    "plt.axvline(x=gamma.ppf(0.975, a=alpha, scale=1/beta),color='r')\n",
    "plt.title(\"Gamma 95% Equitailed Credible Sets, alpha=4, beta=5\")\n",
    "plt.xlabel(\"$\\lambda$\")\n",
    "plt.show()"
   ]
  },
  {
   "cell_type": "code",
   "execution_count": 8,
   "metadata": {},
   "outputs": [
    {
     "name": "stdout",
     "output_type": "stream",
     "text": [
      "lambda range in 95% Equitailed Credible Set:[0.21797307472526498, 1.7534546139484648]\n"
     ]
    }
   ],
   "source": [
    "print(\"lambda range in 95% Equitailed Credible Set:[{}, {}]\".format(gamma.ppf(0.025, a=alpha, scale=1/beta), \n",
    "                                                                   gamma.ppf(0.975, a=alpha, scale=1/beta)))"
   ]
  },
  {
   "cell_type": "code",
   "execution_count": 9,
   "metadata": {},
   "outputs": [
    {
     "data": {
      "text/plain": [
       "0.2424238668669339"
      ]
     },
     "execution_count": 9,
     "metadata": {},
     "output_type": "execute_result"
    }
   ],
   "source": [
    "# (e) Find the posterior probability of hypothesis H0 : λ ≤ 1/2.\n",
    "gamma.cdf(1/2, a=alpha, loc=0, scale=1/beta)"
   ]
  },
  {
   "cell_type": "markdown",
   "metadata": {},
   "source": [
    "# 3. Gibbs and High/Low Protein Diet in Rats."
   ]
  },
  {
   "cell_type": "code",
   "execution_count": 10,
   "metadata": {},
   "outputs": [],
   "source": [
    "high = np.array([134, 146, 104, 119, 124, 161, 107, 83, 113, 129, 97, 123])\n",
    "low = np.array([70, 118, 101, 85, 107, 132, 94])"
   ]
  },
  {
   "cell_type": "code",
   "execution_count": 11,
   "metadata": {},
   "outputs": [],
   "source": [
    "## setup for theta1, tau1\n",
    "theta1 = 1\n",
    "tau1 = 1\n",
    "y1_sum = high.sum() # 1440\n",
    "# iterations\n",
    "burn =1000\n",
    "ntotal = 10000 + burn\n",
    "# update list\n",
    "theta1s = np.zeros(ntotal)\n",
    "tau1s = np.zeros(ntotal)\n",
    "\n",
    "theta1s[0] = theta1\n",
    "tau1s[0] = tau1"
   ]
  },
  {
   "cell_type": "code",
   "execution_count": 12,
   "metadata": {},
   "outputs": [],
   "source": [
    "for i in range(1, ntotal):\n",
    "    mu = - (tau1 * y1_sum + 220/(2 * 100**2)) / (12 * tau1 + 1/(100**2))\n",
    "    sigma2 = 1 / (12 * tau1 + 1/100**2)\n",
    "    theta1 = np.random.normal(mu, sigma2)\n",
    "    \n",
    "    var_ga = ((high-theta1) ** 2).sum()\n",
    "    tau1 =  np.random.gamma(shape=12/2+0.01, scale=1/(var_ga/2+4))\n",
    "    theta1s[i] = theta1\n",
    "    tau1s[i] = tau1"
   ]
  },
  {
   "cell_type": "code",
   "execution_count": 13,
   "metadata": {},
   "outputs": [],
   "source": [
    "## setup for theta1, tau1\n",
    "theta2 = 1\n",
    "tau2 = 1\n",
    "y2_sum = low.sum() # 1440\n",
    "# iterations\n",
    "burn =1000\n",
    "ntotal = 10000 + burn\n",
    "# update list\n",
    "theta2s = np.zeros(ntotal)\n",
    "tau2s = np.zeros(ntotal)\n",
    "\n",
    "theta2s[0] = theta2\n",
    "tau2s[0] = tau2"
   ]
  },
  {
   "cell_type": "code",
   "execution_count": 14,
   "metadata": {},
   "outputs": [],
   "source": [
    "for i in range(1, ntotal):\n",
    "    mu = - (tau2 * y2_sum + 220/(2 * 100**2)) / (7 * tau2 + 1/(100**2))\n",
    "    sigma2 = 1 / (7 * tau2 + 1/100**2)\n",
    "    theta2 = np.random.normal(mu, sigma2)\n",
    "    \n",
    "    var_ga = ((low-theta2) ** 2).sum()\n",
    "    tau2 =  np.random.gamma(shape=7/2+0.01, scale=1/(var_ga/2+4))\n",
    "    theta2s[i] = theta2\n",
    "    tau2s[i] = tau2"
   ]
  },
  {
   "cell_type": "markdown",
   "metadata": {},
   "source": [
    "## (b) Find sample differences $\\theta_1 − \\theta_2$ . Proportion of positive differences approximates posterior probability of hypothesis $H_0$ : $\\theta_1$ > $\\theta_2$. What is this proportion?"
   ]
  },
  {
   "cell_type": "code",
   "execution_count": 15,
   "metadata": {},
   "outputs": [
    {
     "data": {
      "text/plain": [
       "array([  -943.98558989, -18917.61517935,  -6459.13272254, ...,\n",
       "        -7902.84099889, -15112.87964215,   8479.85905783])"
      ]
     },
     "execution_count": 15,
     "metadata": {},
     "output_type": "execute_result"
    }
   ],
   "source": [
    "# sample differences\n",
    "theta1s[burn:] - theta2s[burn:]"
   ]
  },
  {
   "cell_type": "code",
   "execution_count": 16,
   "metadata": {
    "scrolled": true
   },
   "outputs": [
    {
     "data": {
      "text/plain": [
       "0.5034"
      ]
     },
     "execution_count": 16,
     "metadata": {},
     "output_type": "execute_result"
    }
   ],
   "source": [
    "# proportion\n",
    "((theta1s[burn:] - theta2s[burn:])>0).sum() / len(theta1s[burn:] - theta2s[burn:])"
   ]
  },
  {
   "cell_type": "markdown",
   "metadata": {},
   "source": [
    "## (c) Using sample quantiles find the 95% equitailed credible set for $θ_1 − θ_2$. Does this set contain 0?"
   ]
  },
  {
   "cell_type": "code",
   "execution_count": 17,
   "metadata": {},
   "outputs": [],
   "source": [
    "# create frequency \n",
    "__freq = {}\n",
    "for i in (theta1s[burn:] - theta2s[burn:]):\n",
    "    if i not in __freq:\n",
    "        __freq[i] = 1\n",
    "    else:\n",
    "        __freq[i] += 1"
   ]
  },
  {
   "cell_type": "code",
   "execution_count": 18,
   "metadata": {},
   "outputs": [
    {
     "data": {
      "text/plain": [
       "10000"
      ]
     },
     "execution_count": 18,
     "metadata": {},
     "output_type": "execute_result"
    }
   ],
   "source": [
    "sum(__freq.values()) # number of observations"
   ]
  },
  {
   "cell_type": "code",
   "execution_count": 19,
   "metadata": {},
   "outputs": [],
   "source": [
    "freq = {i: j/ 10000 for i, j in __freq.items()}\n",
    "freq_ = dict(sorted(freq.items(), key=lambda x: x[0], reverse=False))\n",
    "\n",
    "p_0025 = 0\n",
    "p_0975 = 0\n",
    "cum = 0\n",
    "for i, j in freq_.items():\n",
    "    cum += j\n",
    "    if 0.026 > cum >= 0.025:\n",
    "        p_0025 = i\n",
    "    if 0.976 > cum >= 0.975:\n",
    "        p_0975 = i"
   ]
  },
  {
   "cell_type": "code",
   "execution_count": 20,
   "metadata": {},
   "outputs": [
    {
     "data": {
      "image/png": "[encoded data removed]",
      "text/plain": [
       "<Figure size 432x288 with 1 Axes>"
      ]
     },
     "metadata": {
      "needs_background": "light"
     },
     "output_type": "display_data"
    }
   ],
   "source": [
    "plt.hist((theta1s[burn:] - theta2s[burn:]), bins=40)\n",
    "plt.axvline(x=p_0025,color='r')\n",
    "plt.axvline(x=p_0975,color='r')\n",
    "plt.show()"
   ]
  },
  {
   "cell_type": "code",
   "execution_count": 21,
   "metadata": {},
   "outputs": [
    {
     "name": "stdout",
     "output_type": "stream",
     "text": [
      "95% equi-tailed credible set: [ -26581.915621442815 , 27161.3435941287 ]\n"
     ]
    }
   ],
   "source": [
    "print(\"95% equi-tailed credible set: [ {} , {} ]\".format(p_0025, p_0975))"
   ]
  }
 ],
 "metadata": {
  "kernelspec": {
   "display_name": "Python 3",
   "language": "python",
   "name": "python3"
  },
  "language_info": {
   "codemirror_mode": {
    "name": "ipython",
    "version": 3
   },
   "file_extension": ".py",
   "mimetype": "text/x-python",
   "name": "python",
   "nbconvert_exporter": "python",
   "pygments_lexer": "ipython3",
   "version": "3.7.4"
  }
 },
 "nbformat": 4,
 "nbformat_minor": 4
}
