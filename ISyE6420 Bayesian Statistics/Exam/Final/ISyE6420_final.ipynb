{
 "cells": [
  {
   "cell_type": "code",
   "execution_count": 1,
   "metadata": {},
   "outputs": [],
   "source": [
    "import numpy as np\n",
    "import pandas as pd\n",
    "import matplotlib.pyplot as plt\n",
    "import seaborn as sns\n",
    "%matplotlib inline"
   ]
  },
  {
   "cell_type": "code",
   "execution_count": 2,
   "metadata": {},
   "outputs": [],
   "source": [
    "import arviz as az\n",
    "import pymc3 as pm"
   ]
  },
  {
   "cell_type": "markdown",
   "metadata": {},
   "source": [
    "# Vasoconstriction\n",
    "\n",
    "The data give the presence or absence ($y_i$ = 1 or 0) of vasoconstric- tion in the skin of the fingers following inhalation of a certain volume of air ($v_i$) at a certain average rate ($r_i$). Total number of records is 39. The candidate models for analyzing the relationship are the usual logit, probit, cloglog, loglog, and cauchyit models."
   ]
  },
  {
   "cell_type": "code",
   "execution_count": 3,
   "metadata": {},
   "outputs": [],
   "source": [
    "y_1 = np.array([1,1,1,1,1,1,0,0,0,0,0,0,0,1,1,1,1,1,\n",
    "   0,1,0,0,0,0,1,0,1,0,1,0,1,0,0,1,1,1,0,0,1])\n",
    "v_1 = np.array([3.7, 3.5, 1.25, 0.75, 0.8, 0.7, 0.6, 1.1, 0.9, 0.9, 0.8, 0.55, 0.6, 1.4, 0.75, 2.3, 3.2, 0.85, 1.7,\n",
    "                1.8, 0.4, 0.95, 1.35, 1.5, 1.6, 0.6, 1.8, 0.95, 1.9, 1.6, 2.7, 2.35, 1.1, 1.1, 1.2, 0.8, 0.95, 0.75, 1.3])\n",
    "r_1 = np.array([0.825, 1.09, 2.5, 1.5, 3.2, 3.5, 0.75, 1.7, 0.75, 0.45, 0.57, 2.75, 3, 2.33, 3.75, 1.64, 1.6, 1.415,\n",
    "1.06, 1.8, 2, 1.36, 1.35, 1.36, 1.78, 1.5, 1.5, 1.9, 0.95, 0.4, 0.75, 0.3, 1.83, 2.2, 2, 3.33, 1.9, 1.9, 1.625])"
   ]
  },
  {
   "cell_type": "markdown",
   "metadata": {},
   "source": [
    "## (a) Transform covariates $v$ and $r$ as $x_1$ = log(10×$v$), $x_2$ = log(10×$r$)."
   ]
  },
  {
   "cell_type": "code",
   "execution_count": 4,
   "metadata": {},
   "outputs": [
    {
     "data": {
      "text/plain": [
       "array([3.61091791, 3.55534806, 2.52572864, 2.01490302, 2.07944154,\n",
       "       1.94591015, 1.79175947, 2.39789527, 2.19722458, 2.19722458,\n",
       "       2.07944154, 1.70474809, 1.79175947, 2.63905733, 2.01490302,\n",
       "       3.13549422, 3.4657359 , 2.14006616, 2.83321334, 2.89037176,\n",
       "       1.38629436, 2.2512918 , 2.60268969, 2.7080502 , 2.77258872,\n",
       "       1.79175947, 2.89037176, 2.2512918 , 2.94443898, 2.77258872,\n",
       "       3.29583687, 3.15700042, 2.39789527, 2.39789527, 2.48490665,\n",
       "       2.07944154, 2.2512918 , 2.01490302, 2.56494936])"
      ]
     },
     "execution_count": 4,
     "metadata": {},
     "output_type": "execute_result"
    }
   ],
   "source": [
    "x_1 = np.log(10 * v_1)\n",
    "x_1"
   ]
  },
  {
   "cell_type": "code",
   "execution_count": 5,
   "metadata": {},
   "outputs": [
    {
     "data": {
      "text/plain": [
       "array([2.1102132 , 2.38876279, 3.21887582, 2.7080502 , 3.4657359 ,\n",
       "       3.55534806, 2.01490302, 2.83321334, 2.01490302, 1.5040774 ,\n",
       "       1.74046617, 3.314186  , 3.40119738, 3.14845336, 3.62434093,\n",
       "       2.79728133, 2.77258872, 2.64971462, 2.360854  , 2.89037176,\n",
       "       2.99573227, 2.61006979, 2.60268969, 2.61006979, 2.87919846,\n",
       "       2.7080502 , 2.7080502 , 2.94443898, 2.2512918 , 1.38629436,\n",
       "       2.01490302, 1.09861229, 2.90690106, 3.09104245, 2.99573227,\n",
       "       3.5055574 , 2.94443898, 2.94443898, 2.78809291])"
      ]
     },
     "execution_count": 5,
     "metadata": {},
     "output_type": "execute_result"
    }
   ],
   "source": [
    "x_2 = np.log(10 * r_1)\n",
    "x_2"
   ]
  },
  {
   "cell_type": "code",
   "execution_count": 6,
   "metadata": {
    "scrolled": true
   },
   "outputs": [
    {
     "data": {
      "text/html": [
       "<div>\n",
       "<style scoped>\n",
       "    .dataframe tbody tr th:only-of-type {\n",
       "        vertical-align: middle;\n",
       "    }\n",
       "\n",
       "    .dataframe tbody tr th {\n",
       "        vertical-align: top;\n",
       "    }\n",
       "\n",
       "    .dataframe thead th {\n",
       "        text-align: right;\n",
       "    }\n",
       "</style>\n",
       "<table border=\"1\" class=\"dataframe\">\n",
       "  <thead>\n",
       "    <tr style=\"text-align: right;\">\n",
       "      <th></th>\n",
       "      <th>vasoconstriction</th>\n",
       "      <th>air_log</th>\n",
       "      <th>rate_log</th>\n",
       "    </tr>\n",
       "  </thead>\n",
       "  <tbody>\n",
       "    <tr>\n",
       "      <th>0</th>\n",
       "      <td>1</td>\n",
       "      <td>3.610918</td>\n",
       "      <td>2.110213</td>\n",
       "    </tr>\n",
       "    <tr>\n",
       "      <th>1</th>\n",
       "      <td>1</td>\n",
       "      <td>3.555348</td>\n",
       "      <td>2.388763</td>\n",
       "    </tr>\n",
       "    <tr>\n",
       "      <th>2</th>\n",
       "      <td>1</td>\n",
       "      <td>2.525729</td>\n",
       "      <td>3.218876</td>\n",
       "    </tr>\n",
       "    <tr>\n",
       "      <th>3</th>\n",
       "      <td>1</td>\n",
       "      <td>2.014903</td>\n",
       "      <td>2.708050</td>\n",
       "    </tr>\n",
       "    <tr>\n",
       "      <th>4</th>\n",
       "      <td>1</td>\n",
       "      <td>2.079442</td>\n",
       "      <td>3.465736</td>\n",
       "    </tr>\n",
       "  </tbody>\n",
       "</table>\n",
       "</div>"
      ],
      "text/plain": [
       "   vasoconstriction   air_log  rate_log\n",
       "0                 1  3.610918  2.110213\n",
       "1                 1  3.555348  2.388763\n",
       "2                 1  2.525729  3.218876\n",
       "3                 1  2.014903  2.708050\n",
       "4                 1  2.079442  3.465736"
      ]
     },
     "execution_count": 6,
     "metadata": {},
     "output_type": "execute_result"
    }
   ],
   "source": [
    "df = pd.DataFrame({\"vasoconstriction\": y_1, \"air_log\": x_1, \"rate_log\": x_2})\n",
    "df.head()"
   ]
  },
  {
   "cell_type": "markdown",
   "metadata": {},
   "source": [
    "## (b) Estimate posterior means for coefficients in the logit model. Use noninformative priors on all coefficients."
   ]
  },
  {
   "cell_type": "code",
   "execution_count": 7,
   "metadata": {},
   "outputs": [],
   "source": [
    "names = df.index.values\n",
    "N = len(names)\n",
    "dims={\n",
    "    \"air_log\": [\"developer\"],\n",
    "    \"rate_log\": [\"developer\"]\n",
    "}"
   ]
  },
  {
   "cell_type": "code",
   "execution_count": 8,
   "metadata": {
    "scrolled": false
   },
   "outputs": [
    {
     "name": "stderr",
     "output_type": "stream",
     "text": [
      "Auto-assigning NUTS sampler...\n",
      "Initializing NUTS using adapt_diag...\n",
      "Multiprocess sampling (4 chains in 4 jobs)\n",
      "NUTS: [rate_log, air_log, Intercept]\n"
     ]
    },
    {
     "data": {
      "text/html": [
       "\n",
       "    <div>\n",
       "        <style>\n",
       "            /* Turns off some styling */\n",
       "            progress {\n",
       "                /* gets rid of default border in Firefox and Opera. */\n",
       "                border: none;\n",
       "                /* Needs to be in here for Safari polyfill so background images work as expected. */\n",
       "                background-size: auto;\n",
       "            }\n",
       "            .progress-bar-interrupted, .progress-bar-interrupted::-webkit-progress-bar {\n",
       "                background: #F44336;\n",
       "            }\n",
       "        </style>\n",
       "      <progress value='40000' class='' max='40000' style='width:300px; height:20px; vertical-align: middle;'></progress>\n",
       "      100.00% [40000/40000 00:45<00:00 Sampling 4 chains, 29 divergences]\n",
       "    </div>\n",
       "    "
      ],
      "text/plain": [
       "<IPython.core.display.HTML object>"
      ]
     },
     "metadata": {},
     "output_type": "display_data"
    },
    {
     "name": "stderr",
     "output_type": "stream",
     "text": [
      "Sampling 4 chains for 5_000 tune and 5_000 draw iterations (20_000 + 20_000 draws total) took 54 seconds.\n",
      "There was 1 divergence after tuning. Increase `target_accept` or reparameterize.\n",
      "There were 26 divergences after tuning. Increase `target_accept` or reparameterize.\n",
      "The acceptance probability does not match the target. It is 0.6210488848956406, but should be close to 0.8. Try to increase the number of tuning steps.\n",
      "There were 2 divergences after tuning. Increase `target_accept` or reparameterize.\n",
      "The acceptance probability does not match the target. It is 0.7165668834870483, but should be close to 0.8. Try to increase the number of tuning steps.\n",
      "The number of effective samples is smaller than 10% for some parameters.\n"
     ]
    },
    {
     "data": {
      "text/html": [
       "\n",
       "    <div>\n",
       "        <style>\n",
       "            /* Turns off some styling */\n",
       "            progress {\n",
       "                /* gets rid of default border in Firefox and Opera. */\n",
       "                border: none;\n",
       "                /* Needs to be in here for Safari polyfill so background images work as expected. */\n",
       "                background-size: auto;\n",
       "            }\n",
       "            .progress-bar-interrupted, .progress-bar-interrupted::-webkit-progress-bar {\n",
       "                background: #F44336;\n",
       "            }\n",
       "        </style>\n",
       "      <progress value='20000' class='' max='20000' style='width:300px; height:20px; vertical-align: middle;'></progress>\n",
       "      100.00% [20000/20000 00:14<00:00]\n",
       "    </div>\n",
       "    "
      ],
      "text/plain": [
       "<IPython.core.display.HTML object>"
      ]
     },
     "metadata": {},
     "output_type": "display_data"
    }
   ],
   "source": [
    "''' \n",
    "pymc3 priors are \n",
    "default_regressor_prior = Normal.dist(mu=0, tau=1.0E-6) and\n",
    "default_intercept_prior = Flat.dist()\n",
    "'''\n",
    "with pm.Model() as logistic_model:\n",
    "    pm.glm.linear.GLM(y=df[\"vasoconstriction\"], x= df[[\"air_log\", \"rate_log\"]], intercept=True,\n",
    "                      family=pm.glm.families.Binomial())\n",
    "    trace_log = pm.sample(5000, tune=5000, init='adapt_diag')\n",
    "    posterior_predictive = pm.sample_posterior_predictive(trace_log)"
   ]
  },
  {
   "cell_type": "code",
   "execution_count": 9,
   "metadata": {
    "scrolled": true
   },
   "outputs": [
    {
     "name": "stderr",
     "output_type": "stream",
     "text": [
      "/opt/anaconda3/lib/python3.7/site-packages/arviz/data/io_pymc3.py:91: FutureWarning: Using `from_pymc3` without the model will be deprecated in a future release. Not using the model will return less accurate and less useful results. Make sure you use the model argument or call from_pymc3 within a model context.\n",
      "  FutureWarning,\n"
     ]
    },
    {
     "data": {
      "text/html": [
       "<div>\n",
       "<style scoped>\n",
       "    .dataframe tbody tr th:only-of-type {\n",
       "        vertical-align: middle;\n",
       "    }\n",
       "\n",
       "    .dataframe tbody tr th {\n",
       "        vertical-align: top;\n",
       "    }\n",
       "\n",
       "    .dataframe thead th {\n",
       "        text-align: right;\n",
       "    }\n",
       "</style>\n",
       "<table border=\"1\" class=\"dataframe\">\n",
       "  <thead>\n",
       "    <tr style=\"text-align: right;\">\n",
       "      <th></th>\n",
       "      <th>mean</th>\n",
       "      <th>sd</th>\n",
       "      <th>hdi_3%</th>\n",
       "      <th>hdi_97%</th>\n",
       "      <th>mcse_mean</th>\n",
       "      <th>mcse_sd</th>\n",
       "      <th>ess_mean</th>\n",
       "      <th>ess_sd</th>\n",
       "      <th>ess_bulk</th>\n",
       "      <th>ess_tail</th>\n",
       "      <th>r_hat</th>\n",
       "    </tr>\n",
       "  </thead>\n",
       "  <tbody>\n",
       "    <tr>\n",
       "      <th>Intercept</th>\n",
       "      <td>-30.883</td>\n",
       "      <td>10.584</td>\n",
       "      <td>-50.062</td>\n",
       "      <td>-12.367</td>\n",
       "      <td>0.408</td>\n",
       "      <td>0.289</td>\n",
       "      <td>672.0</td>\n",
       "      <td>672.0</td>\n",
       "      <td>519.0</td>\n",
       "      <td>322.0</td>\n",
       "      <td>1.01</td>\n",
       "    </tr>\n",
       "    <tr>\n",
       "      <th>air_log</th>\n",
       "      <td>6.269</td>\n",
       "      <td>2.174</td>\n",
       "      <td>2.536</td>\n",
       "      <td>10.256</td>\n",
       "      <td>0.084</td>\n",
       "      <td>0.059</td>\n",
       "      <td>671.0</td>\n",
       "      <td>671.0</td>\n",
       "      <td>523.0</td>\n",
       "      <td>336.0</td>\n",
       "      <td>1.01</td>\n",
       "    </tr>\n",
       "    <tr>\n",
       "      <th>rate_log</th>\n",
       "      <td>5.595</td>\n",
       "      <td>2.021</td>\n",
       "      <td>2.366</td>\n",
       "      <td>9.520</td>\n",
       "      <td>0.073</td>\n",
       "      <td>0.051</td>\n",
       "      <td>776.0</td>\n",
       "      <td>776.0</td>\n",
       "      <td>630.0</td>\n",
       "      <td>789.0</td>\n",
       "      <td>1.01</td>\n",
       "    </tr>\n",
       "  </tbody>\n",
       "</table>\n",
       "</div>"
      ],
      "text/plain": [
       "             mean      sd  hdi_3%  hdi_97%  mcse_mean  mcse_sd  ess_mean  \\\n",
       "Intercept -30.883  10.584 -50.062  -12.367      0.408    0.289     672.0   \n",
       "air_log     6.269   2.174   2.536   10.256      0.084    0.059     671.0   \n",
       "rate_log    5.595   2.021   2.366    9.520      0.073    0.051     776.0   \n",
       "\n",
       "           ess_sd  ess_bulk  ess_tail  r_hat  \n",
       "Intercept   672.0     519.0     322.0   1.01  \n",
       "air_log     671.0     523.0     336.0   1.01  \n",
       "rate_log    776.0     630.0     789.0   1.01  "
      ]
     },
     "execution_count": 9,
     "metadata": {},
     "output_type": "execute_result"
    }
   ],
   "source": [
    "az.summary(trace_log)"
   ]
  },
  {
   "cell_type": "markdown",
   "metadata": {},
   "source": [
    "The means of intercept, air_log and rate_log are -30.883, 6.269\t and 5.595, respectively."
   ]
  },
  {
   "cell_type": "markdown",
   "metadata": {},
   "source": [
    "## (c) For a subject with $v = r = 1.5$, find the probability of vasoconstriction."
   ]
  },
  {
   "cell_type": "markdown",
   "metadata": {},
   "source": [
    "$P(vasoconstriction=1) = p $ = $\\frac{1}{ 1+e^(-(intercept + 6.461 \\times air_log + 5.719 \\times rate_log)) }$"
   ]
  },
  {
   "cell_type": "code",
   "execution_count": 42,
   "metadata": {},
   "outputs": [
    {
     "name": "stdout",
     "output_type": "stream",
     "text": [
      "The probability of vasoconstriction with v = r = 1.5:  0.7764865250020363\n"
     ]
    }
   ],
   "source": [
    "prob_v = 1/ (1 + np.exp(-(-30.883 + 6.269 * np.log(1.5 * 10) + 5.595 * np.log(1.5 * 10))))\n",
    "print(\"The probability of vasoconstriction with v = r = 1.5: \", prob_v)"
   ]
  },
  {
   "cell_type": "markdown",
   "metadata": {},
   "source": [
    "## (d) Compare with the result of probit model. Which has smaller deviance?\n"
   ]
  },
  {
   "cell_type": "code",
   "execution_count": 11,
   "metadata": {},
   "outputs": [],
   "source": [
    "import theano.tensor as tsr\n",
    "from collections import OrderedDict\n"
   ]
  },
  {
   "cell_type": "code",
   "execution_count": 12,
   "metadata": {
    "scrolled": false
   },
   "outputs": [
    {
     "name": "stderr",
     "output_type": "stream",
     "text": [
      "Auto-assigning NUTS sampler...\n",
      "Initializing NUTS using adapt_diag...\n",
      "ERROR (theano.gof.opt): Optimization failure due to: local_grad_log_erfc_neg\n",
      "ERROR (theano.gof.opt): node: Elemwise{true_div,no_inplace}(Elemwise{mul,no_inplace}.0, Elemwise{erfc,no_inplace}.0)\n",
      "ERROR (theano.gof.opt): TRACEBACK:\n",
      "ERROR (theano.gof.opt): Traceback (most recent call last):\n",
      "  File \"/opt/anaconda3/lib/python3.7/site-packages/theano/gof/opt.py\", line 2034, in process_node\n",
      "    replacements = lopt.transform(node)\n",
      "  File \"/opt/anaconda3/lib/python3.7/site-packages/theano/tensor/opt.py\", line 6789, in local_grad_log_erfc_neg\n",
      "    if not exp.owner.inputs[0].owner:\n",
      "AttributeError: 'NoneType' object has no attribute 'owner'\n",
      "\n",
      "Multiprocess sampling (4 chains in 4 jobs)\n",
      "NUTS: [beta1, beta0, intercept]\n"
     ]
    },
    {
     "data": {
      "text/html": [
       "\n",
       "    <div>\n",
       "        <style>\n",
       "            /* Turns off some styling */\n",
       "            progress {\n",
       "                /* gets rid of default border in Firefox and Opera. */\n",
       "                border: none;\n",
       "                /* Needs to be in here for Safari polyfill so background images work as expected. */\n",
       "                background-size: auto;\n",
       "            }\n",
       "            .progress-bar-interrupted, .progress-bar-interrupted::-webkit-progress-bar {\n",
       "                background: #F44336;\n",
       "            }\n",
       "        </style>\n",
       "      <progress value='40000' class='' max='40000' style='width:300px; height:20px; vertical-align: middle;'></progress>\n",
       "      100.00% [40000/40000 00:46<00:00 Sampling 4 chains, 518 divergences]\n",
       "    </div>\n",
       "    "
      ],
      "text/plain": [
       "<IPython.core.display.HTML object>"
      ]
     },
     "metadata": {},
     "output_type": "display_data"
    },
    {
     "name": "stderr",
     "output_type": "stream",
     "text": [
      "Sampling 4 chains for 5_000 tune and 5_000 draw iterations (20_000 + 20_000 draws total) took 55 seconds.\n",
      "There were 518 divergences after tuning. Increase `target_accept` or reparameterize.\n",
      "The acceptance probability does not match the target. It is 0.6682940921512561, but should be close to 0.8. Try to increase the number of tuning steps.\n",
      "The acceptance probability does not match the target. It is 0.906901957639155, but should be close to 0.8. Try to increase the number of tuning steps.\n",
      "The number of effective samples is smaller than 10% for some parameters.\n"
     ]
    },
    {
     "data": {
      "text/html": [
       "\n",
       "    <div>\n",
       "        <style>\n",
       "            /* Turns off some styling */\n",
       "            progress {\n",
       "                /* gets rid of default border in Firefox and Opera. */\n",
       "                border: none;\n",
       "                /* Needs to be in here for Safari polyfill so background images work as expected. */\n",
       "                background-size: auto;\n",
       "            }\n",
       "            .progress-bar-interrupted, .progress-bar-interrupted::-webkit-progress-bar {\n",
       "                background: #F44336;\n",
       "            }\n",
       "        </style>\n",
       "      <progress value='20000' class='' max='20000' style='width:300px; height:20px; vertical-align: middle;'></progress>\n",
       "      100.00% [20000/20000 00:15<00:00]\n",
       "    </div>\n",
       "    "
      ],
      "text/plain": [
       "<IPython.core.display.HTML object>"
      ]
     },
     "metadata": {},
     "output_type": "display_data"
    }
   ],
   "source": [
    "with pm.Model() as probit_model:    \n",
    "    # priors\n",
    "    intercept = pm.Flat(\"intercept\")\n",
    "    beta0 = pm.Normal(\"beta0\", mu=0, tau=1.0E-6)\n",
    "    beta1 = pm.Normal('beta1', mu=0, tau=1.0E-6)\n",
    "\n",
    "    # linear predictor\n",
    "    theta_p = intercept + beta0 * df[\"air_log\"] + beta1 * df[\"rate_log\"]\n",
    "\n",
    "    # Probit transform\n",
    "    def probit_phi(x):\n",
    "        mu = 0\n",
    "        sd = 1\n",
    "        return 0.5 * (1 + tsr.erf((x - mu) / (sd * tsr.sqrt(2))))\n",
    "    \n",
    "    theta = probit_phi(theta_p)\n",
    "\n",
    "\n",
    "    # likelihood\n",
    "    y = pm.Bernoulli('y', p=theta, observed=df[\"vasoconstriction\"])\n",
    "    \n",
    "    trace_prob = pm.sample(5000, tune=5000, init='adapt_diag')\n",
    "    posterior_predictive_prob = pm.sample_posterior_predictive(trace_prob)"
   ]
  },
  {
   "cell_type": "code",
   "execution_count": 13,
   "metadata": {
    "scrolled": false
   },
   "outputs": [
    {
     "name": "stderr",
     "output_type": "stream",
     "text": [
      "/opt/anaconda3/lib/python3.7/site-packages/arviz/data/io_pymc3.py:91: FutureWarning: Using `from_pymc3` without the model will be deprecated in a future release. Not using the model will return less accurate and less useful results. Make sure you use the model argument or call from_pymc3 within a model context.\n",
      "  FutureWarning,\n",
      "/opt/anaconda3/lib/python3.7/site-packages/arviz/stats/stats.py:1427: UserWarning: For one or more samples the posterior variance of the log predictive densities exceeds 0.4. This could be indication of WAIC starting to fail. \n",
      "See http://arxiv.org/abs/1507.04544 for details\n",
      "  \"For one or more samples the posterior variance of the log predictive \"\n",
      "/opt/anaconda3/lib/python3.7/site-packages/arviz/data/io_pymc3.py:91: FutureWarning: Using `from_pymc3` without the model will be deprecated in a future release. Not using the model will return less accurate and less useful results. Make sure you use the model argument or call from_pymc3 within a model context.\n",
      "  FutureWarning,\n",
      "/opt/anaconda3/lib/python3.7/site-packages/arviz/stats/stats.py:1427: UserWarning: For one or more samples the posterior variance of the log predictive densities exceeds 0.4. This could be indication of WAIC starting to fail. \n",
      "See http://arxiv.org/abs/1507.04544 for details\n",
      "  \"For one or more samples the posterior variance of the log predictive \"\n"
     ]
    },
    {
     "data": {
      "text/html": [
       "<div>\n",
       "<style scoped>\n",
       "    .dataframe tbody tr th:only-of-type {\n",
       "        vertical-align: middle;\n",
       "    }\n",
       "\n",
       "    .dataframe tbody tr th {\n",
       "        vertical-align: top;\n",
       "    }\n",
       "\n",
       "    .dataframe thead th {\n",
       "        text-align: right;\n",
       "    }\n",
       "</style>\n",
       "<table border=\"1\" class=\"dataframe\">\n",
       "  <thead>\n",
       "    <tr style=\"text-align: right;\">\n",
       "      <th></th>\n",
       "      <th>rank</th>\n",
       "      <th>waic</th>\n",
       "      <th>p_waic</th>\n",
       "      <th>d_waic</th>\n",
       "      <th>weight</th>\n",
       "      <th>se</th>\n",
       "      <th>dse</th>\n",
       "      <th>warning</th>\n",
       "      <th>waic_scale</th>\n",
       "    </tr>\n",
       "  </thead>\n",
       "  <tbody>\n",
       "    <tr>\n",
       "      <th>probit_model</th>\n",
       "      <td>0</td>\n",
       "      <td>36.107</td>\n",
       "      <td>3.18883</td>\n",
       "      <td>0</td>\n",
       "      <td>0.601672</td>\n",
       "      <td>9.70566</td>\n",
       "      <td>0</td>\n",
       "      <td>True</td>\n",
       "      <td>deviance</td>\n",
       "    </tr>\n",
       "    <tr>\n",
       "      <th>logistic_model</th>\n",
       "      <td>1</td>\n",
       "      <td>37.1122</td>\n",
       "      <td>3.9323</td>\n",
       "      <td>1.00522</td>\n",
       "      <td>0.398328</td>\n",
       "      <td>8.57837</td>\n",
       "      <td>1.59664</td>\n",
       "      <td>True</td>\n",
       "      <td>deviance</td>\n",
       "    </tr>\n",
       "  </tbody>\n",
       "</table>\n",
       "</div>"
      ],
      "text/plain": [
       "               rank     waic   p_waic   d_waic    weight       se      dse  \\\n",
       "probit_model      0   36.107  3.18883        0  0.601672  9.70566        0   \n",
       "logistic_model    1  37.1122   3.9323  1.00522  0.398328  8.57837  1.59664   \n",
       "\n",
       "               warning waic_scale  \n",
       "probit_model      True   deviance  \n",
       "logistic_model    True   deviance  "
      ]
     },
     "execution_count": 13,
     "metadata": {},
     "output_type": "execute_result"
    }
   ],
   "source": [
    "model_trace_dict = {\"logistic_model\":trace_log, \"probit_model\": trace_prob}\n",
    "az.compare(model_trace_dict, ic='WAIC', scale=\"deviance\")"
   ]
  },
  {
   "cell_type": "markdown",
   "metadata": {},
   "source": [
    "Based on the above table, we could see the probit model has smaller deviance than the logistic model."
   ]
  },
  {
   "cell_type": "markdown",
   "metadata": {},
   "source": [
    "# Magnesium Ammonium Phosphate and Chrysanthemums\n",
    "\n",
    "Walpole et al. (2007) provide data from a study on the effect of magnesium ammonium phosphate on the height of chrysanthemums, which was conducted at George Mason University in order to determine a possible optimum level of fertilization, based on the enhanced vertical growth response of the chrysanthemums. Forty chrysanthemum seedlings were assigned to 4 groups, each containing 10 plants. Each was planted in a similar pot containing a uniform growth medium. An increasing concentration of MgNH4PO4, measured in grams per bushel, was added to each plant. The 4 groups of plants were grown under uniform conditions in a greenhouse for a period of 4 weeks. \n",
    "\n",
    "The treatments and the respective changes in heights, measured in centimeters, are given in the following table:"
   ]
  },
  {
   "cell_type": "code",
   "execution_count": 14,
   "metadata": {},
   "outputs": [],
   "source": [
    "g50 = np.array([13.2, 12.4, 12.8, 17.2, 13.0, 14.0, 14.2, 21.6, 15.0, 20.0])\n",
    "g100 = np.array([16.0, 12.6, 14.8, 13.0, 14.0, 23.6, 14.0, 17.0, 22.2, 24.4])\n",
    "g200 = np.array([7.8, 14.4, 20.0, 15.8, 17.0, 27.0, 19.6, 18.0, 20.2, 23.2])\n",
    "g400 = np.array([21.0, 14.8, 19.1, 15.8, 18.0, 26.0, 21.1, 22.0, 25.0, 18.2])"
   ]
  },
  {
   "cell_type": "markdown",
   "metadata": {},
   "source": [
    "Solve the problem as a Bayesian one-way ANOVA. Use STZ constraints on treatment effects."
   ]
  },
  {
   "cell_type": "markdown",
   "metadata": {},
   "source": [
    "## (a) Do different concentrations of MgNH4PO4 affect the average attained height of chrysanthemums? Look at the 95% credible sets for the differences between treatment effects."
   ]
  },
  {
   "cell_type": "markdown",
   "metadata": {},
   "source": [
    "Explanation on choices of priors: \n",
    "\n",
    "In pymc3, if the priors are too non-informative, the sampling will fail because there are many zeros when the program takes derivatives. Therefore, we released the constraints and chose weakly informative priors on the mean, alpha2, alpha3 and alpha4. \n",
    "\n",
    "For sigma, the best scenario is using Inversegamma with alpha = 0.0001 and beta = 0.0001. However, the same thing happened. So we released the constraints, too. We changed alpha and beta to 0.01 and 0.01, respectively."
   ]
  },
  {
   "cell_type": "code",
   "execution_count": 15,
   "metadata": {},
   "outputs": [],
   "source": [
    "with pm.Model() as ANOVA:\n",
    "    mu = pm.Normal(\"mu\", mu=0, sigma=1)\n",
    "    sigma = pm.InverseGamma(\"sigma\", alpha=0.01, beta=0.01)\n",
    "    alpha2 = pm.Normal(\"alpha2\", mu=0, sigma=1)\n",
    "    alpha3 = pm.Normal(\"alpha3\", mu=0, sigma=1)\n",
    "    alpha4 = pm.Normal(\"alpha4\", mu=0, sigma=1)\n",
    "    # STZ constraints\n",
    "    alpha1 = pm.Deterministic(\"alpha1\", -(alpha2+alpha3+alpha4))\n",
    "    \n",
    "    # likelihood\n",
    "    treatment_50 = pm.Normal(\"g50\", mu=mu+alpha1, sigma=sigma, observed=g50)\n",
    "    treatment_100 = pm.Normal(\"g100\", mu=mu+alpha2, sigma=sigma, observed=g100)\n",
    "    treatment_200 = pm.Normal(\"g200\", mu=mu+alpha3, sigma=sigma, observed=g200)\n",
    "    treatment_400 = pm.Normal(\"g400\", mu=mu+alpha4, sigma=sigma, observed=g400)"
   ]
  },
  {
   "cell_type": "code",
   "execution_count": 16,
   "metadata": {},
   "outputs": [],
   "source": [
    "with ANOVA:\n",
    "    alpha1_diff_alpha2 = pm.Deterministic('a1-a2', alpha1 - alpha2)\n",
    "    alpha1_diff_alpha3 = pm.Deterministic('a1-a3', alpha1 - alpha3)\n",
    "    alpha1_diff_alpha4 = pm.Deterministic('a1-a4', alpha1 - alpha4)\n",
    "    \n",
    "    alpha2_diff_alpha3 = pm.Deterministic('a2-a3', alpha2 - alpha3)\n",
    "    alpha2_diff_alpha4 = pm.Deterministic('a2-a4', alpha2 - alpha4)\n",
    "    alpha3_diff_alpha4 = pm.Deterministic('a3-a4', alpha3 - alpha4)    \n"
   ]
  },
  {
   "cell_type": "code",
   "execution_count": 17,
   "metadata": {
    "scrolled": false
   },
   "outputs": [
    {
     "name": "stderr",
     "output_type": "stream",
     "text": [
      "Auto-assigning NUTS sampler...\n",
      "Initializing NUTS using adapt_diag...\n",
      "Multiprocess sampling (4 chains in 4 jobs)\n",
      "NUTS: [alpha4, alpha3, alpha2, sigma, mu]\n"
     ]
    },
    {
     "data": {
      "text/html": [
       "\n",
       "    <div>\n",
       "        <style>\n",
       "            /* Turns off some styling */\n",
       "            progress {\n",
       "                /* gets rid of default border in Firefox and Opera. */\n",
       "                border: none;\n",
       "                /* Needs to be in here for Safari polyfill so background images work as expected. */\n",
       "                background-size: auto;\n",
       "            }\n",
       "            .progress-bar-interrupted, .progress-bar-interrupted::-webkit-progress-bar {\n",
       "                background: #F44336;\n",
       "            }\n",
       "        </style>\n",
       "      <progress value='40000' class='' max='40000' style='width:300px; height:20px; vertical-align: middle;'></progress>\n",
       "      100.00% [40000/40000 00:20<00:00 Sampling 4 chains, 0 divergences]\n",
       "    </div>\n",
       "    "
      ],
      "text/plain": [
       "<IPython.core.display.HTML object>"
      ]
     },
     "metadata": {},
     "output_type": "display_data"
    },
    {
     "name": "stderr",
     "output_type": "stream",
     "text": [
      "Sampling 4 chains for 5_000 tune and 5_000 draw iterations (20_000 + 20_000 draws total) took 30 seconds.\n"
     ]
    }
   ],
   "source": [
    "with ANOVA:\n",
    "    trace_anova = pm.sample(5000, tune=5000, init='adapt_diag')"
   ]
  },
  {
   "cell_type": "code",
   "execution_count": 18,
   "metadata": {
    "scrolled": false
   },
   "outputs": [
    {
     "name": "stderr",
     "output_type": "stream",
     "text": [
      "/opt/anaconda3/lib/python3.7/site-packages/arviz/data/io_pymc3.py:91: FutureWarning: Using `from_pymc3` without the model will be deprecated in a future release. Not using the model will return less accurate and less useful results. Make sure you use the model argument or call from_pymc3 within a model context.\n",
      "  FutureWarning,\n"
     ]
    },
    {
     "data": {
      "text/html": [
       "<div>\n",
       "<style scoped>\n",
       "    .dataframe tbody tr th:only-of-type {\n",
       "        vertical-align: middle;\n",
       "    }\n",
       "\n",
       "    .dataframe tbody tr th {\n",
       "        vertical-align: top;\n",
       "    }\n",
       "\n",
       "    .dataframe thead th {\n",
       "        text-align: right;\n",
       "    }\n",
       "</style>\n",
       "<table border=\"1\" class=\"dataframe\">\n",
       "  <thead>\n",
       "    <tr style=\"text-align: right;\">\n",
       "      <th></th>\n",
       "      <th>mean</th>\n",
       "      <th>sd</th>\n",
       "      <th>hdi_3%</th>\n",
       "      <th>hdi_97%</th>\n",
       "      <th>mcse_mean</th>\n",
       "      <th>mcse_sd</th>\n",
       "      <th>ess_mean</th>\n",
       "      <th>ess_sd</th>\n",
       "      <th>ess_bulk</th>\n",
       "      <th>ess_tail</th>\n",
       "      <th>r_hat</th>\n",
       "      <th>hdi_2.5%</th>\n",
       "      <th>hdi_97.5%</th>\n",
       "    </tr>\n",
       "  </thead>\n",
       "  <tbody>\n",
       "    <tr>\n",
       "      <th>mu</th>\n",
       "      <td>2.427</td>\n",
       "      <td>1.085</td>\n",
       "      <td>0.378</td>\n",
       "      <td>4.434</td>\n",
       "      <td>0.008</td>\n",
       "      <td>0.006</td>\n",
       "      <td>17454.0</td>\n",
       "      <td>16639.0</td>\n",
       "      <td>17461.0</td>\n",
       "      <td>14601.0</td>\n",
       "      <td>1.0</td>\n",
       "      <td>0.321</td>\n",
       "      <td>4.553</td>\n",
       "    </tr>\n",
       "    <tr>\n",
       "      <th>alpha2</th>\n",
       "      <td>0.057</td>\n",
       "      <td>0.972</td>\n",
       "      <td>-1.689</td>\n",
       "      <td>1.970</td>\n",
       "      <td>0.006</td>\n",
       "      <td>0.007</td>\n",
       "      <td>27958.0</td>\n",
       "      <td>10118.0</td>\n",
       "      <td>27981.0</td>\n",
       "      <td>15530.0</td>\n",
       "      <td>1.0</td>\n",
       "      <td>-1.856</td>\n",
       "      <td>1.959</td>\n",
       "    </tr>\n",
       "    <tr>\n",
       "      <th>alpha3</th>\n",
       "      <td>0.102</td>\n",
       "      <td>0.962</td>\n",
       "      <td>-1.654</td>\n",
       "      <td>1.953</td>\n",
       "      <td>0.006</td>\n",
       "      <td>0.007</td>\n",
       "      <td>27518.0</td>\n",
       "      <td>10682.0</td>\n",
       "      <td>27485.0</td>\n",
       "      <td>15232.0</td>\n",
       "      <td>1.0</td>\n",
       "      <td>-1.766</td>\n",
       "      <td>1.996</td>\n",
       "    </tr>\n",
       "    <tr>\n",
       "      <th>alpha4</th>\n",
       "      <td>0.158</td>\n",
       "      <td>0.964</td>\n",
       "      <td>-1.661</td>\n",
       "      <td>1.958</td>\n",
       "      <td>0.006</td>\n",
       "      <td>0.007</td>\n",
       "      <td>30313.0</td>\n",
       "      <td>10545.0</td>\n",
       "      <td>30314.0</td>\n",
       "      <td>15572.0</td>\n",
       "      <td>1.0</td>\n",
       "      <td>-1.760</td>\n",
       "      <td>2.033</td>\n",
       "    </tr>\n",
       "    <tr>\n",
       "      <th>sigma</th>\n",
       "      <td>16.241</td>\n",
       "      <td>2.138</td>\n",
       "      <td>12.448</td>\n",
       "      <td>20.348</td>\n",
       "      <td>0.016</td>\n",
       "      <td>0.012</td>\n",
       "      <td>17266.0</td>\n",
       "      <td>17266.0</td>\n",
       "      <td>17022.0</td>\n",
       "      <td>14461.0</td>\n",
       "      <td>1.0</td>\n",
       "      <td>12.538</td>\n",
       "      <td>20.935</td>\n",
       "    </tr>\n",
       "    <tr>\n",
       "      <th>alpha1</th>\n",
       "      <td>-0.317</td>\n",
       "      <td>1.601</td>\n",
       "      <td>-3.270</td>\n",
       "      <td>2.760</td>\n",
       "      <td>0.009</td>\n",
       "      <td>0.011</td>\n",
       "      <td>30737.0</td>\n",
       "      <td>11046.0</td>\n",
       "      <td>30758.0</td>\n",
       "      <td>15896.0</td>\n",
       "      <td>1.0</td>\n",
       "      <td>-3.440</td>\n",
       "      <td>2.841</td>\n",
       "    </tr>\n",
       "    <tr>\n",
       "      <th>a1-a2</th>\n",
       "      <td>-0.374</td>\n",
       "      <td>2.285</td>\n",
       "      <td>-4.663</td>\n",
       "      <td>3.914</td>\n",
       "      <td>0.013</td>\n",
       "      <td>0.016</td>\n",
       "      <td>30231.0</td>\n",
       "      <td>10665.0</td>\n",
       "      <td>30239.0</td>\n",
       "      <td>15848.0</td>\n",
       "      <td>1.0</td>\n",
       "      <td>-4.849</td>\n",
       "      <td>4.110</td>\n",
       "    </tr>\n",
       "    <tr>\n",
       "      <th>a1-a3</th>\n",
       "      <td>-0.419</td>\n",
       "      <td>2.274</td>\n",
       "      <td>-4.599</td>\n",
       "      <td>3.991</td>\n",
       "      <td>0.013</td>\n",
       "      <td>0.015</td>\n",
       "      <td>29452.0</td>\n",
       "      <td>11092.0</td>\n",
       "      <td>29465.0</td>\n",
       "      <td>15846.0</td>\n",
       "      <td>1.0</td>\n",
       "      <td>-4.925</td>\n",
       "      <td>4.059</td>\n",
       "    </tr>\n",
       "    <tr>\n",
       "      <th>a1-a4</th>\n",
       "      <td>-0.475</td>\n",
       "      <td>2.287</td>\n",
       "      <td>-4.822</td>\n",
       "      <td>3.769</td>\n",
       "      <td>0.013</td>\n",
       "      <td>0.016</td>\n",
       "      <td>31153.0</td>\n",
       "      <td>10730.0</td>\n",
       "      <td>31199.0</td>\n",
       "      <td>15740.0</td>\n",
       "      <td>1.0</td>\n",
       "      <td>-4.911</td>\n",
       "      <td>4.056</td>\n",
       "    </tr>\n",
       "    <tr>\n",
       "      <th>a2-a3</th>\n",
       "      <td>-0.045</td>\n",
       "      <td>1.409</td>\n",
       "      <td>-2.618</td>\n",
       "      <td>2.672</td>\n",
       "      <td>0.009</td>\n",
       "      <td>0.010</td>\n",
       "      <td>26664.0</td>\n",
       "      <td>10495.0</td>\n",
       "      <td>26658.0</td>\n",
       "      <td>15470.0</td>\n",
       "      <td>1.0</td>\n",
       "      <td>-2.813</td>\n",
       "      <td>2.714</td>\n",
       "    </tr>\n",
       "    <tr>\n",
       "      <th>a2-a4</th>\n",
       "      <td>-0.101</td>\n",
       "      <td>1.393</td>\n",
       "      <td>-2.652</td>\n",
       "      <td>2.561</td>\n",
       "      <td>0.009</td>\n",
       "      <td>0.010</td>\n",
       "      <td>26810.0</td>\n",
       "      <td>10476.0</td>\n",
       "      <td>26801.0</td>\n",
       "      <td>15545.0</td>\n",
       "      <td>1.0</td>\n",
       "      <td>-2.809</td>\n",
       "      <td>2.621</td>\n",
       "    </tr>\n",
       "    <tr>\n",
       "      <th>a3-a4</th>\n",
       "      <td>-0.055</td>\n",
       "      <td>1.384</td>\n",
       "      <td>-2.607</td>\n",
       "      <td>2.570</td>\n",
       "      <td>0.008</td>\n",
       "      <td>0.010</td>\n",
       "      <td>28759.0</td>\n",
       "      <td>10374.0</td>\n",
       "      <td>28798.0</td>\n",
       "      <td>15198.0</td>\n",
       "      <td>1.0</td>\n",
       "      <td>-2.734</td>\n",
       "      <td>2.654</td>\n",
       "    </tr>\n",
       "  </tbody>\n",
       "</table>\n",
       "</div>"
      ],
      "text/plain": [
       "          mean     sd  hdi_3%  hdi_97%  mcse_mean  mcse_sd  ess_mean   ess_sd  \\\n",
       "mu       2.427  1.085   0.378    4.434      0.008    0.006   17454.0  16639.0   \n",
       "alpha2   0.057  0.972  -1.689    1.970      0.006    0.007   27958.0  10118.0   \n",
       "alpha3   0.102  0.962  -1.654    1.953      0.006    0.007   27518.0  10682.0   \n",
       "alpha4   0.158  0.964  -1.661    1.958      0.006    0.007   30313.0  10545.0   \n",
       "sigma   16.241  2.138  12.448   20.348      0.016    0.012   17266.0  17266.0   \n",
       "alpha1  -0.317  1.601  -3.270    2.760      0.009    0.011   30737.0  11046.0   \n",
       "a1-a2   -0.374  2.285  -4.663    3.914      0.013    0.016   30231.0  10665.0   \n",
       "a1-a3   -0.419  2.274  -4.599    3.991      0.013    0.015   29452.0  11092.0   \n",
       "a1-a4   -0.475  2.287  -4.822    3.769      0.013    0.016   31153.0  10730.0   \n",
       "a2-a3   -0.045  1.409  -2.618    2.672      0.009    0.010   26664.0  10495.0   \n",
       "a2-a4   -0.101  1.393  -2.652    2.561      0.009    0.010   26810.0  10476.0   \n",
       "a3-a4   -0.055  1.384  -2.607    2.570      0.008    0.010   28759.0  10374.0   \n",
       "\n",
       "        ess_bulk  ess_tail  r_hat  hdi_2.5%  hdi_97.5%  \n",
       "mu       17461.0   14601.0    1.0     0.321      4.553  \n",
       "alpha2   27981.0   15530.0    1.0    -1.856      1.959  \n",
       "alpha3   27485.0   15232.0    1.0    -1.766      1.996  \n",
       "alpha4   30314.0   15572.0    1.0    -1.760      2.033  \n",
       "sigma    17022.0   14461.0    1.0    12.538     20.935  \n",
       "alpha1   30758.0   15896.0    1.0    -3.440      2.841  \n",
       "a1-a2    30239.0   15848.0    1.0    -4.849      4.110  \n",
       "a1-a3    29465.0   15846.0    1.0    -4.925      4.059  \n",
       "a1-a4    31199.0   15740.0    1.0    -4.911      4.056  \n",
       "a2-a3    26658.0   15470.0    1.0    -2.813      2.714  \n",
       "a2-a4    26801.0   15545.0    1.0    -2.809      2.621  \n",
       "a3-a4    28798.0   15198.0    1.0    -2.734      2.654  "
      ]
     },
     "execution_count": 18,
     "metadata": {},
     "output_type": "execute_result"
    }
   ],
   "source": [
    "az.summary(trace_anova, stat_funcs={\"hdi_2.5%\": lambda x:np.percentile(x, 2.5), \"hdi_97.5%\": lambda x : np.percentile(x, 97.5)})"
   ]
  },
  {
   "cell_type": "markdown",
   "metadata": {},
   "source": [
    "Do different concentrations of MgNH4PO4 affect the average attained height of chrysanthemums?\n",
    "\n",
    "Based on the above table, we could see the differences between alphas. These differences all cover 0 which means different treatments more likely do not affect the average attained height of chrysanthemums."
   ]
  },
  {
   "cell_type": "markdown",
   "metadata": {},
   "source": [
    "## (b) Find the 95% credible set for the contrast μ1 − μ2 − μ3 + μ4."
   ]
  },
  {
   "cell_type": "code",
   "execution_count": 19,
   "metadata": {},
   "outputs": [
    {
     "name": "stderr",
     "output_type": "stream",
     "text": [
      "Auto-assigning NUTS sampler...\n",
      "Initializing NUTS using adapt_diag...\n",
      "Multiprocess sampling (4 chains in 4 jobs)\n",
      "NUTS: [alpha4, alpha3, alpha2, sigma, mu]\n"
     ]
    },
    {
     "data": {
      "text/html": [
       "\n",
       "    <div>\n",
       "        <style>\n",
       "            /* Turns off some styling */\n",
       "            progress {\n",
       "                /* gets rid of default border in Firefox and Opera. */\n",
       "                border: none;\n",
       "                /* Needs to be in here for Safari polyfill so background images work as expected. */\n",
       "                background-size: auto;\n",
       "            }\n",
       "            .progress-bar-interrupted, .progress-bar-interrupted::-webkit-progress-bar {\n",
       "                background: #F44336;\n",
       "            }\n",
       "        </style>\n",
       "      <progress value='40000' class='' max='40000' style='width:300px; height:20px; vertical-align: middle;'></progress>\n",
       "      100.00% [40000/40000 00:23<00:00 Sampling 4 chains, 0 divergences]\n",
       "    </div>\n",
       "    "
      ],
      "text/plain": [
       "<IPython.core.display.HTML object>"
      ]
     },
     "metadata": {},
     "output_type": "display_data"
    },
    {
     "name": "stderr",
     "output_type": "stream",
     "text": [
      "Sampling 4 chains for 5_000 tune and 5_000 draw iterations (20_000 + 20_000 draws total) took 32 seconds.\n"
     ]
    }
   ],
   "source": [
    "with ANOVA:\n",
    "    mu_differences = pm.Deterministic(\"μ1−μ2−μ3+μ4\", (mu+alpha1) - (mu+alpha2) - (mu+alpha3) + (mu+alpha4) )\n",
    "    trace_mu_differences = pm.sample(5000, tune=5000, init='adapt_diag')"
   ]
  },
  {
   "cell_type": "code",
   "execution_count": 20,
   "metadata": {},
   "outputs": [
    {
     "name": "stderr",
     "output_type": "stream",
     "text": [
      "/opt/anaconda3/lib/python3.7/site-packages/arviz/data/io_pymc3.py:91: FutureWarning: Using `from_pymc3` without the model will be deprecated in a future release. Not using the model will return less accurate and less useful results. Make sure you use the model argument or call from_pymc3 within a model context.\n",
      "  FutureWarning,\n"
     ]
    },
    {
     "data": {
      "text/html": [
       "<div>\n",
       "<style scoped>\n",
       "    .dataframe tbody tr th:only-of-type {\n",
       "        vertical-align: middle;\n",
       "    }\n",
       "\n",
       "    .dataframe tbody tr th {\n",
       "        vertical-align: top;\n",
       "    }\n",
       "\n",
       "    .dataframe thead th {\n",
       "        text-align: right;\n",
       "    }\n",
       "</style>\n",
       "<table border=\"1\" class=\"dataframe\">\n",
       "  <thead>\n",
       "    <tr style=\"text-align: right;\">\n",
       "      <th></th>\n",
       "      <th>mean</th>\n",
       "      <th>sd</th>\n",
       "      <th>hdi_3%</th>\n",
       "      <th>hdi_97%</th>\n",
       "      <th>mcse_mean</th>\n",
       "      <th>mcse_sd</th>\n",
       "      <th>ess_mean</th>\n",
       "      <th>ess_sd</th>\n",
       "      <th>ess_bulk</th>\n",
       "      <th>ess_tail</th>\n",
       "      <th>r_hat</th>\n",
       "      <th>hdi_2.5%</th>\n",
       "      <th>hdi_97.5%</th>\n",
       "    </tr>\n",
       "  </thead>\n",
       "  <tbody>\n",
       "    <tr>\n",
       "      <th>mu</th>\n",
       "      <td>2.431</td>\n",
       "      <td>1.070</td>\n",
       "      <td>0.479</td>\n",
       "      <td>4.483</td>\n",
       "      <td>0.008</td>\n",
       "      <td>0.006</td>\n",
       "      <td>18756.0</td>\n",
       "      <td>17889.0</td>\n",
       "      <td>18746.0</td>\n",
       "      <td>16089.0</td>\n",
       "      <td>1.0</td>\n",
       "      <td>0.331</td>\n",
       "      <td>4.497</td>\n",
       "    </tr>\n",
       "    <tr>\n",
       "      <th>alpha2</th>\n",
       "      <td>0.052</td>\n",
       "      <td>0.971</td>\n",
       "      <td>-1.748</td>\n",
       "      <td>1.897</td>\n",
       "      <td>0.006</td>\n",
       "      <td>0.007</td>\n",
       "      <td>27182.0</td>\n",
       "      <td>9812.0</td>\n",
       "      <td>27181.0</td>\n",
       "      <td>15304.0</td>\n",
       "      <td>1.0</td>\n",
       "      <td>-1.862</td>\n",
       "      <td>1.946</td>\n",
       "    </tr>\n",
       "    <tr>\n",
       "      <th>alpha3</th>\n",
       "      <td>0.104</td>\n",
       "      <td>0.978</td>\n",
       "      <td>-1.703</td>\n",
       "      <td>1.947</td>\n",
       "      <td>0.006</td>\n",
       "      <td>0.007</td>\n",
       "      <td>26466.0</td>\n",
       "      <td>10612.0</td>\n",
       "      <td>26470.0</td>\n",
       "      <td>14907.0</td>\n",
       "      <td>1.0</td>\n",
       "      <td>-1.800</td>\n",
       "      <td>2.007</td>\n",
       "    </tr>\n",
       "    <tr>\n",
       "      <th>alpha4</th>\n",
       "      <td>0.162</td>\n",
       "      <td>0.971</td>\n",
       "      <td>-1.652</td>\n",
       "      <td>1.978</td>\n",
       "      <td>0.007</td>\n",
       "      <td>0.006</td>\n",
       "      <td>20756.0</td>\n",
       "      <td>11464.0</td>\n",
       "      <td>20765.0</td>\n",
       "      <td>15920.0</td>\n",
       "      <td>1.0</td>\n",
       "      <td>-1.721</td>\n",
       "      <td>2.068</td>\n",
       "    </tr>\n",
       "    <tr>\n",
       "      <th>sigma</th>\n",
       "      <td>16.228</td>\n",
       "      <td>2.131</td>\n",
       "      <td>12.434</td>\n",
       "      <td>20.276</td>\n",
       "      <td>0.016</td>\n",
       "      <td>0.011</td>\n",
       "      <td>17872.0</td>\n",
       "      <td>17872.0</td>\n",
       "      <td>17655.0</td>\n",
       "      <td>14169.0</td>\n",
       "      <td>1.0</td>\n",
       "      <td>12.573</td>\n",
       "      <td>20.920</td>\n",
       "    </tr>\n",
       "    <tr>\n",
       "      <th>alpha1</th>\n",
       "      <td>-0.318</td>\n",
       "      <td>1.634</td>\n",
       "      <td>-3.391</td>\n",
       "      <td>2.697</td>\n",
       "      <td>0.010</td>\n",
       "      <td>0.011</td>\n",
       "      <td>26951.0</td>\n",
       "      <td>10936.0</td>\n",
       "      <td>26919.0</td>\n",
       "      <td>15512.0</td>\n",
       "      <td>1.0</td>\n",
       "      <td>-3.510</td>\n",
       "      <td>2.845</td>\n",
       "    </tr>\n",
       "    <tr>\n",
       "      <th>a1-a2</th>\n",
       "      <td>-0.370</td>\n",
       "      <td>2.324</td>\n",
       "      <td>-4.827</td>\n",
       "      <td>3.944</td>\n",
       "      <td>0.014</td>\n",
       "      <td>0.016</td>\n",
       "      <td>27645.0</td>\n",
       "      <td>10479.0</td>\n",
       "      <td>27633.0</td>\n",
       "      <td>15421.0</td>\n",
       "      <td>1.0</td>\n",
       "      <td>-4.955</td>\n",
       "      <td>4.153</td>\n",
       "    </tr>\n",
       "    <tr>\n",
       "      <th>a1-a3</th>\n",
       "      <td>-0.423</td>\n",
       "      <td>2.329</td>\n",
       "      <td>-4.769</td>\n",
       "      <td>3.881</td>\n",
       "      <td>0.014</td>\n",
       "      <td>0.016</td>\n",
       "      <td>27860.0</td>\n",
       "      <td>10827.0</td>\n",
       "      <td>27869.0</td>\n",
       "      <td>15191.0</td>\n",
       "      <td>1.0</td>\n",
       "      <td>-4.938</td>\n",
       "      <td>4.088</td>\n",
       "    </tr>\n",
       "    <tr>\n",
       "      <th>a1-a4</th>\n",
       "      <td>-0.481</td>\n",
       "      <td>2.315</td>\n",
       "      <td>-4.933</td>\n",
       "      <td>3.740</td>\n",
       "      <td>0.015</td>\n",
       "      <td>0.015</td>\n",
       "      <td>24277.0</td>\n",
       "      <td>11300.0</td>\n",
       "      <td>24279.0</td>\n",
       "      <td>15715.0</td>\n",
       "      <td>1.0</td>\n",
       "      <td>-5.008</td>\n",
       "      <td>4.065</td>\n",
       "    </tr>\n",
       "    <tr>\n",
       "      <th>a2-a3</th>\n",
       "      <td>-0.052</td>\n",
       "      <td>1.392</td>\n",
       "      <td>-2.641</td>\n",
       "      <td>2.575</td>\n",
       "      <td>0.009</td>\n",
       "      <td>0.010</td>\n",
       "      <td>26296.0</td>\n",
       "      <td>10330.0</td>\n",
       "      <td>26357.0</td>\n",
       "      <td>15717.0</td>\n",
       "      <td>1.0</td>\n",
       "      <td>-2.786</td>\n",
       "      <td>2.668</td>\n",
       "    </tr>\n",
       "    <tr>\n",
       "      <th>a2-a4</th>\n",
       "      <td>-0.110</td>\n",
       "      <td>1.395</td>\n",
       "      <td>-2.741</td>\n",
       "      <td>2.486</td>\n",
       "      <td>0.009</td>\n",
       "      <td>0.010</td>\n",
       "      <td>22736.0</td>\n",
       "      <td>10619.0</td>\n",
       "      <td>22738.0</td>\n",
       "      <td>15147.0</td>\n",
       "      <td>1.0</td>\n",
       "      <td>-2.866</td>\n",
       "      <td>2.598</td>\n",
       "    </tr>\n",
       "    <tr>\n",
       "      <th>a3-a4</th>\n",
       "      <td>-0.058</td>\n",
       "      <td>1.404</td>\n",
       "      <td>-2.758</td>\n",
       "      <td>2.511</td>\n",
       "      <td>0.009</td>\n",
       "      <td>0.010</td>\n",
       "      <td>21936.0</td>\n",
       "      <td>10874.0</td>\n",
       "      <td>21939.0</td>\n",
       "      <td>15360.0</td>\n",
       "      <td>1.0</td>\n",
       "      <td>-2.786</td>\n",
       "      <td>2.702</td>\n",
       "    </tr>\n",
       "    <tr>\n",
       "      <th>μ1−μ2−μ3+μ4</th>\n",
       "      <td>-0.312</td>\n",
       "      <td>2.730</td>\n",
       "      <td>-5.334</td>\n",
       "      <td>4.952</td>\n",
       "      <td>0.017</td>\n",
       "      <td>0.019</td>\n",
       "      <td>27359.0</td>\n",
       "      <td>10512.0</td>\n",
       "      <td>27357.0</td>\n",
       "      <td>14806.0</td>\n",
       "      <td>1.0</td>\n",
       "      <td>-5.659</td>\n",
       "      <td>5.032</td>\n",
       "    </tr>\n",
       "  </tbody>\n",
       "</table>\n",
       "</div>"
      ],
      "text/plain": [
       "               mean     sd  hdi_3%  hdi_97%  mcse_mean  mcse_sd  ess_mean  \\\n",
       "mu            2.431  1.070   0.479    4.483      0.008    0.006   18756.0   \n",
       "alpha2        0.052  0.971  -1.748    1.897      0.006    0.007   27182.0   \n",
       "alpha3        0.104  0.978  -1.703    1.947      0.006    0.007   26466.0   \n",
       "alpha4        0.162  0.971  -1.652    1.978      0.007    0.006   20756.0   \n",
       "sigma        16.228  2.131  12.434   20.276      0.016    0.011   17872.0   \n",
       "alpha1       -0.318  1.634  -3.391    2.697      0.010    0.011   26951.0   \n",
       "a1-a2        -0.370  2.324  -4.827    3.944      0.014    0.016   27645.0   \n",
       "a1-a3        -0.423  2.329  -4.769    3.881      0.014    0.016   27860.0   \n",
       "a1-a4        -0.481  2.315  -4.933    3.740      0.015    0.015   24277.0   \n",
       "a2-a3        -0.052  1.392  -2.641    2.575      0.009    0.010   26296.0   \n",
       "a2-a4        -0.110  1.395  -2.741    2.486      0.009    0.010   22736.0   \n",
       "a3-a4        -0.058  1.404  -2.758    2.511      0.009    0.010   21936.0   \n",
       "μ1−μ2−μ3+μ4  -0.312  2.730  -5.334    4.952      0.017    0.019   27359.0   \n",
       "\n",
       "              ess_sd  ess_bulk  ess_tail  r_hat  hdi_2.5%  hdi_97.5%  \n",
       "mu           17889.0   18746.0   16089.0    1.0     0.331      4.497  \n",
       "alpha2        9812.0   27181.0   15304.0    1.0    -1.862      1.946  \n",
       "alpha3       10612.0   26470.0   14907.0    1.0    -1.800      2.007  \n",
       "alpha4       11464.0   20765.0   15920.0    1.0    -1.721      2.068  \n",
       "sigma        17872.0   17655.0   14169.0    1.0    12.573     20.920  \n",
       "alpha1       10936.0   26919.0   15512.0    1.0    -3.510      2.845  \n",
       "a1-a2        10479.0   27633.0   15421.0    1.0    -4.955      4.153  \n",
       "a1-a3        10827.0   27869.0   15191.0    1.0    -4.938      4.088  \n",
       "a1-a4        11300.0   24279.0   15715.0    1.0    -5.008      4.065  \n",
       "a2-a3        10330.0   26357.0   15717.0    1.0    -2.786      2.668  \n",
       "a2-a4        10619.0   22738.0   15147.0    1.0    -2.866      2.598  \n",
       "a3-a4        10874.0   21939.0   15360.0    1.0    -2.786      2.702  \n",
       "μ1−μ2−μ3+μ4  10512.0   27357.0   14806.0    1.0    -5.659      5.032  "
      ]
     },
     "execution_count": 20,
     "metadata": {},
     "output_type": "execute_result"
    }
   ],
   "source": [
    "az.summary(trace_mu_differences, stat_funcs={\"hdi_2.5%\": lambda x:np.percentile(x, 2.5), \"hdi_97.5%\": lambda x : np.percentile(x, 97.5)})"
   ]
  },
  {
   "cell_type": "code",
   "execution_count": 43,
   "metadata": {},
   "outputs": [
    {
     "name": "stdout",
     "output_type": "stream",
     "text": [
      "95% credible set of μ1−μ2−μ3+μ4 : [-5.659 , 5.032]\n"
     ]
    }
   ],
   "source": [
    "print(\"95% credible set of μ1−μ2−μ3+μ4 : [{} , {}]\".format(-5.659, 5.032) )"
   ]
  },
  {
   "cell_type": "markdown",
   "metadata": {},
   "source": [
    "This scenario is to test $H_0 : \\mu_1 + \\mu_4 = \\mu_3 + \\mu_2 = 0$ VS. $H_1 : \\mu_1 + \\mu_4 \\neq \\mu_2 + \\mu_3$\n",
    "\n",
    "$(\\mu_1+\\mu_4) - (\\mu_2+\\mu_3)$ still covers 0. So two treatments which are added together more likely do not show difference of heights.  "
   ]
  },
  {
   "cell_type": "markdown",
   "metadata": {},
   "source": [
    "# Hocking–Pendleton Data\n",
    "\n",
    "This popular data set was constructed by Hocking and Pendelton (1982) to illustrate influential and outlier observations in regression. The data are organized as a matrix of size 26 × 4; the predictors $x_1$ , $x_2$ , and $x_3$ are the first three columns, and the response y is the fourth column. The data are given in hockpend.dat"
   ]
  },
  {
   "cell_type": "code",
   "execution_count": 22,
   "metadata": {},
   "outputs": [],
   "source": [
    "df3 = pd.read_csv(\"hockpend.dat\", sep=\"\\t\", header=None).rename(columns={0:\"x1\", 1:\"x2\", 2:\"x3\", 3: \"y\"})"
   ]
  },
  {
   "cell_type": "code",
   "execution_count": 23,
   "metadata": {},
   "outputs": [
    {
     "data": {
      "text/html": [
       "<div>\n",
       "<style scoped>\n",
       "    .dataframe tbody tr th:only-of-type {\n",
       "        vertical-align: middle;\n",
       "    }\n",
       "\n",
       "    .dataframe tbody tr th {\n",
       "        vertical-align: top;\n",
       "    }\n",
       "\n",
       "    .dataframe thead th {\n",
       "        text-align: right;\n",
       "    }\n",
       "</style>\n",
       "<table border=\"1\" class=\"dataframe\">\n",
       "  <thead>\n",
       "    <tr style=\"text-align: right;\">\n",
       "      <th></th>\n",
       "      <th>x1</th>\n",
       "      <th>x2</th>\n",
       "      <th>x3</th>\n",
       "      <th>y</th>\n",
       "    </tr>\n",
       "  </thead>\n",
       "  <tbody>\n",
       "    <tr>\n",
       "      <th>0</th>\n",
       "      <td>12.980</td>\n",
       "      <td>0.317</td>\n",
       "      <td>9.998</td>\n",
       "      <td>57.702</td>\n",
       "    </tr>\n",
       "    <tr>\n",
       "      <th>1</th>\n",
       "      <td>14.295</td>\n",
       "      <td>2.028</td>\n",
       "      <td>6.776</td>\n",
       "      <td>59.295</td>\n",
       "    </tr>\n",
       "    <tr>\n",
       "      <th>2</th>\n",
       "      <td>15.531</td>\n",
       "      <td>5.305</td>\n",
       "      <td>2.947</td>\n",
       "      <td>55.166</td>\n",
       "    </tr>\n",
       "    <tr>\n",
       "      <th>3</th>\n",
       "      <td>15.133</td>\n",
       "      <td>4.738</td>\n",
       "      <td>4.201</td>\n",
       "      <td>55.767</td>\n",
       "    </tr>\n",
       "    <tr>\n",
       "      <th>4</th>\n",
       "      <td>15.342</td>\n",
       "      <td>7.038</td>\n",
       "      <td>2.053</td>\n",
       "      <td>51.722</td>\n",
       "    </tr>\n",
       "  </tbody>\n",
       "</table>\n",
       "</div>"
      ],
      "text/plain": [
       "       x1     x2     x3       y\n",
       "0  12.980  0.317  9.998  57.702\n",
       "1  14.295  2.028  6.776  59.295\n",
       "2  15.531  5.305  2.947  55.166\n",
       "3  15.133  4.738  4.201  55.767\n",
       "4  15.342  7.038  2.053  51.722"
      ]
     },
     "execution_count": 23,
     "metadata": {},
     "output_type": "execute_result"
    }
   ],
   "source": [
    "df3.head()"
   ]
  },
  {
   "cell_type": "markdown",
   "metadata": {},
   "source": [
    "## (a) Fit the linear regression model with the three covariates, report the parameter estimates and Bayesian $R^2$"
   ]
  },
  {
   "cell_type": "code",
   "execution_count": 24,
   "metadata": {
    "scrolled": false
   },
   "outputs": [
    {
     "name": "stderr",
     "output_type": "stream",
     "text": [
      "Auto-assigning NUTS sampler...\n",
      "Initializing NUTS using adapt_diag...\n",
      "Multiprocess sampling (4 chains in 4 jobs)\n",
      "NUTS: [sd, x3, x2, x1, Intercept]\n"
     ]
    },
    {
     "data": {
      "text/html": [
       "\n",
       "    <div>\n",
       "        <style>\n",
       "            /* Turns off some styling */\n",
       "            progress {\n",
       "                /* gets rid of default border in Firefox and Opera. */\n",
       "                border: none;\n",
       "                /* Needs to be in here for Safari polyfill so background images work as expected. */\n",
       "                background-size: auto;\n",
       "            }\n",
       "            .progress-bar-interrupted, .progress-bar-interrupted::-webkit-progress-bar {\n",
       "                background: #F44336;\n",
       "            }\n",
       "        </style>\n",
       "      <progress value='40000' class='' max='40000' style='width:300px; height:20px; vertical-align: middle;'></progress>\n",
       "      100.00% [40000/40000 01:21<00:00 Sampling 4 chains, 2,095 divergences]\n",
       "    </div>\n",
       "    "
      ],
      "text/plain": [
       "<IPython.core.display.HTML object>"
      ]
     },
     "metadata": {},
     "output_type": "display_data"
    },
    {
     "name": "stderr",
     "output_type": "stream",
     "text": [
      "Sampling 4 chains for 5_000 tune and 5_000 draw iterations (20_000 + 20_000 draws total) took 90 seconds.\n",
      "There were 249 divergences after tuning. Increase `target_accept` or reparameterize.\n",
      "There were 125 divergences after tuning. Increase `target_accept` or reparameterize.\n",
      "There were 1695 divergences after tuning. Increase `target_accept` or reparameterize.\n",
      "The acceptance probability does not match the target. It is 0.4309795324404258, but should be close to 0.8. Try to increase the number of tuning steps.\n",
      "There were 26 divergences after tuning. Increase `target_accept` or reparameterize.\n",
      "The rhat statistic is larger than 1.05 for some parameters. This indicates slight problems during sampling.\n",
      "The estimated number of effective samples is smaller than 200 for some parameters.\n"
     ]
    },
    {
     "data": {
      "text/html": [
       "\n",
       "    <div>\n",
       "        <style>\n",
       "            /* Turns off some styling */\n",
       "            progress {\n",
       "                /* gets rid of default border in Firefox and Opera. */\n",
       "                border: none;\n",
       "                /* Needs to be in here for Safari polyfill so background images work as expected. */\n",
       "                background-size: auto;\n",
       "            }\n",
       "            .progress-bar-interrupted, .progress-bar-interrupted::-webkit-progress-bar {\n",
       "                background: #F44336;\n",
       "            }\n",
       "        </style>\n",
       "      <progress value='20000' class='' max='20000' style='width:300px; height:20px; vertical-align: middle;'></progress>\n",
       "      100.00% [20000/20000 00:20<00:00]\n",
       "    </div>\n",
       "    "
      ],
      "text/plain": [
       "<IPython.core.display.HTML object>"
      ]
     },
     "metadata": {},
     "output_type": "display_data"
    }
   ],
   "source": [
    "with pm.Model() as linear_model:\n",
    "    pm.glm.linear.GLM(y=df3[\"y\"], x= df3[[\"x1\", \"x2\", \"x3\"]], intercept=True, \n",
    "                      family=pm.glm.families.Normal())\n",
    "    trace_lm = pm.sample(5000, tune=5000, init='adapt_diag')\n",
    "    posterior_predictive_lm = pm.sample_posterior_predictive(trace_lm)"
   ]
  },
  {
   "cell_type": "code",
   "execution_count": 25,
   "metadata": {
    "scrolled": false
   },
   "outputs": [
    {
     "name": "stderr",
     "output_type": "stream",
     "text": [
      "/opt/anaconda3/lib/python3.7/site-packages/arviz/data/io_pymc3.py:91: FutureWarning: Using `from_pymc3` without the model will be deprecated in a future release. Not using the model will return less accurate and less useful results. Make sure you use the model argument or call from_pymc3 within a model context.\n",
      "  FutureWarning,\n"
     ]
    },
    {
     "data": {
      "text/html": [
       "<div>\n",
       "<style scoped>\n",
       "    .dataframe tbody tr th:only-of-type {\n",
       "        vertical-align: middle;\n",
       "    }\n",
       "\n",
       "    .dataframe tbody tr th {\n",
       "        vertical-align: top;\n",
       "    }\n",
       "\n",
       "    .dataframe thead th {\n",
       "        text-align: right;\n",
       "    }\n",
       "</style>\n",
       "<table border=\"1\" class=\"dataframe\">\n",
       "  <thead>\n",
       "    <tr style=\"text-align: right;\">\n",
       "      <th></th>\n",
       "      <th>mean</th>\n",
       "      <th>sd</th>\n",
       "      <th>hdi_3%</th>\n",
       "      <th>hdi_97%</th>\n",
       "      <th>mcse_mean</th>\n",
       "      <th>mcse_sd</th>\n",
       "      <th>ess_mean</th>\n",
       "      <th>ess_sd</th>\n",
       "      <th>ess_bulk</th>\n",
       "      <th>ess_tail</th>\n",
       "      <th>r_hat</th>\n",
       "    </tr>\n",
       "  </thead>\n",
       "  <tbody>\n",
       "    <tr>\n",
       "      <th>Intercept</th>\n",
       "      <td>9.303</td>\n",
       "      <td>9.702</td>\n",
       "      <td>-9.351</td>\n",
       "      <td>25.252</td>\n",
       "      <td>1.588</td>\n",
       "      <td>1.132</td>\n",
       "      <td>37.0</td>\n",
       "      <td>37.0</td>\n",
       "      <td>37.0</td>\n",
       "      <td>784.0</td>\n",
       "      <td>1.07</td>\n",
       "    </tr>\n",
       "    <tr>\n",
       "      <th>x1</th>\n",
       "      <td>3.399</td>\n",
       "      <td>0.547</td>\n",
       "      <td>2.505</td>\n",
       "      <td>4.487</td>\n",
       "      <td>0.085</td>\n",
       "      <td>0.060</td>\n",
       "      <td>42.0</td>\n",
       "      <td>42.0</td>\n",
       "      <td>41.0</td>\n",
       "      <td>1411.0</td>\n",
       "      <td>1.06</td>\n",
       "    </tr>\n",
       "    <tr>\n",
       "      <th>x2</th>\n",
       "      <td>-1.461</td>\n",
       "      <td>0.251</td>\n",
       "      <td>-1.874</td>\n",
       "      <td>-0.972</td>\n",
       "      <td>0.027</td>\n",
       "      <td>0.019</td>\n",
       "      <td>86.0</td>\n",
       "      <td>86.0</td>\n",
       "      <td>86.0</td>\n",
       "      <td>745.0</td>\n",
       "      <td>1.03</td>\n",
       "    </tr>\n",
       "    <tr>\n",
       "      <th>x3</th>\n",
       "      <td>0.318</td>\n",
       "      <td>0.280</td>\n",
       "      <td>-0.162</td>\n",
       "      <td>0.840</td>\n",
       "      <td>0.040</td>\n",
       "      <td>0.029</td>\n",
       "      <td>48.0</td>\n",
       "      <td>48.0</td>\n",
       "      <td>47.0</td>\n",
       "      <td>644.0</td>\n",
       "      <td>1.06</td>\n",
       "    </tr>\n",
       "    <tr>\n",
       "      <th>sd</th>\n",
       "      <td>2.638</td>\n",
       "      <td>0.438</td>\n",
       "      <td>1.847</td>\n",
       "      <td>3.406</td>\n",
       "      <td>0.043</td>\n",
       "      <td>0.031</td>\n",
       "      <td>102.0</td>\n",
       "      <td>102.0</td>\n",
       "      <td>76.0</td>\n",
       "      <td>47.0</td>\n",
       "      <td>1.03</td>\n",
       "    </tr>\n",
       "  </tbody>\n",
       "</table>\n",
       "</div>"
      ],
      "text/plain": [
       "            mean     sd  hdi_3%  hdi_97%  mcse_mean  mcse_sd  ess_mean  \\\n",
       "Intercept  9.303  9.702  -9.351   25.252      1.588    1.132      37.0   \n",
       "x1         3.399  0.547   2.505    4.487      0.085    0.060      42.0   \n",
       "x2        -1.461  0.251  -1.874   -0.972      0.027    0.019      86.0   \n",
       "x3         0.318  0.280  -0.162    0.840      0.040    0.029      48.0   \n",
       "sd         2.638  0.438   1.847    3.406      0.043    0.031     102.0   \n",
       "\n",
       "           ess_sd  ess_bulk  ess_tail  r_hat  \n",
       "Intercept    37.0      37.0     784.0   1.07  \n",
       "x1           42.0      41.0    1411.0   1.06  \n",
       "x2           86.0      86.0     745.0   1.03  \n",
       "x3           48.0      47.0     644.0   1.06  \n",
       "sd          102.0      76.0      47.0   1.03  "
      ]
     },
     "execution_count": 25,
     "metadata": {},
     "output_type": "execute_result"
    }
   ],
   "source": [
    "az.summary(trace_lm)"
   ]
  },
  {
   "cell_type": "markdown",
   "metadata": {},
   "source": [
    "There are five estimated parameters. The estimated coefficients of the intercept, $x_1$, $x_2$, $x_3$ and standard deviation are 9.303, 3.399, -1.461, 0.318 and 2.638, respectively."
   ]
  },
  {
   "cell_type": "code",
   "execution_count": 26,
   "metadata": {
    "scrolled": true
   },
   "outputs": [
    {
     "name": "stdout",
     "output_type": "stream",
     "text": [
      "Mean of BR2:  0.7605379992456223\n",
      "Standard deviation of BR2:  0.061840177107345136\n"
     ]
    }
   ],
   "source": [
    "r2_scores = []\n",
    "y_true = df3[\"y\"]\n",
    "for i in range(len(posterior_predictive_lm[\"y\"])):\n",
    "    y_pred = posterior_predictive_lm[\"y\"][i]\n",
    "    r2 = az.r2_score(y_true, y_pred)[0]\n",
    "    r2_scores.append(r2)\n",
    "print(\"Mean of BR2: \", np.mean(r2_scores))\n",
    "print(\"Standard deviation of BR2: \", np.std(r2_scores))"
   ]
  },
  {
   "cell_type": "markdown",
   "metadata": {},
   "source": [
    "## (b) Is any of the 26 observations influential or outlier (in the sense of CPO and cumulative)?"
   ]
  },
  {
   "cell_type": "markdown",
   "metadata": {},
   "source": [
    "### Cumulative"
   ]
  },
  {
   "cell_type": "markdown",
   "metadata": {},
   "source": [
    "We use Cumulative to check whether each data point is an outlier. The concpt is to use the distribution defined in each iteration and then we will check where the observed value locates in its cumulative distribution. So after simulation, we could see the means of each data point. If the data point is close to 1 or 0, it is more likely to conclude it is an outlier.\n",
    "\n",
    "Based on the above samples, our model is:\n",
    "\n",
    "$y_i = \\beta_0 + \\beta_1 * x_{i1} + \\beta_2 * x_{i2} + \\beta_3 * x_{i3} + \\epsilon_i,\\ where\\ \\epsilon_i \\sim N(0, \\sigma^2),\\ i = 1, 2, \\dots, 26$\n",
    "\n",
    "And, we define each coefficient except $\\beta_0$ as $N(0, 10^{-5})$. As for the intercept, we use the Flat prior.\n",
    "\n",
    "$y_i \\sim N(\\beta_0 + \\beta_1 * x_{i1} + \\beta_2 * x_{i2} + \\beta_3 * x_{i3}, \\eta=sd^{2})$"
   ]
  },
  {
   "cell_type": "code",
   "execution_count": 27,
   "metadata": {},
   "outputs": [],
   "source": [
    "from scipy.stats import norm"
   ]
  },
  {
   "cell_type": "code",
   "execution_count": 28,
   "metadata": {
    "scrolled": true
   },
   "outputs": [
    {
     "data": {
      "text/html": [
       "<div>\n",
       "<style scoped>\n",
       "    .dataframe tbody tr th:only-of-type {\n",
       "        vertical-align: middle;\n",
       "    }\n",
       "\n",
       "    .dataframe tbody tr th {\n",
       "        vertical-align: top;\n",
       "    }\n",
       "\n",
       "    .dataframe thead th {\n",
       "        text-align: right;\n",
       "    }\n",
       "</style>\n",
       "<table border=\"1\" class=\"dataframe\">\n",
       "  <thead>\n",
       "    <tr style=\"text-align: right;\">\n",
       "      <th></th>\n",
       "      <th>Intercept</th>\n",
       "      <th>x1</th>\n",
       "      <th>x2</th>\n",
       "      <th>x3</th>\n",
       "      <th>sd</th>\n",
       "    </tr>\n",
       "  </thead>\n",
       "  <tbody>\n",
       "    <tr>\n",
       "      <th>0</th>\n",
       "      <td>5.601625</td>\n",
       "      <td>3.622686</td>\n",
       "      <td>-1.233575</td>\n",
       "      <td>0.274603</td>\n",
       "      <td>2.855812</td>\n",
       "    </tr>\n",
       "    <tr>\n",
       "      <th>1</th>\n",
       "      <td>7.631317</td>\n",
       "      <td>3.312460</td>\n",
       "      <td>-1.100052</td>\n",
       "      <td>0.625191</td>\n",
       "      <td>2.919152</td>\n",
       "    </tr>\n",
       "    <tr>\n",
       "      <th>2</th>\n",
       "      <td>5.730193</td>\n",
       "      <td>3.375129</td>\n",
       "      <td>-0.908699</td>\n",
       "      <td>0.620648</td>\n",
       "      <td>2.695725</td>\n",
       "    </tr>\n",
       "    <tr>\n",
       "      <th>3</th>\n",
       "      <td>5.979099</td>\n",
       "      <td>3.553475</td>\n",
       "      <td>-1.339585</td>\n",
       "      <td>0.523389</td>\n",
       "      <td>3.046800</td>\n",
       "    </tr>\n",
       "    <tr>\n",
       "      <th>4</th>\n",
       "      <td>3.279882</td>\n",
       "      <td>3.805025</td>\n",
       "      <td>-1.496413</td>\n",
       "      <td>0.331836</td>\n",
       "      <td>2.304360</td>\n",
       "    </tr>\n",
       "  </tbody>\n",
       "</table>\n",
       "</div>"
      ],
      "text/plain": [
       "   Intercept        x1        x2        x3        sd\n",
       "0   5.601625  3.622686 -1.233575  0.274603  2.855812\n",
       "1   7.631317  3.312460 -1.100052  0.625191  2.919152\n",
       "2   5.730193  3.375129 -0.908699  0.620648  2.695725\n",
       "3   5.979099  3.553475 -1.339585  0.523389  3.046800\n",
       "4   3.279882  3.805025 -1.496413  0.331836  2.304360"
      ]
     },
     "execution_count": 28,
     "metadata": {},
     "output_type": "execute_result"
    }
   ],
   "source": [
    "df_trace = pm.backends.tracetab.trace_to_dataframe(trace_lm)\n",
    "df_trace.head()"
   ]
  },
  {
   "cell_type": "code",
   "execution_count": 29,
   "metadata": {},
   "outputs": [],
   "source": [
    "cuy = np.zeros(26)\n",
    "\n",
    "for i in range(df_trace.shape[0]):\n",
    "    intercept = df_trace.iloc[i, 0]\n",
    "    b1 = df_trace.iloc[i, 1]\n",
    "    b2 = df_trace.iloc[i, 2]\n",
    "    b3 = df_trace.iloc[i, 3]\n",
    "    sd = df_trace.iloc[i, 4]\n",
    "    for j in range(26):\n",
    "        obs = df3[\"y\"][j]\n",
    "        cuy[j] += norm.cdf(obs, loc=intercept + b1 * df3[\"x1\"][j] + b2 * df3[\"x2\"][j] + b3 * df3[\"x3\"][j], scale=sd) "
   ]
  },
  {
   "cell_type": "code",
   "execution_count": 30,
   "metadata": {},
   "outputs": [],
   "source": [
    "outlier_check = cuy / df_trace.shape[0]"
   ]
  },
  {
   "cell_type": "code",
   "execution_count": 31,
   "metadata": {},
   "outputs": [
    {
     "data": {
      "text/plain": [
       "array([0.70828015, 0.79224846, 0.48248859, 0.5920942 , 0.4845708 ,\n",
       "       0.72007163, 0.69536282, 0.39574399, 0.66401189, 0.69294881,\n",
       "       0.22093436, 0.52572268, 0.62230292, 0.3701755 , 0.00388224,\n",
       "       0.36372404, 0.94331224, 0.03018092, 0.30486989, 0.77054044,\n",
       "       0.53216637, 0.68297244, 0.56086072, 0.5843513 , 0.47637694,\n",
       "       0.40871561])"
      ]
     },
     "execution_count": 31,
     "metadata": {},
     "output_type": "execute_result"
    }
   ],
   "source": [
    "outlier_check"
   ]
  },
  {
   "cell_type": "code",
   "execution_count": 32,
   "metadata": {},
   "outputs": [
    {
     "data": {
      "text/plain": [
       "array([0.00388224, 0.03018092])"
      ]
     },
     "execution_count": 32,
     "metadata": {},
     "output_type": "execute_result"
    }
   ],
   "source": [
    "outlier_check[outlier_check<0.1]"
   ]
  },
  {
   "cell_type": "code",
   "execution_count": 33,
   "metadata": {},
   "outputs": [
    {
     "data": {
      "text/plain": [
       "array([0.94331224])"
      ]
     },
     "execution_count": 33,
     "metadata": {},
     "output_type": "execute_result"
    }
   ],
   "source": [
    "outlier_check[outlier_check>0.9]"
   ]
  },
  {
   "cell_type": "code",
   "execution_count": 45,
   "metadata": {},
   "outputs": [
    {
     "data": {
      "text/plain": [
       "array([15])"
      ]
     },
     "execution_count": 45,
     "metadata": {},
     "output_type": "execute_result"
    }
   ],
   "source": [
    "np.where(outlier_check==0.0038822393888119306)[0]+1"
   ]
  },
  {
   "cell_type": "code",
   "execution_count": 46,
   "metadata": {},
   "outputs": [
    {
     "data": {
      "text/plain": [
       "array([18])"
      ]
     },
     "execution_count": 46,
     "metadata": {},
     "output_type": "execute_result"
    }
   ],
   "source": [
    "np.where(outlier_check== 0.030180919979533604)[0]+1"
   ]
  },
  {
   "cell_type": "code",
   "execution_count": 47,
   "metadata": {},
   "outputs": [
    {
     "data": {
      "text/plain": [
       "array([17])"
      ]
     },
     "execution_count": 47,
     "metadata": {},
     "output_type": "execute_result"
    }
   ],
   "source": [
    "np.where(outlier_check==0.9433122366137262)[0]+1"
   ]
  },
  {
   "cell_type": "markdown",
   "metadata": {},
   "source": [
    "Originally, I chose the $\\alpha = 0.2$ and found the 15th, 17th and 18th observations are more likely outliers since the means of these observations are either too close to 0 and 1. \n",
    "\n",
    "If we choose the smaller confidence level, like we change $\\alpha$ to $\\alpha=0.05$, the obvious outlier is the 15th data point. "
   ]
  },
  {
   "cell_type": "markdown",
   "metadata": {},
   "source": [
    "## (c) Find the mean response and prediction response for a new observation with covariates $x^{*}_1 = 10$, $x^{*}_2 = 5$, and $x^{*}_3 = 5$. Report the corresponding 95% credible sets"
   ]
  },
  {
   "cell_type": "code",
   "execution_count": 37,
   "metadata": {},
   "outputs": [],
   "source": [
    "new_df = pd.DataFrame({\"x1\":[10], \"x2\": [5], \"x3\": [5], \"y\":[4.813 + 3.648 * 10 + (-1.400) * 5 + 0.420 * 5]})"
   ]
  },
  {
   "cell_type": "code",
   "execution_count": 38,
   "metadata": {
    "scrolled": false
   },
   "outputs": [
    {
     "name": "stderr",
     "output_type": "stream",
     "text": [
      "Auto-assigning NUTS sampler...\n",
      "Initializing NUTS using adapt_diag...\n",
      "Multiprocess sampling (4 chains in 4 jobs)\n",
      "NUTS: [sd, x3, x2, x1, Intercept]\n"
     ]
    },
    {
     "data": {
      "text/html": [
       "\n",
       "    <div>\n",
       "        <style>\n",
       "            /* Turns off some styling */\n",
       "            progress {\n",
       "                /* gets rid of default border in Firefox and Opera. */\n",
       "                border: none;\n",
       "                /* Needs to be in here for Safari polyfill so background images work as expected. */\n",
       "                background-size: auto;\n",
       "            }\n",
       "            .progress-bar-interrupted, .progress-bar-interrupted::-webkit-progress-bar {\n",
       "                background: #F44336;\n",
       "            }\n",
       "        </style>\n",
       "      <progress value='40000' class='' max='40000' style='width:300px; height:20px; vertical-align: middle;'></progress>\n",
       "      100.00% [40000/40000 00:29<00:00 Sampling 4 chains, 10,446 divergences]\n",
       "    </div>\n",
       "    "
      ],
      "text/plain": [
       "<IPython.core.display.HTML object>"
      ]
     },
     "metadata": {},
     "output_type": "display_data"
    },
    {
     "name": "stderr",
     "output_type": "stream",
     "text": [
      "Sampling 4 chains for 5_000 tune and 5_000 draw iterations (20_000 + 20_000 draws total) took 39 seconds.\n",
      "There were 2345 divergences after tuning. Increase `target_accept` or reparameterize.\n",
      "The acceptance probability does not match the target. It is 0.3403953364767104, but should be close to 0.8. Try to increase the number of tuning steps.\n",
      "There were 1798 divergences after tuning. Increase `target_accept` or reparameterize.\n",
      "The acceptance probability does not match the target. It is 0.44437999849911075, but should be close to 0.8. Try to increase the number of tuning steps.\n",
      "There were 3543 divergences after tuning. Increase `target_accept` or reparameterize.\n",
      "The acceptance probability does not match the target. It is 0.05906703653418209, but should be close to 0.8. Try to increase the number of tuning steps.\n",
      "There were 2760 divergences after tuning. Increase `target_accept` or reparameterize.\n",
      "The acceptance probability does not match the target. It is 0.30560815998471047, but should be close to 0.8. Try to increase the number of tuning steps.\n",
      "The rhat statistic is larger than 1.4 for some parameters. The sampler did not converge.\n",
      "The estimated number of effective samples is smaller than 200 for some parameters.\n"
     ]
    },
    {
     "data": {
      "text/html": [
       "\n",
       "    <div>\n",
       "        <style>\n",
       "            /* Turns off some styling */\n",
       "            progress {\n",
       "                /* gets rid of default border in Firefox and Opera. */\n",
       "                border: none;\n",
       "                /* Needs to be in here for Safari polyfill so background images work as expected. */\n",
       "                background-size: auto;\n",
       "            }\n",
       "            .progress-bar-interrupted, .progress-bar-interrupted::-webkit-progress-bar {\n",
       "                background: #F44336;\n",
       "            }\n",
       "        </style>\n",
       "      <progress value='20000' class='' max='20000' style='width:300px; height:20px; vertical-align: middle;'></progress>\n",
       "      100.00% [20000/20000 00:19<00:00]\n",
       "    </div>\n",
       "    "
      ],
      "text/plain": [
       "<IPython.core.display.HTML object>"
      ]
     },
     "metadata": {},
     "output_type": "display_data"
    }
   ],
   "source": [
    "with pm.Model() as lm_pred:    \n",
    "    pm.glm.linear.GLM(y=new_df[\"y\"],\n",
    "                      x=new_df[[\"x1\", \"x2\", \"x3\"]], intercept=True, \n",
    "                      priors={'Intercept':pm.Normal.dist(mu=0, sigma=10.0)},\n",
    "                      family=pm.glm.families.Normal())\n",
    "    trace_lm_p = pm.sample(5000, tune=5000, init='adapt_diag')\n",
    "    df = pm.trace_to_dataframe(trace_lm, include_transformed=True)\n",
    "    ppc = pm.sample_posterior_predictive(trace=df.to_dict('records'),samples=len(df))"
   ]
  },
  {
   "cell_type": "markdown",
   "metadata": {},
   "source": [
    "Prediction response:\n",
    "\n",
    "This means the result is derived based on inputs and coefficients."
   ]
  },
  {
   "cell_type": "code",
   "execution_count": 1,
   "metadata": {},
   "outputs": [
    {
     "data": {
      "text/plain": [
       "36.39300000000001"
      ]
     },
     "execution_count": 1,
     "metadata": {},
     "output_type": "execute_result"
    }
   ],
   "source": [
    "4.813 + 3.648 * 10 + (-1.400) * 5 + 0.420 * 5"
   ]
  },
  {
   "cell_type": "markdown",
   "metadata": {},
   "source": [
    "Mean response:\n",
    "\n",
    "This means that based on each iteration, we get estimated coefficients and then have multiple response values. We take expectation on these values."
   ]
  },
  {
   "cell_type": "code",
   "execution_count": 40,
   "metadata": {},
   "outputs": [
    {
     "data": {
      "text/plain": [
       "37.576426132208155"
      ]
     },
     "execution_count": 40,
     "metadata": {},
     "output_type": "execute_result"
    }
   ],
   "source": [
    "ppc[\"y\"].mean()"
   ]
  },
  {
   "cell_type": "code",
   "execution_count": 41,
   "metadata": {
    "scrolled": true
   },
   "outputs": [
    {
     "name": "stderr",
     "output_type": "stream",
     "text": [
      "/opt/anaconda3/lib/python3.7/site-packages/arviz/stats/stats.py:487: FutureWarning: hdi currently interprets 2d data as (draw, shape) but this will change in a future release to (chain, draw) for coherence with other functions\n",
      "  FutureWarning,\n"
     ]
    },
    {
     "data": {
      "text/plain": [
       "array([[29.97973519, 44.50649613]])"
      ]
     },
     "execution_count": 41,
     "metadata": {},
     "output_type": "execute_result"
    }
   ],
   "source": [
    "az.hdi(ppc[\"y\"], hdi_prob=0.95)"
   ]
  },
  {
   "cell_type": "markdown",
   "metadata": {},
   "source": [
    "The prediction response is 36.39300000000001.\n",
    "\n",
    "The mean response is 37.576426132208155 and the 95\\% credible set is between 29.97973519 and 44.50649613."
   ]
  }
 ],
 "metadata": {
  "kernelspec": {
   "display_name": "Python 3",
   "language": "python",
   "name": "python3"
  },
  "language_info": {
   "codemirror_mode": {
    "name": "ipython",
    "version": 3
   },
   "file_extension": ".py",
   "mimetype": "text/x-python",
   "name": "python",
   "nbconvert_exporter": "python",
   "pygments_lexer": "ipython3",
   "version": "3.7.4"
  }
 },
 "nbformat": 4,
 "nbformat_minor": 4
}
