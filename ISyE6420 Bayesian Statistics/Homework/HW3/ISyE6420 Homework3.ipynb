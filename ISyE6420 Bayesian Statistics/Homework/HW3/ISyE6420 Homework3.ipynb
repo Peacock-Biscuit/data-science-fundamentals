{
 "cells": [
  {
   "cell_type": "markdown",
   "metadata": {},
   "source": [
    "# ISyE 6420 Bayesian Statistics Homework3"
   ]
  },
  {
   "cell_type": "code",
   "execution_count": 2,
   "metadata": {},
   "outputs": [],
   "source": [
    "import numpy as np\n",
    "import pandas as pd\n",
    "import matplotlib.pyplot as plt\n",
    "%matplotlib inline"
   ]
  },
  {
   "cell_type": "markdown",
   "metadata": {},
   "source": [
    "## 1. Maxwell\n",
    "(c) Using MATLAB/Octave/R/Python to calculate the 95% equitailed credible set for θ."
   ]
  },
  {
   "cell_type": "code",
   "execution_count": 64,
   "metadata": {},
   "outputs": [
    {
     "data": {
      "image/png": "[encoded data removed]",
      "text/plain": [
       "<Figure size 432x288 with 1 Axes>"
      ]
     },
     "metadata": {
      "needs_background": "light"
     },
     "output_type": "display_data"
    }
   ],
   "source": [
    "# Plot pdf to know range\n",
    "from scipy.stats import gamma\n",
    "fig, ax = plt.subplots(1, 1)\n",
    "alpha = 11/2\n",
    "beta = 0.10626993\n",
    "x = np.linspace(gamma.ppf(0.01, a=alpha, scale=beta), gamma.ppf(0.99, a=alpha, scale=beta), 100)\n",
    "\n",
    "ax.plot(x, gamma.pdf(x, a=alpha, scale=beta))\n",
    "plt.axvline(x=gamma.ppf(0.025, a=alpha, scale=beta),color='r')\n",
    "plt.axvline(x=gamma.ppf(0.975, a=alpha, scale=beta),color='r')\n",
    "plt.title(\"Gamma 95% Equitailed Credible Sets\")\n",
    "plt.show()"
   ]
  },
  {
   "cell_type": "code",
   "execution_count": 37,
   "metadata": {},
   "outputs": [
    {
     "name": "stdout",
     "output_type": "stream",
     "text": [
      "theta range in 95% Equitailed Credible Set:[0.2027496498313763, 1.1647210502826375]\n"
     ]
    }
   ],
   "source": [
    "print(\"theta range in 95% Equitailed Credible Set:[{}, {}]\".format(gamma.ppf(0.025, a=alpha, scale=beta), \n",
    "                                                                   gamma.ppf(0.975, a=alpha, scale=beta)))"
   ]
  },
  {
   "cell_type": "markdown",
   "metadata": {},
   "source": [
    "(d) Find a prediction for a future single observation. "
   ]
  },
  {
   "cell_type": "code",
   "execution_count": 45,
   "metadata": {},
   "outputs": [
    {
     "data": {
      "text/plain": [
       "(0.013203651633076267, 5.038286154500041e-11)"
      ]
     },
     "execution_count": 45,
     "metadata": {},
     "output_type": "execute_result"
    }
   ],
   "source": [
    "from scipy.integrate import quad\n",
    "def integrand(theta):\n",
    "    return (2/np.pi ** 1.5) * theta ** 4.5 * 1.4 ** 2 * 3.1 ** 2 * 2.5 ** 2 * np.exp(-(theta/2)*(1.4**2+3.1**2+2.5**2))\n",
    "\n",
    "quad(integrand, 0, np.inf)"
   ]
  },
  {
   "cell_type": "markdown",
   "metadata": {},
   "source": [
    "## 3. Mendel’s Experiment with Peas"
   ]
  },
  {
   "cell_type": "markdown",
   "metadata": {},
   "source": [
    "(b) Find posterior probability of hypothesis H0 : p ≤ 3/4?"
   ]
  },
  {
   "cell_type": "code",
   "execution_count": 68,
   "metadata": {},
   "outputs": [
    {
     "data": {
      "text/plain": [
       "0.7758595145276612"
      ]
     },
     "execution_count": 68,
     "metadata": {},
     "output_type": "execute_result"
    }
   ],
   "source": [
    "from scipy.stats import beta\n",
    "# beta(787+12, 1064-787+4)\n",
    "beta.cdf(3/4, 787+12, 1064-787+4, loc=0, scale=1)"
   ]
  },
  {
   "cell_type": "markdown",
   "metadata": {},
   "source": [
    "(c) Find a 95% equitailed credible set for the true proportion of tall height plants obtained\n",
    "from the given cross."
   ]
  },
  {
   "cell_type": "code",
   "execution_count": 74,
   "metadata": {
    "scrolled": true
   },
   "outputs": [
    {
     "data": {
      "image/png": "[encoded data removed]",
      "text/plain": [
       "<Figure size 432x288 with 1 Axes>"
      ]
     },
     "metadata": {
      "needs_background": "light"
     },
     "output_type": "display_data"
    }
   ],
   "source": [
    "# Plot pdf to know range\n",
    "fig3, ax3 = plt.subplots(1, 1)\n",
    "xx = np.linspace(0, 1, 100)\n",
    "a=787+12\n",
    "b=1064-787+4\n",
    "ax3.plot(xx, beta.pdf(xx, a, b))\n",
    "plt.axvline(x=beta.ppf(0.025, a, b),color='r')\n",
    "plt.axvline(x=beta.ppf(0.975, a, b),color='r')\n",
    "plt.title(\"Beta 95% Equitailed Credible Sets\")\n",
    "plt.show()"
   ]
  },
  {
   "cell_type": "code",
   "execution_count": 70,
   "metadata": {
    "scrolled": true
   },
   "outputs": [
    {
     "name": "stdout",
     "output_type": "stream",
     "text": [
      "p range in 95% Equitailed Credible Set:[0.7132478379195061, 0.7655405496526497]\n"
     ]
    }
   ],
   "source": [
    "print(\"p range in 95% Equitailed Credible Set:[{}, {}]\".format(beta.ppf(0.025, a, b), beta.ppf(0.975, a, b)))"
   ]
  },
  {
   "cell_type": "code",
   "execution_count": null,
   "metadata": {},
   "outputs": [],
   "source": [
    "# non relevent"
   ]
  },
  {
   "cell_type": "code",
   "execution_count": 86,
   "metadata": {},
   "outputs": [
    {
     "data": {
      "text/plain": [
       "0.0254298486096767"
      ]
     },
     "execution_count": 86,
     "metadata": {},
     "output_type": "execute_result"
    }
   ],
   "source": [
    "1/100*np.sqrt(2 * np.pi) * np.exp(0.0144)"
   ]
  },
  {
   "cell_type": "code",
   "execution_count": 96,
   "metadata": {},
   "outputs": [
    {
     "data": {
      "text/plain": [
       "0.18521228665820208"
      ]
     },
     "execution_count": 96,
     "metadata": {},
     "output_type": "execute_result"
    }
   ],
   "source": [
    "np.exp(0.0000431)* 1/(np.sqrt(2 * np.pi * 46400)) * 100"
   ]
  },
  {
   "cell_type": "code",
   "execution_count": 99,
   "metadata": {},
   "outputs": [
    {
     "data": {
      "text/plain": [
       "82.8792"
      ]
     },
     "execution_count": 99,
     "metadata": {},
     "output_type": "execute_result"
    }
   ],
   "source": [
    "0.81 * (80**2 / (80**2+60**2) * 98 + 60 ** 2 / (80**2+60**2) * 110) "
   ]
  },
  {
   "cell_type": "code",
   "execution_count": 100,
   "metadata": {},
   "outputs": [
    {
     "data": {
      "text/plain": [
       "18.947586206896553"
      ]
     },
     "execution_count": 100,
     "metadata": {},
     "output_type": "execute_result"
    }
   ],
   "source": [
    "0.19 *(80**2/(80**2 + 200**2)*98 + 200**2/(80**2+200**2)*100)"
   ]
  },
  {
   "cell_type": "code",
   "execution_count": 102,
   "metadata": {},
   "outputs": [
    {
     "data": {
      "text/plain": [
       "101.82678620689654"
      ]
     },
     "execution_count": 102,
     "metadata": {},
     "output_type": "execute_result"
    }
   ],
   "source": [
    "82.8792 + 18.947586206896553"
   ]
  },
  {
   "cell_type": "code",
   "execution_count": null,
   "metadata": {},
   "outputs": [],
   "source": []
  }
 ],
 "metadata": {
  "kernelspec": {
   "display_name": "Python 3",
   "language": "python",
   "name": "python3"
  },
  "language_info": {
   "codemirror_mode": {
    "name": "ipython",
    "version": 3
   },
   "file_extension": ".py",
   "mimetype": "text/x-python",
   "name": "python",
   "nbconvert_exporter": "python",
   "pygments_lexer": "ipython3",
   "version": "3.7.4"
  }
 },
 "nbformat": 4,
 "nbformat_minor": 4
}
